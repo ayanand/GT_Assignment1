{
  "nbformat": 4,
  "nbformat_minor": 0,
  "metadata": {
    "colab": {
      "name": "Assignment_Imdb.ipynb",
      "provenance": [],
      "collapsed_sections": []
    },
    "kernelspec": {
      "name": "python3",
      "display_name": "Python 3"
    },
    "language_info": {
      "name": "python"
    }
  },
  "cells": [
    {
      "cell_type": "code",
      "metadata": {
        "colab": {
          "base_uri": "https://localhost:8080/"
        },
        "id": "qqNuqhkDasRt",
        "outputId": "7a34eb79-8c47-41df-9911-d3af123404fd"
      },
      "source": [
        "!wget https://ai.stanford.edu/~amaas/data/sentiment/aclImdb_v1.tar.gz"
      ],
      "execution_count": 1,
      "outputs": [
        {
          "output_type": "stream",
          "name": "stdout",
          "text": [
            "--2021-09-27 01:46:16--  https://ai.stanford.edu/~amaas/data/sentiment/aclImdb_v1.tar.gz\n",
            "Resolving ai.stanford.edu (ai.stanford.edu)... 171.64.68.10\n",
            "Connecting to ai.stanford.edu (ai.stanford.edu)|171.64.68.10|:443... connected.\n",
            "HTTP request sent, awaiting response... 200 OK\n",
            "Length: 84125825 (80M) [application/x-gzip]\n",
            "Saving to: ‘aclImdb_v1.tar.gz.7’\n",
            "\n",
            "aclImdb_v1.tar.gz.7 100%[===================>]  80.23M  20.2MB/s    in 5.0s    \n",
            "\n",
            "2021-09-27 01:46:21 (16.1 MB/s) - ‘aclImdb_v1.tar.gz.7’ saved [84125825/84125825]\n",
            "\n"
          ]
        }
      ]
    },
    {
      "cell_type": "code",
      "metadata": {
        "id": "JhvugsnmauRR"
      },
      "source": [
        "!tar -xf aclImdb_v1.tar.gz"
      ],
      "execution_count": 2,
      "outputs": []
    },
    {
      "cell_type": "code",
      "metadata": {
        "id": "PXTrwcsPawRX"
      },
      "source": [
        "from glob import glob\n",
        "pos_train = [(open(x).read(), 1) for x in glob('aclImdb/train/pos/*.txt')]\n",
        "neg_train = [(open(x).read(), 0) for x in glob('aclImdb/train/neg/*.txt')]\n",
        "X_train_text, y_train = zip(*(pos_train + neg_train))\n",
        "\n",
        "pos_test = [(open(x).read(), 1) for x in glob('aclImdb/test/pos/*.txt')]\n",
        "neg_test = [(open(x).read(), 0) for x in glob('aclImdb/test/neg/*.txt')]\n",
        "X_test_text, y_test = zip(*(pos_test + neg_test))\n",
        "\n",
        "import numpy as np\n",
        "y_train, y_test = np.array(y_train), np.array(y_test)"
      ],
      "execution_count": 3,
      "outputs": []
    },
    {
      "cell_type": "code",
      "metadata": {
        "colab": {
          "base_uri": "https://localhost:8080/"
        },
        "id": "qlzD2wTta3Ca",
        "outputId": "fe46307c-850b-445f-f24e-d6372b69df91"
      },
      "source": [
        "X_train_text[0], y_train[0]"
      ],
      "execution_count": 4,
      "outputs": [
        {
          "output_type": "execute_result",
          "data": {
            "text/plain": [
              "('Finally, after years of awaiting a new film to continue the sexual mayhem of \"Basic Instinct\", we have been given a great sequel that is packed with the right elements needed for a franchise such as this! I remember everything about the original, the steam, the romance, the sex, the interrogation, the music (by the master Jerry Goldsmith), and everything else from violence and murder, to intense confrontations of all kind! Make no mistake, \"Basic Instinct\" was a real winner for audiences everywhere. I can remember in 2001 when we were first given the news about such a sequel. Five years later, we have it. I never would have thought it to end up such as this. When it was declared a dropped project, time sure couldn\\'t tell if it was ever a real possibility to begin with. Well, I guess we now know anything\\'s possible in this case. Even if the original director, or writer are not present, all we need is the glamorous, always reliable Sharon Stone, and we have a done deal! Please, hear me out...<br /><br />When people say that this film is bad, I think it is only due to the fact that the style is extreme, and slightly dated. I use the word \"dated\" only because we have not seen a certain film of the like in many years, and audiences have become adapted to the pointless, boring storytelling seen in other movies that actually make money, and the only reason they make such big numbers is because those films are family friendly. Who needs hole some and clean? Of course it\\'s a pleasant thing to have, but c\\'mon! Escapism is really seldom these days, and \"Basic Instinct 2\" gives us real fans what we\\'ve been expecting. This film is not an Academy Award winner, nor does it try to be. It simply delivers the die-hard fans what they have been expecting. It\\'s a film for fun. Movies today seem to take themselves way too seriously, but this film is just loose and fun, not taking itself seriously, not too seriously anyway. That said, I shall evaluate the film.<br /><br />The film is a fast-paced film from the first second, as we see Cathernine Tremell in a car, speeding at 110 MPH-and enjoying lustful thrills doing so. Perhaps sex and driving does not mix, because our sexy novelist takes a bad turn and...well, she gets away unharmed, but her studly partner doesn\\'t fare too well. Once again, Tremell is the primary suspect of the accident, and will be put under analyst\\'s and psychiatrists. Dr. Michael Glass (Morrissey) is automatically drawn to to her from the first moment he meets her. Like another criminal investigator before him, he is entranced and seduced, slowly, and surely. His denial of it all begins to crumble around him as she weaves a spell only she has the power to do. Tramell is possibly more dangerous now, than she was before,but like the first one, we\\'ll never really know, will we? Once the seduction is in motion, jealousy, rage, drugs, and a plateful of erotic scenery ensues!<br /><br />This film does not recycle the first one, but rather mentions the previous films incidents briefly from time to time. This is a good thing. It lets us as an audience know that the script has been written to bring the level up a notch or two. Sharon Stone dazzles us again, as though 14 years has not come to pass. Her second run of the deceitful novelist is right on the spot as earlier. Just awesome! David Morrissey is well cast, and manages pretty well. The fact that a non-popular star was chosen, makes his performance all the more enjoyable because we as an audience have no background on him, just what we see him perform. My final thought-8.5 to 9 out of 10. So it\\'s not the first one, nor can it live up to the first ones prize winning place. It can, however, live up to the standards set by the first film, and it does folks! It does.',\n",
              " 1)"
            ]
          },
          "metadata": {},
          "execution_count": 4
        }
      ]
    },
    {
      "cell_type": "code",
      "metadata": {
        "colab": {
          "base_uri": "https://localhost:8080/"
        },
        "id": "2DDXzrWecuh8",
        "outputId": "fabc6e7f-7026-41b5-d21f-6848e4e8a7f0"
      },
      "source": [
        "!wget -c \"https://s3.amazonaws.com/dl4j-distribution/GoogleNews-vectors-negative300.bin.gz\"\n",
        "!gunzip GoogleNews-vectors-negative300.bin.gz"
      ],
      "execution_count": 5,
      "outputs": [
        {
          "output_type": "stream",
          "name": "stdout",
          "text": [
            "--2021-09-27 01:46:40--  https://s3.amazonaws.com/dl4j-distribution/GoogleNews-vectors-negative300.bin.gz\n",
            "Resolving s3.amazonaws.com (s3.amazonaws.com)... 52.217.91.86\n",
            "Connecting to s3.amazonaws.com (s3.amazonaws.com)|52.217.91.86|:443... connected.\n",
            "HTTP request sent, awaiting response... 416 Requested Range Not Satisfiable\n",
            "\n",
            "    The file is already fully retrieved; nothing to do.\n",
            "\n",
            "gzip: GoogleNews-vectors-negative300.bin already exists; do you wish to overwrite (y or n)? n\n",
            "\tnot overwritten\n"
          ]
        }
      ]
    },
    {
      "cell_type": "code",
      "metadata": {
        "colab": {
          "base_uri": "https://localhost:8080/"
        },
        "id": "TwOlAtRPbDiu",
        "outputId": "8260700f-db59-4da3-be85-53c51b93ae70"
      },
      "source": [
        "\n",
        "from gensim.models import KeyedVectors\n",
        "filename = 'GoogleNews-vectors-negative300.bin'\n",
        "w2v = KeyedVectors.load_word2vec_format(filename, binary=True)\n",
        "from nltk.tokenize import word_tokenize\n",
        "import nltk\n",
        "nltk.download('punkt')\n",
        "# takes a minute\n",
        "X_train = [[w2v.get_vector(word) for word in word_tokenize(x) if word in w2v.vocab] for x in X_train_text]\n",
        "X_test = [[w2v.get_vector(word) for word in word_tokenize(x) if word in w2v.vocab] for x in X_test_text]\n",
        "\n",
        "X_train = np.array([np.array(x).mean(axis=0) for x in X_train])\n",
        "X_test =  np.array([np.array(x).mean(axis=0) for x in X_test])"
      ],
      "execution_count": 6,
      "outputs": [
        {
          "output_type": "stream",
          "name": "stdout",
          "text": [
            "[nltk_data] Downloading package punkt to /root/nltk_data...\n",
            "[nltk_data]   Package punkt is already up-to-date!\n"
          ]
        }
      ]
    },
    {
      "cell_type": "markdown",
      "metadata": {
        "id": "dKRNXM9AyuQe"
      },
      "source": [
        "### **Decision Tree**"
      ]
    },
    {
      "cell_type": "code",
      "metadata": {
        "colab": {
          "base_uri": "https://localhost:8080/"
        },
        "id": "EQxk4k1veYRS",
        "outputId": "97854268-0c96-4023-aed1-b240ea73d1d0"
      },
      "source": [
        "from sklearn.tree import DecisionTreeClassifier\n",
        "\n",
        "tree_clf = DecisionTreeClassifier()\n",
        "tree_clf.fit(X_train, y_train)\n",
        "\n",
        "from sklearn.metrics import accuracy_score\n",
        "from sklearn.metrics import confusion_matrix\n",
        "\n",
        "y_test_pred = tree_clf.predict(X_test)\n",
        "confusion_matrix_valid = confusion_matrix(y_test, y_test_pred)\n",
        "print(confusion_matrix_valid) \n",
        "y_train_pred = tree_clf.predict(X_train)\n",
        "print(f'Train score {accuracy_score(y_train_pred,y_train)}')\n",
        "print(f'Test score {accuracy_score(y_test_pred,y_test)}')"
      ],
      "execution_count": 7,
      "outputs": [
        {
          "output_type": "stream",
          "name": "stdout",
          "text": [
            "[[8370 4130]\n",
            " [4241 8259]]\n",
            "Train score 1.0\n",
            "Test score 0.66516\n"
          ]
        }
      ]
    },
    {
      "cell_type": "code",
      "metadata": {
        "colab": {
          "base_uri": "https://localhost:8080/"
        },
        "id": "od2FAIPeegvd",
        "outputId": "867972e2-6dd2-4908-d91e-f92a4cd23ab1"
      },
      "source": [
        "from sklearn.model_selection import GridSearchCV \n",
        "\n",
        "\n",
        "\n",
        "param_test1 = {\n",
        "  'max_depth':(2,10,100,200,500,1000),\n",
        "  'max_features':(2,5,10,15,20,100),\n",
        "}\n",
        "gsearch1 = GridSearchCV(estimator = DecisionTreeClassifier(), param_grid = param_test1,scoring='accuracy', n_jobs=4, cv=5)\n",
        "gsearch1.fit(X_train, y_train)\n",
        "gsearch1.cv_results_"
      ],
      "execution_count": null,
      "outputs": [
        {
          "output_type": "execute_result",
          "data": {
            "text/plain": [
              "{'mean_fit_time': array([ 0.13825378,  0.13707108,  0.2346818 ,  0.3201427 ,  0.41125293,\n",
              "         1.8458714 ,  0.20539598,  0.43431067,  0.79345202,  1.16298428,\n",
              "         1.49593019,  7.29704647,  0.28697758,  0.56377439,  1.06250615,\n",
              "         1.51651525,  2.03256302, 10.42461486,  0.29837985,  0.57829556,\n",
              "         1.05961113,  1.52666054,  2.04503503, 10.26105556,  0.29038424,\n",
              "         0.57216759,  1.02879076,  1.52487168,  2.03712602, 10.38486595,\n",
              "         0.28587623,  0.58595009,  1.05072618,  1.54448404,  2.0218832 ,\n",
              "         8.90304193]),\n",
              " 'mean_score_time': array([0.00690246, 0.00725279, 0.0083096 , 0.00814366, 0.00741868,\n",
              "        0.00801725, 0.00836873, 0.00657129, 0.0102663 , 0.01051278,\n",
              "        0.01241922, 0.01273522, 0.01248612, 0.01224456, 0.01213551,\n",
              "        0.0116755 , 0.0113338 , 0.01108198, 0.0109488 , 0.01251154,\n",
              "        0.01242924, 0.01077933, 0.00882721, 0.01194453, 0.01148081,\n",
              "        0.00865955, 0.01204309, 0.01077657, 0.00966449, 0.00917287,\n",
              "        0.01233234, 0.01351328, 0.00953827, 0.00939293, 0.00940108,\n",
              "        0.00762396]),\n",
              " 'mean_test_score': array([0.59036, 0.597  , 0.62432, 0.62204, 0.62968, 0.6426 , 0.64376,\n",
              "        0.6558 , 0.668  , 0.67568, 0.6772 , 0.69104, 0.59872, 0.62708,\n",
              "        0.63996, 0.65124, 0.6486 , 0.66456, 0.605  , 0.6254 , 0.64008,\n",
              "        0.64312, 0.64844, 0.66136, 0.60848, 0.62192, 0.6384 , 0.64756,\n",
              "        0.6464 , 0.65932, 0.6046 , 0.62608, 0.63636, 0.6448 , 0.64988,\n",
              "        0.6708 ]),\n",
              " 'param_max_depth': masked_array(data=[2, 2, 2, 2, 2, 2, 10, 10, 10, 10, 10, 10, 100, 100,\n",
              "                    100, 100, 100, 100, 200, 200, 200, 200, 200, 200, 500,\n",
              "                    500, 500, 500, 500, 500, 1000, 1000, 1000, 1000, 1000,\n",
              "                    1000],\n",
              "              mask=[False, False, False, False, False, False, False, False,\n",
              "                    False, False, False, False, False, False, False, False,\n",
              "                    False, False, False, False, False, False, False, False,\n",
              "                    False, False, False, False, False, False, False, False,\n",
              "                    False, False, False, False],\n",
              "        fill_value='?',\n",
              "             dtype=object),\n",
              " 'param_max_features': masked_array(data=[2, 5, 10, 15, 20, 100, 2, 5, 10, 15, 20, 100, 2, 5, 10,\n",
              "                    15, 20, 100, 2, 5, 10, 15, 20, 100, 2, 5, 10, 15, 20,\n",
              "                    100, 2, 5, 10, 15, 20, 100],\n",
              "              mask=[False, False, False, False, False, False, False, False,\n",
              "                    False, False, False, False, False, False, False, False,\n",
              "                    False, False, False, False, False, False, False, False,\n",
              "                    False, False, False, False, False, False, False, False,\n",
              "                    False, False, False, False],\n",
              "        fill_value='?',\n",
              "             dtype=object),\n",
              " 'params': [{'max_depth': 2, 'max_features': 2},\n",
              "  {'max_depth': 2, 'max_features': 5},\n",
              "  {'max_depth': 2, 'max_features': 10},\n",
              "  {'max_depth': 2, 'max_features': 15},\n",
              "  {'max_depth': 2, 'max_features': 20},\n",
              "  {'max_depth': 2, 'max_features': 100},\n",
              "  {'max_depth': 10, 'max_features': 2},\n",
              "  {'max_depth': 10, 'max_features': 5},\n",
              "  {'max_depth': 10, 'max_features': 10},\n",
              "  {'max_depth': 10, 'max_features': 15},\n",
              "  {'max_depth': 10, 'max_features': 20},\n",
              "  {'max_depth': 10, 'max_features': 100},\n",
              "  {'max_depth': 100, 'max_features': 2},\n",
              "  {'max_depth': 100, 'max_features': 5},\n",
              "  {'max_depth': 100, 'max_features': 10},\n",
              "  {'max_depth': 100, 'max_features': 15},\n",
              "  {'max_depth': 100, 'max_features': 20},\n",
              "  {'max_depth': 100, 'max_features': 100},\n",
              "  {'max_depth': 200, 'max_features': 2},\n",
              "  {'max_depth': 200, 'max_features': 5},\n",
              "  {'max_depth': 200, 'max_features': 10},\n",
              "  {'max_depth': 200, 'max_features': 15},\n",
              "  {'max_depth': 200, 'max_features': 20},\n",
              "  {'max_depth': 200, 'max_features': 100},\n",
              "  {'max_depth': 500, 'max_features': 2},\n",
              "  {'max_depth': 500, 'max_features': 5},\n",
              "  {'max_depth': 500, 'max_features': 10},\n",
              "  {'max_depth': 500, 'max_features': 15},\n",
              "  {'max_depth': 500, 'max_features': 20},\n",
              "  {'max_depth': 500, 'max_features': 100},\n",
              "  {'max_depth': 1000, 'max_features': 2},\n",
              "  {'max_depth': 1000, 'max_features': 5},\n",
              "  {'max_depth': 1000, 'max_features': 10},\n",
              "  {'max_depth': 1000, 'max_features': 15},\n",
              "  {'max_depth': 1000, 'max_features': 20},\n",
              "  {'max_depth': 1000, 'max_features': 100}],\n",
              " 'rank_test_score': array([36, 35, 28, 29, 24, 19, 17,  9,  5,  3,  2,  1, 34, 25, 21, 10, 12,\n",
              "         6, 32, 27, 20, 18, 13,  7, 31, 30, 22, 14, 15,  8, 33, 26, 23, 16,\n",
              "        11,  4], dtype=int32),\n",
              " 'split0_test_score': array([0.5382, 0.6076, 0.6124, 0.6526, 0.6362, 0.6444, 0.6426, 0.6722,\n",
              "        0.6624, 0.6912, 0.6884, 0.6886, 0.616 , 0.6304, 0.6368, 0.668 ,\n",
              "        0.6424, 0.6724, 0.6014, 0.6318, 0.6472, 0.64  , 0.6584, 0.6652,\n",
              "        0.6076, 0.6206, 0.637 , 0.6588, 0.6476, 0.6678, 0.6102, 0.6304,\n",
              "        0.642 , 0.643 , 0.6492, 0.6846]),\n",
              " 'split1_test_score': array([0.6298, 0.6032, 0.6332, 0.624 , 0.6418, 0.6392, 0.6364, 0.6432,\n",
              "        0.6618, 0.6634, 0.6702, 0.685 , 0.593 , 0.615 , 0.6394, 0.647 ,\n",
              "        0.6514, 0.6574, 0.6012, 0.6258, 0.632 , 0.6406, 0.6392, 0.6554,\n",
              "        0.6082, 0.629 , 0.6296, 0.6464, 0.6422, 0.6496, 0.601 , 0.6204,\n",
              "        0.6364, 0.6424, 0.6486, 0.671 ]),\n",
              " 'split2_test_score': array([0.5668, 0.614 , 0.643 , 0.6056, 0.6402, 0.6468, 0.633 , 0.6628,\n",
              "        0.6714, 0.672 , 0.691 , 0.7014, 0.6012, 0.6326, 0.6544, 0.6564,\n",
              "        0.6518, 0.6688, 0.6056, 0.6212, 0.6474, 0.6554, 0.6426, 0.6576,\n",
              "        0.6106, 0.6062, 0.6386, 0.6498, 0.6478, 0.655 , 0.6014, 0.6278,\n",
              "        0.6294, 0.6458, 0.6526, 0.6728]),\n",
              " 'split3_test_score': array([0.6148, 0.572 , 0.6108, 0.624 , 0.6054, 0.6422, 0.6604, 0.6586,\n",
              "        0.676 , 0.6792, 0.676 , 0.6912, 0.5916, 0.6232, 0.6412, 0.6464,\n",
              "        0.6512, 0.6698, 0.6042, 0.6296, 0.6458, 0.6494, 0.6562, 0.6682,\n",
              "        0.6052, 0.6196, 0.6464, 0.6466, 0.658 , 0.6642, 0.6206, 0.6276,\n",
              "        0.64  , 0.6604, 0.647 , 0.6704]),\n",
              " 'split4_test_score': array([0.6022, 0.5882, 0.6222, 0.604 , 0.6248, 0.6404, 0.6464, 0.6422,\n",
              "        0.6684, 0.6726, 0.6604, 0.689 , 0.5918, 0.6342, 0.628 , 0.6384,\n",
              "        0.6462, 0.6544, 0.6126, 0.6186, 0.628 , 0.6302, 0.6458, 0.6604,\n",
              "        0.6108, 0.6342, 0.6404, 0.6362, 0.6364, 0.66  , 0.5898, 0.6242,\n",
              "        0.634 , 0.6324, 0.652 , 0.6552]),\n",
              " 'std_fit_time': array([0.03407543, 0.00335563, 0.00505353, 0.0039252 , 0.01149181,\n",
              "        0.00576122, 0.0054413 , 0.01214215, 0.01032154, 0.01428145,\n",
              "        0.02109174, 0.14400503, 0.00833092, 0.01040717, 0.01550626,\n",
              "        0.0739951 , 0.11244666, 0.16138518, 0.03835864, 0.01872554,\n",
              "        0.0182283 , 0.03297728, 0.0487105 , 0.30951194, 0.0064159 ,\n",
              "        0.01330639, 0.01535811, 0.01643595, 0.01704205, 0.20791757,\n",
              "        0.00726834, 0.02557944, 0.0175397 , 0.02064717, 0.03485034,\n",
              "        2.43152425]),\n",
              " 'std_score_time': array([0.00249176, 0.00315379, 0.00283167, 0.00349053, 0.00317994,\n",
              "        0.00351987, 0.00319005, 0.00301797, 0.00279502, 0.00292661,\n",
              "        0.00142964, 0.00121084, 0.00547781, 0.00047556, 0.00228831,\n",
              "        0.00374898, 0.00326493, 0.00324942, 0.00228617, 0.00014522,\n",
              "        0.00140174, 0.00277649, 0.00300991, 0.00400552, 0.00308302,\n",
              "        0.00317953, 0.00042102, 0.00497375, 0.00305767, 0.00311182,\n",
              "        0.00042053, 0.00446126, 0.00325927, 0.00391377, 0.00352069,\n",
              "        0.00373839]),\n",
              " 'std_test_score': array([0.0333729 , 0.0151145 , 0.01230584, 0.01753461, 0.01351598,\n",
              "        0.00273642, 0.00954099, 0.01157169, 0.00539481, 0.00924216,\n",
              "        0.01138912, 0.00554891, 0.00933861, 0.00711573, 0.00852516,\n",
              "        0.01013698, 0.00371591, 0.00723038, 0.00415114, 0.00495258,\n",
              "        0.00834515, 0.00864   , 0.00756138, 0.00473523, 0.00207307,\n",
              "        0.00954115, 0.00543029, 0.00724806, 0.00714983, 0.00647036,\n",
              "        0.01029174, 0.00345624, 0.00445134, 0.00902352, 0.0021113 ,\n",
              "        0.00935949])}"
            ]
          },
          "metadata": {},
          "execution_count": 12
        }
      ]
    },
    {
      "cell_type": "code",
      "metadata": {
        "id": "0_p81KJVe8S3",
        "colab": {
          "base_uri": "https://localhost:8080/"
        },
        "outputId": "985abc29-c331-4aef-9819-53a36795ec55"
      },
      "source": [
        "from sklearn.tree import DecisionTreeClassifier\n",
        "\n",
        "tree_clf = DecisionTreeClassifier(max_depth=10,max_features=100)\n",
        "tree_clf.fit(X_train, y_train)\n",
        "y_test_pred = tree_clf.predict(X_test)\n",
        "\n",
        "from sklearn.metrics import accuracy_score\n",
        "from sklearn.metrics import confusion_matrix\n",
        "\n",
        "y_test_pred = tree_clf.predict(X_test)\n",
        "confusion_matrix_valid = confusion_matrix(y_test, y_test_pred)\n",
        "print(confusion_matrix_valid) \n",
        "y_train_pred = tree_clf.predict(X_train)\n",
        "print(f'Train score {accuracy_score(y_train_pred,y_train)}')\n",
        "print(f'Test score {accuracy_score(y_test_pred,y_test)}')\n"
      ],
      "execution_count": 8,
      "outputs": [
        {
          "output_type": "stream",
          "name": "stdout",
          "text": [
            "[[9164 3336]\n",
            " [4245 8255]]\n",
            "Train score 0.86172\n",
            "Test score 0.69676\n"
          ]
        }
      ]
    },
    {
      "cell_type": "code",
      "metadata": {
        "colab": {
          "base_uri": "https://localhost:8080/"
        },
        "id": "jsFXp3OCfcDB",
        "outputId": "7cfd6ba9-21cb-409a-f0e2-5bf1803900a4"
      },
      "source": [
        "path = tree_clf.cost_complexity_pruning_path(X_train, y_train)\n",
        "ccp_alphas, impurities = path.ccp_alphas, path.impurities\n",
        "print(ccp_alphas[1:20], len(ccp_alphas))"
      ],
      "execution_count": null,
      "outputs": [
        {
          "output_type": "stream",
          "name": "stdout",
          "text": [
            "[3.42464040e-05 3.96765499e-05 4.01002506e-05 5.33333333e-05\n",
            " 5.33333333e-05 5.33333333e-05 5.33333333e-05 6.00000000e-05\n",
            " 6.00000000e-05 6.00000000e-05 6.00000000e-05 6.00000000e-05\n",
            " 6.00000000e-05 6.00000000e-05 6.00000000e-05 6.00000000e-05\n",
            " 6.00000000e-05 6.00000000e-05 6.00000000e-05] 617\n"
          ]
        }
      ]
    },
    {
      "cell_type": "code",
      "metadata": {
        "id": "jVdSiFxKiI0r"
      },
      "source": [
        "result = np.random.randint(len(ccp_alphas), size = (20))\n",
        "result\n",
        "#ccp_alphas = [ccp_alphas[x] for x in result ]\n",
        "#ccp_alphas\n",
        "result_sorted = []\n",
        "for i in range(len(ccp_alphas)):\n",
        "  for x in result:\n",
        "   if i==x:\n",
        "     result_sorted.append(ccp_alphas[x])\n",
        "\n",
        "\n",
        "ccp_alphas=result_sorted     "
      ],
      "execution_count": null,
      "outputs": []
    },
    {
      "cell_type": "code",
      "metadata": {
        "id": "X2tSysl6ffm9"
      },
      "source": [
        "clfs = []\n",
        "for ccp_alpha in ccp_alphas:\n",
        "    clf = DecisionTreeClassifier(random_state=0, ccp_alpha=ccp_alpha)\n",
        "    clf.fit(X_train, y_train)\n",
        "    clfs.append(clf)"
      ],
      "execution_count": null,
      "outputs": []
    },
    {
      "cell_type": "code",
      "metadata": {
        "colab": {
          "base_uri": "https://localhost:8080/",
          "height": 267
        },
        "id": "_E1QAlO0fhaH",
        "outputId": "7fb2a636-0fff-4ee5-ff56-000678fea6fe"
      },
      "source": [
        "import matplotlib.pyplot as plt\n",
        "clfs = clfs[:-1]\n",
        "ccp_alphas = ccp_alphas[:-1]\n",
        "node_counts = [clf.tree_.node_count for clf in clfs]\n",
        "depth = [clf.tree_.max_depth for clf in clfs]\n",
        "plt.scatter(ccp_alphas,node_counts)\n",
        "plt.scatter(ccp_alphas,depth)\n",
        "plt.plot(ccp_alphas,node_counts,label='no of nodes',drawstyle=\"steps-post\")\n",
        "plt.plot(ccp_alphas,depth,label='depth',drawstyle=\"steps-post\")\n",
        "plt.legend()\n",
        "plt.show()"
      ],
      "execution_count": null,
      "outputs": [
        {
          "output_type": "display_data",
          "data": {
            "image/png": "[encoded data removed]",
            "text/plain": [
              "<Figure size 432x288 with 1 Axes>"
            ]
          },
          "metadata": {
            "needs_background": "light"
          }
        }
      ]
    },
    {
      "cell_type": "code",
      "metadata": {
        "colab": {
          "base_uri": "https://localhost:8080/",
          "height": 281
        },
        "id": "ReHrMxGgfmDi",
        "outputId": "ad24e4d0-9ffe-4f4c-9ae3-5f327d6b4d95"
      },
      "source": [
        "from sklearn.metrics import accuracy_score\n",
        "from sklearn.metrics import confusion_matrix\n",
        "\n",
        "\n",
        "train_acc = []\n",
        "test_acc = []\n",
        "for c in clfs:\n",
        "    y_train_pred = c.predict(X_train)\n",
        "    y_test_pred = c.predict(X_test)\n",
        "    train_acc.append(accuracy_score(y_train_pred,y_train))\n",
        "    test_acc.append(accuracy_score(y_test_pred,y_test))\n",
        "\n",
        "plt.scatter(ccp_alphas,train_acc)\n",
        "plt.scatter(ccp_alphas,test_acc)\n",
        "plt.plot(ccp_alphas,train_acc,label='train_accuracy',drawstyle=\"steps-post\")\n",
        "plt.plot(ccp_alphas,test_acc,label='test_accuracy',drawstyle=\"steps-post\")\n",
        "plt.legend()\n",
        "plt.title('Accuracy vs alpha')\n",
        "plt.show()"
      ],
      "execution_count": null,
      "outputs": [
        {
          "output_type": "display_data",
          "data": {
            "image/png": "[encoded data removed]",
            "text/plain": [
              "<Figure size 432x288 with 1 Axes>"
            ]
          },
          "metadata": {
            "needs_background": "light"
          }
        }
      ]
    },
    {
      "cell_type": "code",
      "metadata": {
        "id": "e5qswdlMwNCb",
        "colab": {
          "base_uri": "https://localhost:8080/"
        },
        "outputId": "c9a59810-2ed0-434c-f5bc-f48e7bdebffb"
      },
      "source": [
        "clf_ = DecisionTreeClassifier(random_state=0,ccp_alpha=0.00035)\n",
        "clf_.fit(X_train,y_train)\n",
        "y_train_pred = clf_.predict(X_train)\n",
        "y_test_pred = clf_.predict(X_test)\n",
        "\n",
        "from sklearn.metrics import accuracy_score\n",
        "from sklearn.metrics import confusion_matrix\n",
        "\n",
        "y_test_pred = clf_.predict(X_test)\n",
        "y_train_pred = clf_.predict(X_train)\n",
        "confusion_matrix_valid = confusion_matrix(y_test, y_test_pred)\n",
        "print(confusion_matrix_valid) \n",
        "print(f'Train score {accuracy_score(y_train_pred,y_train)}')\n",
        "print(f'Test score {accuracy_score(y_test_pred,y_test)}')\n",
        "\n"
      ],
      "execution_count": 9,
      "outputs": [
        {
          "output_type": "stream",
          "name": "stdout",
          "text": [
            "[[8699 3801]\n",
            " [3632 8868]]\n",
            "Train score 0.79232\n",
            "Test score 0.70268\n"
          ]
        }
      ]
    },
    {
      "cell_type": "code",
      "metadata": {
        "colab": {
          "base_uri": "https://localhost:8080/"
        },
        "id": "WjuJmGepnn9r",
        "outputId": "bea1b620-d71c-40f0-ffb5-a00ad9868ef6"
      },
      "source": [
        "clf_ = DecisionTreeClassifier(random_state=0,ccp_alpha=0.0004)\n",
        "clf_.fit(X_train,y_train)\n",
        "y_train_pred = clf_.predict(X_train)\n",
        "y_test_pred = clf_.predict(X_test)\n",
        "\n",
        "from sklearn.metrics import accuracy_score\n",
        "from sklearn.metrics import confusion_matrix\n",
        "\n",
        "y_test_pred = clf_.predict(X_test)\n",
        "y_train_pred = clf_.predict(X_train)\n",
        "confusion_matrix_valid = confusion_matrix(y_test, y_test_pred)\n",
        "print(confusion_matrix_valid) \n",
        "print(f'Train score {accuracy_score(y_train_pred,y_train)}')\n",
        "print(f'Test score {accuracy_score(y_test_pred,y_test)}')"
      ],
      "execution_count": 10,
      "outputs": [
        {
          "output_type": "stream",
          "name": "stdout",
          "text": [
            "[[8819 3681]\n",
            " [3714 8786]]\n",
            "Train score 0.77328\n",
            "Test score 0.7042\n"
          ]
        }
      ]
    },
    {
      "cell_type": "markdown",
      "metadata": {
        "id": "onruHfq37wYe"
      },
      "source": [
        "### **Neural Networks**"
      ]
    },
    {
      "cell_type": "code",
      "metadata": {
        "id": "bUhhe4S3wsqS"
      },
      "source": [
        "from tensorflow import keras\n",
        "model = keras.models.Sequential([   \n",
        "    keras.layers.Dense(300, activation=\"relu\"),\n",
        "    keras.layers.Dense(100, activation=\"relu\"),\n",
        "    keras.layers.Dense(2, activation=\"sigmoid\")\n",
        "])"
      ],
      "execution_count": null,
      "outputs": []
    },
    {
      "cell_type": "code",
      "metadata": {
        "colab": {
          "base_uri": "https://localhost:8080/"
        },
        "id": "QsDBDkWPwvgK",
        "outputId": "917e1480-6eec-451a-d414-85cf5e362e38"
      },
      "source": [
        "\n",
        "model.compile(loss=\"sparse_categorical_crossentropy\",\n",
        "              optimizer=\"sgd\",\n",
        "              metrics=[\"accuracy\"])\n",
        "history = model.fit(X_train, y_train, epochs=30)"
      ],
      "execution_count": null,
      "outputs": [
        {
          "output_type": "stream",
          "name": "stdout",
          "text": [
            "Epoch 1/30\n",
            "782/782 [==============================] - 3s 2ms/step - loss: 0.6843 - accuracy: 0.6502\n",
            "Epoch 2/30\n",
            "782/782 [==============================] - 2s 2ms/step - loss: 0.6699 - accuracy: 0.7032\n",
            "Epoch 3/30\n",
            "782/782 [==============================] - 2s 2ms/step - loss: 0.6488 - accuracy: 0.7194\n",
            "Epoch 4/30\n",
            "782/782 [==============================] - 2s 2ms/step - loss: 0.6155 - accuracy: 0.7314\n",
            "Epoch 5/30\n",
            "782/782 [==============================] - 2s 2ms/step - loss: 0.5707 - accuracy: 0.7526\n",
            "Epoch 6/30\n",
            "782/782 [==============================] - 2s 2ms/step - loss: 0.5194 - accuracy: 0.7758\n",
            "Epoch 7/30\n",
            "782/782 [==============================] - 2s 2ms/step - loss: 0.4726 - accuracy: 0.8004\n",
            "Epoch 8/30\n",
            "782/782 [==============================] - 2s 3ms/step - loss: 0.4374 - accuracy: 0.8118\n",
            "Epoch 9/30\n",
            "782/782 [==============================] - 2s 2ms/step - loss: 0.4159 - accuracy: 0.8212\n",
            "Epoch 10/30\n",
            "782/782 [==============================] - 2s 3ms/step - loss: 0.4002 - accuracy: 0.8274\n",
            "Epoch 11/30\n",
            "782/782 [==============================] - 2s 2ms/step - loss: 0.3893 - accuracy: 0.8304\n",
            "Epoch 12/30\n",
            "782/782 [==============================] - 2s 2ms/step - loss: 0.3805 - accuracy: 0.8362\n",
            "Epoch 13/30\n",
            "782/782 [==============================] - 2s 3ms/step - loss: 0.3743 - accuracy: 0.8362\n",
            "Epoch 14/30\n",
            "782/782 [==============================] - 2s 3ms/step - loss: 0.3695 - accuracy: 0.8393\n",
            "Epoch 15/30\n",
            "782/782 [==============================] - 2s 2ms/step - loss: 0.3659 - accuracy: 0.8412\n",
            "Epoch 16/30\n",
            "782/782 [==============================] - 2s 2ms/step - loss: 0.3603 - accuracy: 0.8423\n",
            "Epoch 17/30\n",
            "782/782 [==============================] - 2s 3ms/step - loss: 0.3584 - accuracy: 0.8440\n",
            "Epoch 18/30\n",
            "782/782 [==============================] - 2s 3ms/step - loss: 0.3553 - accuracy: 0.8471\n",
            "Epoch 19/30\n",
            "782/782 [==============================] - 2s 3ms/step - loss: 0.3555 - accuracy: 0.8461\n",
            "Epoch 20/30\n",
            "782/782 [==============================] - 2s 3ms/step - loss: 0.3528 - accuracy: 0.8480\n",
            "Epoch 21/30\n",
            "782/782 [==============================] - 2s 2ms/step - loss: 0.3504 - accuracy: 0.8488\n",
            "Epoch 22/30\n",
            "782/782 [==============================] - 2s 2ms/step - loss: 0.3496 - accuracy: 0.8496\n",
            "Epoch 23/30\n",
            "782/782 [==============================] - 2s 3ms/step - loss: 0.3479 - accuracy: 0.8492\n",
            "Epoch 24/30\n",
            "782/782 [==============================] - 2s 3ms/step - loss: 0.3453 - accuracy: 0.8508\n",
            "Epoch 25/30\n",
            "782/782 [==============================] - 2s 3ms/step - loss: 0.3454 - accuracy: 0.8503\n",
            "Epoch 26/30\n",
            "782/782 [==============================] - 2s 3ms/step - loss: 0.3454 - accuracy: 0.8500\n",
            "Epoch 27/30\n",
            "782/782 [==============================] - 2s 3ms/step - loss: 0.3421 - accuracy: 0.8522\n",
            "Epoch 28/30\n",
            "782/782 [==============================] - 2s 3ms/step - loss: 0.3426 - accuracy: 0.8534\n",
            "Epoch 29/30\n",
            "782/782 [==============================] - 2s 3ms/step - loss: 0.3421 - accuracy: 0.8539\n",
            "Epoch 30/30\n",
            "782/782 [==============================] - 2s 2ms/step - loss: 0.3435 - accuracy: 0.8522\n"
          ]
        }
      ]
    },
    {
      "cell_type": "code",
      "metadata": {
        "colab": {
          "base_uri": "https://localhost:8080/"
        },
        "id": "qZXK8kXuw0R0",
        "outputId": "a3dd2920-f18d-4bdd-f3cb-d15fb548abd9"
      },
      "source": [
        "model.evaluate(X_test, y_test)"
      ],
      "execution_count": null,
      "outputs": [
        {
          "output_type": "stream",
          "name": "stdout",
          "text": [
            "782/782 [==============================] - 1s 2ms/step - loss: 0.3553 - accuracy: 0.8455\n"
          ]
        },
        {
          "output_type": "execute_result",
          "data": {
            "text/plain": [
              "[0.35528135299682617, 0.84552001953125]"
            ]
          },
          "metadata": {},
          "execution_count": 63
        }
      ]
    },
    {
      "cell_type": "code",
      "metadata": {
        "colab": {
          "base_uri": "https://localhost:8080/"
        },
        "id": "iv_CMjJWDead",
        "outputId": "42244aa6-db66-4d5e-aca6-80ab51e53b4b"
      },
      "source": [
        "from tensorflow.keras.optimizers import SGD, Adam, Adagrad, RMSprop\n",
        "import tensorflow.keras.backend as K\n",
        "\n",
        "dflist = []\n",
        "\n",
        "optimizers = ['SGD(learning_rate=0.01)',\n",
        "              'SGD(learning_rate=0.01, momentum=0.3)',\n",
        "              'SGD(learning_rate=0.01, momentum=0.3, nesterov=True)',  \n",
        "              'Adam(learning_rate=0.01)',\n",
        "              'Adagrad(learning_rate=0.01)',\n",
        "              'RMSprop(learning_rate=0.01)']\n",
        "\n",
        "for opt_name in optimizers:\n",
        "\n",
        "    K.clear_session()    \n",
        "    model = keras.models.Sequential([   \n",
        "    keras.layers.Dense(300, activation=\"relu\"),\n",
        "    keras.layers.Dense(100, activation=\"relu\"),\n",
        "    keras.layers.Dense(3, activation=\"sigmoid\")])    \n",
        "    model.compile(loss='sparse_categorical_crossentropy',\n",
        "                  optimizer=eval(opt_name),\n",
        "                  metrics=['accuracy'])\n",
        "    h = model.fit(X_train, y_train, batch_size=16, epochs=5, verbose=0)    \n",
        "    print(opt_name)\n",
        "    print(model.evaluate(X_test, y_test))"
      ],
      "execution_count": null,
      "outputs": [
        {
          "output_type": "stream",
          "name": "stdout",
          "text": [
            "SGD(learning_rate=0.01)\n",
            "782/782 [==============================] - 1s 2ms/step - loss: 0.4157 - accuracy: 0.8184\n",
            "[0.41568222641944885, 0.8184400200843811]\n",
            "SGD(learning_rate=0.01, momentum=0.3)\n",
            "782/782 [==============================] - 1s 2ms/step - loss: 0.3727 - accuracy: 0.8412\n",
            "[0.3727352023124695, 0.8411999940872192]\n",
            "SGD(learning_rate=0.01, momentum=0.3, nesterov=True)\n",
            "782/782 [==============================] - 1s 1ms/step - loss: 0.3850 - accuracy: 0.8310\n",
            "[0.3850448429584503, 0.8309599757194519]\n",
            "Adam(learning_rate=0.01)\n",
            "782/782 [==============================] - 1s 1ms/step - loss: 0.3472 - accuracy: 0.8547\n",
            "[0.3472214937210083, 0.8546800017356873]\n",
            "Adagrad(learning_rate=0.01)\n",
            "782/782 [==============================] - 1s 2ms/step - loss: 0.3614 - accuracy: 0.8448\n",
            "[0.3613734841346741, 0.8447999954223633]\n",
            "RMSprop(learning_rate=0.01)\n",
            "782/782 [==============================] - 1s 2ms/step - loss: 0.4849 - accuracy: 0.7992\n",
            "[0.4849421977996826, 0.7991999983787537]\n"
          ]
        }
      ]
    },
    {
      "cell_type": "code",
      "metadata": {
        "colab": {
          "base_uri": "https://localhost:8080/"
        },
        "id": "tMK1To4mDtY2",
        "outputId": "3fe42577-59a7-4fae-c3b4-e34e999fb609"
      },
      "source": [
        "from tensorflow.keras.optimizers import SGD, Adam, Adagrad, RMSprop\n",
        "import tensorflow.keras.backend as K\n",
        "\n",
        "dflist = []\n",
        "\n",
        "batch_sizes = [16, 32, 64, 128,1000]\n",
        "\n",
        "for batch_size in batch_sizes:\n",
        "    K.clear_session()    \n",
        "    model = keras.models.Sequential([   \n",
        "    keras.layers.Dense(300, activation=\"relu\"),\n",
        "    keras.layers.Dense(100, activation=\"relu\"),\n",
        "    keras.layers.Dense(3, activation=\"sigmoid\")])    \n",
        "\n",
        "    model.compile(loss='sparse_categorical_crossentropy',\n",
        "                  optimizer='sgd',\n",
        "                  metrics=['accuracy'])\n",
        "    h = model.fit(X_train, y_train, batch_size=batch_size, verbose=0, epochs=10)\n",
        "    print(batch_size)\n",
        "    print(model.evaluate(X_test, y_test))"
      ],
      "execution_count": null,
      "outputs": [
        {
          "output_type": "stream",
          "name": "stdout",
          "text": [
            "16\n",
            "782/782 [==============================] - 1s 2ms/step - loss: 0.3773 - accuracy: 0.8315\n",
            "[0.3772980868816376, 0.8314800262451172]\n",
            "32\n",
            "782/782 [==============================] - 1s 2ms/step - loss: 0.4114 - accuracy: 0.8216\n",
            "[0.41137295961380005, 0.8216400146484375]\n",
            "64\n",
            "782/782 [==============================] - 1s 1ms/step - loss: 0.5558 - accuracy: 0.7504\n",
            "[0.5557552576065063, 0.7504000067710876]\n",
            "128\n",
            "782/782 [==============================] - 1s 2ms/step - loss: 0.6583 - accuracy: 0.6883\n",
            "[0.6583298444747925, 0.6882799863815308]\n",
            "1000\n",
            "782/782 [==============================] - 1s 2ms/step - loss: 0.7482 - accuracy: 0.5440\n",
            "[0.7481630444526672, 0.5440000295639038]\n"
          ]
        }
      ]
    },
    {
      "cell_type": "code",
      "metadata": {
        "colab": {
          "base_uri": "https://localhost:8080/"
        },
        "id": "4_t38H_fDx7u",
        "outputId": "f4d2caf8-e5c0-43b4-bc60-880428d003b4"
      },
      "source": [
        "from tensorflow import keras\n",
        "from tensorflow.keras.layers import BatchNormalization\n",
        "model = keras.models.Sequential([   \n",
        "    keras.layers.Dense(300, activation=\"relu\"),\n",
        "    keras.layers.Dense(100, activation=\"relu\"),\n",
        "    keras.layers.Dense(3, activation=\"sigmoid\")\n",
        "])\n",
        "model.add(BatchNormalization())\n",
        "model.compile(loss=\"sparse_categorical_crossentropy\",\n",
        "              optimizer=\"sgd\",\n",
        "              metrics=[\"accuracy\"])\n",
        "history = model.fit(X_train, y_train, epochs=10)\n",
        "model.evaluate(X_test, y_test)\n"
      ],
      "execution_count": null,
      "outputs": [
        {
          "output_type": "stream",
          "name": "stdout",
          "text": [
            "Epoch 1/10\n",
            "782/782 [==============================] - 3s 3ms/step - loss: 0.6797 - accuracy: 0.6531\n",
            "Epoch 2/10\n",
            "782/782 [==============================] - 2s 3ms/step - loss: 0.5317 - accuracy: 0.7709\n",
            "Epoch 3/10\n",
            "782/782 [==============================] - 2s 3ms/step - loss: 0.5067 - accuracy: 0.7934\n",
            "Epoch 4/10\n",
            "782/782 [==============================] - 2s 2ms/step - loss: 0.4814 - accuracy: 0.8101\n",
            "Epoch 5/10\n",
            "782/782 [==============================] - 2s 2ms/step - loss: 0.6382 - accuracy: 0.6598\n",
            "Epoch 6/10\n",
            "782/782 [==============================] - 2s 2ms/step - loss: 0.5960 - accuracy: 0.6586\n",
            "Epoch 7/10\n",
            "782/782 [==============================] - 2s 3ms/step - loss: 0.6338 - accuracy: 0.6635\n",
            "Epoch 8/10\n",
            "782/782 [==============================] - 2s 2ms/step - loss: 0.6752 - accuracy: 0.7146\n",
            "Epoch 9/10\n",
            "782/782 [==============================] - 2s 2ms/step - loss: 0.5492 - accuracy: 0.7571\n",
            "Epoch 10/10\n",
            "782/782 [==============================] - 2s 2ms/step - loss: 0.6014 - accuracy: 0.5148\n",
            "782/782 [==============================] - 1s 2ms/step - loss: 0.7263 - accuracy: 0.5396\n"
          ]
        },
        {
          "output_type": "execute_result",
          "data": {
            "text/plain": [
              "[0.7263438105583191, 0.5396000146865845]"
            ]
          },
          "metadata": {},
          "execution_count": 69
        }
      ]
    },
    {
      "cell_type": "code",
      "metadata": {
        "colab": {
          "base_uri": "https://localhost:8080/"
        },
        "id": "TpZT40m6D0Ko",
        "outputId": "f11e8b54-5462-4beb-8411-bcf9458e01cf"
      },
      "source": [
        "dflist = []\n",
        "\n",
        "learning_rates = [.001,0.01, 0.05, 0.1, 0.5,1]\n",
        "\n",
        "for learning_rate in learning_rates:\n",
        "    K.clear_session()    \n",
        "    model = keras.models.Sequential([   \n",
        "    keras.layers.Dense(300, activation=\"relu\"),\n",
        "    keras.layers.Dense(100, activation=\"relu\"),\n",
        "    keras.layers.Dense(3, activation=\"sigmoid\")])    \n",
        "\n",
        "    model.compile(loss='sparse_categorical_crossentropy',\n",
        "                  optimizer=SGD(learning_rate=learning_rate),\n",
        "                  metrics=['accuracy'])\n",
        "    h = model.fit(X_train, y_train, batch_size=128, verbose=0, epochs=10)\n",
        "    print(learning_rate)\n",
        "    print(model.evaluate(X_test, y_test))"
      ],
      "execution_count": null,
      "outputs": [
        {
          "output_type": "stream",
          "name": "stdout",
          "text": [
            "0.001\n",
            "782/782 [==============================] - 1s 2ms/step - loss: 0.7603 - accuracy: 0.5020\n",
            "[0.760288417339325, 0.5019599795341492]\n",
            "0.01\n",
            "782/782 [==============================] - 1s 1ms/step - loss: 0.6605 - accuracy: 0.7058\n",
            "[0.6605491638183594, 0.7057999968528748]\n",
            "0.05\n",
            "782/782 [==============================] - 1s 1ms/step - loss: 0.4037 - accuracy: 0.8282\n",
            "[0.4036611318588257, 0.8281599879264832]\n",
            "0.1\n",
            "782/782 [==============================] - 1s 1ms/step - loss: 0.5102 - accuracy: 0.7436\n",
            "[0.5101847052574158, 0.7435600161552429]\n",
            "0.5\n",
            "782/782 [==============================] - 1s 1ms/step - loss: 0.4057 - accuracy: 0.8159\n",
            "[0.4056662917137146, 0.8158800005912781]\n",
            "1\n",
            "782/782 [==============================] - 1s 1ms/step - loss: 0.4490 - accuracy: 0.8206\n",
            "[0.4489521384239197, 0.8206400275230408]\n"
          ]
        }
      ]
    },
    {
      "cell_type": "code",
      "metadata": {
        "colab": {
          "base_uri": "https://localhost:8080/"
        },
        "id": "Vul7WhwhD3Db",
        "outputId": "78fb09ed-abbc-4a5e-dd31-fce5489d337d"
      },
      "source": [
        "dflist = []\n",
        "\n",
        "initializers = ['zeros', \n",
        "                'uniform', \n",
        "                'normal',\n",
        "                'he_normal', \n",
        "                'lecun_uniform']\n",
        "\n",
        "for initializers in initializers:\n",
        "    K.clear_session()    \n",
        "    model = keras.models.Sequential([   \n",
        "    keras.layers.Dense(300, activation=\"relu\",kernel_initializer=initializers),\n",
        "    keras.layers.Dense(100, activation=\"relu\"),\n",
        "    keras.layers.Dense(3, activation=\"sigmoid\")])    \n",
        "\n",
        "    model.compile(loss='sparse_categorical_crossentropy',\n",
        "                  optimizer=SGD(learning_rate=learning_rate),\n",
        "                  metrics=['accuracy'])\n",
        "    h = model.fit(X_train, y_train, batch_size=128, verbose=0, epochs=10)\n",
        "    print(initializers)\n",
        "    print(model.evaluate(X_test, y_test))\n"
      ],
      "execution_count": null,
      "outputs": [
        {
          "output_type": "stream",
          "name": "stdout",
          "text": [
            "zeros\n",
            "782/782 [==============================] - 1s 1ms/step - loss: 0.6938 - accuracy: 0.5000\n",
            "[0.693824052810669, 0.5]\n",
            "uniform\n",
            "782/782 [==============================] - 1s 2ms/step - loss: 0.4032 - accuracy: 0.8271\n",
            "[0.40319058299064636, 0.8270800113677979]\n",
            "normal\n",
            "782/782 [==============================] - 1s 1ms/step - loss: 0.5324 - accuracy: 0.8187\n",
            "[0.5324090123176575, 0.8186799883842468]\n",
            "he_normal\n",
            "782/782 [==============================] - 1s 2ms/step - loss: 0.6350 - accuracy: 0.5684\n",
            "[0.6350083351135254, 0.5684400200843811]\n",
            "lecun_uniform\n",
            "782/782 [==============================] - 1s 1ms/step - loss: 0.4382 - accuracy: 0.8158\n",
            "[0.4381895959377289, 0.8158400058746338]\n"
          ]
        }
      ]
    },
    {
      "cell_type": "markdown",
      "metadata": {
        "id": "xhTBoF-yDYJI"
      },
      "source": [
        "### **Boosting**"
      ]
    },
    {
      "cell_type": "code",
      "metadata": {
        "colab": {
          "base_uri": "https://localhost:8080/"
        },
        "id": "S-o7cfCixf6m",
        "outputId": "a6e39c3f-0dbe-40e4-c47a-cebc556de88d"
      },
      "source": [
        "from sklearn.tree import DecisionTreeClassifier\n",
        "from sklearn.ensemble import AdaBoostClassifier\n",
        "\n",
        "ada_clf = AdaBoostClassifier(\n",
        "    DecisionTreeClassifier(max_depth=1), n_estimators=200,\n",
        "    algorithm=\"SAMME.R\", learning_rate=0.5, random_state=42)\n",
        "ada_clf.fit(X_train, y_train)"
      ],
      "execution_count": 16,
      "outputs": [
        {
          "output_type": "execute_result",
          "data": {
            "text/plain": [
              "AdaBoostClassifier(algorithm='SAMME.R',\n",
              "                   base_estimator=DecisionTreeClassifier(ccp_alpha=0.0,\n",
              "                                                         class_weight=None,\n",
              "                                                         criterion='gini',\n",
              "                                                         max_depth=1,\n",
              "                                                         max_features=None,\n",
              "                                                         max_leaf_nodes=None,\n",
              "                                                         min_impurity_decrease=0.0,\n",
              "                                                         min_impurity_split=None,\n",
              "                                                         min_samples_leaf=1,\n",
              "                                                         min_samples_split=2,\n",
              "                                                         min_weight_fraction_leaf=0.0,\n",
              "                                                         presort='deprecated',\n",
              "                                                         random_state=None,\n",
              "                                                         splitter='best'),\n",
              "                   learning_rate=0.5, n_estimators=200, random_state=42)"
            ]
          },
          "metadata": {},
          "execution_count": 16
        }
      ]
    },
    {
      "cell_type": "code",
      "metadata": {
        "colab": {
          "base_uri": "https://localhost:8080/"
        },
        "id": "1sLXXD4MxkgZ",
        "outputId": "41c3f34d-dbb7-490d-9c5f-af3956d1ad20"
      },
      "source": [
        "\n",
        "from sklearn.metrics import accuracy_score\n",
        "from sklearn.metrics import confusion_matrix\n",
        "\n",
        "y_train_pred = ada_clf.predict(X_train)\n",
        "y_test_pred = ada_clf.predict(X_test)\n",
        "\n",
        "print(f'Train score {accuracy_score(y_train_pred,y_train)}')\n",
        "print(f'Test score {accuracy_score(y_test_pred,y_test)}')"
      ],
      "execution_count": 17,
      "outputs": [
        {
          "output_type": "stream",
          "name": "stdout",
          "text": [
            "Train score 0.84108\n",
            "Test score 0.81948\n"
          ]
        }
      ]
    },
    {
      "cell_type": "code",
      "metadata": {
        "colab": {
          "base_uri": "https://localhost:8080/"
        },
        "id": "gHGN51FCeMot",
        "outputId": "b61bd5da-fd17-42a2-a84a-41604a3e7e80"
      },
      "source": [
        "from sklearn.tree import DecisionTreeClassifier\n",
        "from sklearn.ensemble import AdaBoostClassifier\n",
        "\n",
        "ada_clf = AdaBoostClassifier(\n",
        "    DecisionTreeClassifier(max_depth=1), n_estimators=50,\n",
        "    algorithm=\"SAMME.R\", learning_rate=1, random_state=42)\n",
        "ada_clf.fit(X_train, y_train)"
      ],
      "execution_count": 18,
      "outputs": [
        {
          "output_type": "execute_result",
          "data": {
            "text/plain": [
              "AdaBoostClassifier(algorithm='SAMME.R',\n",
              "                   base_estimator=DecisionTreeClassifier(ccp_alpha=0.0,\n",
              "                                                         class_weight=None,\n",
              "                                                         criterion='gini',\n",
              "                                                         max_depth=1,\n",
              "                                                         max_features=None,\n",
              "                                                         max_leaf_nodes=None,\n",
              "                                                         min_impurity_decrease=0.0,\n",
              "                                                         min_impurity_split=None,\n",
              "                                                         min_samples_leaf=1,\n",
              "                                                         min_samples_split=2,\n",
              "                                                         min_weight_fraction_leaf=0.0,\n",
              "                                                         presort='deprecated',\n",
              "                                                         random_state=None,\n",
              "                                                         splitter='best'),\n",
              "                   learning_rate=1, n_estimators=50, random_state=42)"
            ]
          },
          "metadata": {},
          "execution_count": 18
        }
      ]
    },
    {
      "cell_type": "code",
      "metadata": {
        "colab": {
          "base_uri": "https://localhost:8080/"
        },
        "id": "TlfD2q6GeNlv",
        "outputId": "83481755-c2cb-4ad5-b6f1-863315fafbf2"
      },
      "source": [
        "y_train_pred = ada_clf.predict(X_train)\n",
        "y_test_pred = ada_clf.predict(X_test)\n",
        "\n",
        "print(f'Train score {accuracy_score(y_train_pred,y_train)}')\n",
        "print(f'Test score {accuracy_score(y_test_pred,y_test)}')"
      ],
      "execution_count": 19,
      "outputs": [
        {
          "output_type": "stream",
          "name": "stdout",
          "text": [
            "Train score 0.8052\n",
            "Test score 0.79068\n"
          ]
        }
      ]
    },
    {
      "cell_type": "code",
      "metadata": {
        "colab": {
          "base_uri": "https://localhost:8080/"
        },
        "id": "Vi0PwbNciQsr",
        "outputId": "cd7cf09a-f3dd-4dbd-a467-e8a9b56b2681"
      },
      "source": [
        "from sklearn.tree import DecisionTreeClassifier\n",
        "from sklearn.ensemble import AdaBoostClassifier\n",
        "\n",
        "ada_clf = AdaBoostClassifier(\n",
        "    DecisionTreeClassifier(max_depth=1), n_estimators=100,\n",
        "    algorithm=\"SAMME.R\", learning_rate=5, random_state=42)\n",
        "ada_clf.fit(X_train, y_train)"
      ],
      "execution_count": 20,
      "outputs": [
        {
          "output_type": "execute_result",
          "data": {
            "text/plain": [
              "AdaBoostClassifier(algorithm='SAMME.R',\n",
              "                   base_estimator=DecisionTreeClassifier(ccp_alpha=0.0,\n",
              "                                                         class_weight=None,\n",
              "                                                         criterion='gini',\n",
              "                                                         max_depth=1,\n",
              "                                                         max_features=None,\n",
              "                                                         max_leaf_nodes=None,\n",
              "                                                         min_impurity_decrease=0.0,\n",
              "                                                         min_impurity_split=None,\n",
              "                                                         min_samples_leaf=1,\n",
              "                                                         min_samples_split=2,\n",
              "                                                         min_weight_fraction_leaf=0.0,\n",
              "                                                         presort='deprecated',\n",
              "                                                         random_state=None,\n",
              "                                                         splitter='best'),\n",
              "                   learning_rate=5, n_estimators=100, random_state=42)"
            ]
          },
          "metadata": {},
          "execution_count": 20
        }
      ]
    },
    {
      "cell_type": "code",
      "metadata": {
        "colab": {
          "base_uri": "https://localhost:8080/"
        },
        "id": "ACUIQ_8AiWeB",
        "outputId": "742f0c5f-b934-4845-b3e5-e9ad6fb07a88"
      },
      "source": [
        "y_train_pred = ada_clf.predict(X_train)\n",
        "y_test_pred = ada_clf.predict(X_test)\n",
        "\n",
        "print(f'Train score {accuracy_score(y_train_pred,y_train)}')\n",
        "print(f'Test score {accuracy_score(y_test_pred,y_test)}')"
      ],
      "execution_count": 21,
      "outputs": [
        {
          "output_type": "stream",
          "name": "stdout",
          "text": [
            "Train score 0.35888\n",
            "Test score 0.37044\n"
          ]
        }
      ]
    },
    {
      "cell_type": "code",
      "metadata": {
        "colab": {
          "base_uri": "https://localhost:8080/"
        },
        "id": "InAEEGsojZMS",
        "outputId": "86872f29-96f5-412a-83bf-866fb73aedbd"
      },
      "source": [
        "from sklearn.tree import DecisionTreeClassifier\n",
        "from sklearn.ensemble import AdaBoostClassifier\n",
        "\n",
        "ada_clf = AdaBoostClassifier(\n",
        "    DecisionTreeClassifier(max_depth=1), n_estimators=50,\n",
        "    algorithm=\"SAMME.R\", learning_rate=.01, random_state=42)\n",
        "ada_clf.fit(X_train, y_train)"
      ],
      "execution_count": 22,
      "outputs": [
        {
          "output_type": "execute_result",
          "data": {
            "text/plain": [
              "AdaBoostClassifier(algorithm='SAMME.R',\n",
              "                   base_estimator=DecisionTreeClassifier(ccp_alpha=0.0,\n",
              "                                                         class_weight=None,\n",
              "                                                         criterion='gini',\n",
              "                                                         max_depth=1,\n",
              "                                                         max_features=None,\n",
              "                                                         max_leaf_nodes=None,\n",
              "                                                         min_impurity_decrease=0.0,\n",
              "                                                         min_impurity_split=None,\n",
              "                                                         min_samples_leaf=1,\n",
              "                                                         min_samples_split=2,\n",
              "                                                         min_weight_fraction_leaf=0.0,\n",
              "                                                         presort='deprecated',\n",
              "                                                         random_state=None,\n",
              "                                                         splitter='best'),\n",
              "                   learning_rate=0.01, n_estimators=50, random_state=42)"
            ]
          },
          "metadata": {},
          "execution_count": 22
        }
      ]
    },
    {
      "cell_type": "code",
      "metadata": {
        "colab": {
          "base_uri": "https://localhost:8080/"
        },
        "id": "tAwjBug-jdBV",
        "outputId": "d2422c00-9a00-4207-e7f7-7143fd8336f5"
      },
      "source": [
        "y_train_pred = ada_clf.predict(X_train)\n",
        "y_test_pred = ada_clf.predict(X_test)\n",
        "\n",
        "print(f'Train score {accuracy_score(y_train_pred,y_train)}')\n",
        "print(f'Test score {accuracy_score(y_test_pred,y_test)}')"
      ],
      "execution_count": 23,
      "outputs": [
        {
          "output_type": "stream",
          "name": "stdout",
          "text": [
            "Train score 0.69592\n",
            "Test score 0.6854\n"
          ]
        }
      ]
    },
    {
      "cell_type": "code",
      "metadata": {
        "colab": {
          "base_uri": "https://localhost:8080/"
        },
        "id": "tatz_NO6kVH6",
        "outputId": "751aaa78-5047-4920-ea57-1119ede12cab"
      },
      "source": [
        "from sklearn.tree import DecisionTreeClassifier\n",
        "from sklearn.ensemble import AdaBoostClassifier\n",
        "\n",
        "ada_clf = AdaBoostClassifier(\n",
        "    DecisionTreeClassifier(max_depth=1), n_estimators=100,\n",
        "    algorithm=\"SAMME.R\", learning_rate=1, random_state=42)\n",
        "ada_clf.fit(X_train, y_train)"
      ],
      "execution_count": 24,
      "outputs": [
        {
          "output_type": "execute_result",
          "data": {
            "text/plain": [
              "AdaBoostClassifier(algorithm='SAMME.R',\n",
              "                   base_estimator=DecisionTreeClassifier(ccp_alpha=0.0,\n",
              "                                                         class_weight=None,\n",
              "                                                         criterion='gini',\n",
              "                                                         max_depth=1,\n",
              "                                                         max_features=None,\n",
              "                                                         max_leaf_nodes=None,\n",
              "                                                         min_impurity_decrease=0.0,\n",
              "                                                         min_impurity_split=None,\n",
              "                                                         min_samples_leaf=1,\n",
              "                                                         min_samples_split=2,\n",
              "                                                         min_weight_fraction_leaf=0.0,\n",
              "                                                         presort='deprecated',\n",
              "                                                         random_state=None,\n",
              "                                                         splitter='best'),\n",
              "                   learning_rate=1, n_estimators=100, random_state=42)"
            ]
          },
          "metadata": {},
          "execution_count": 24
        }
      ]
    },
    {
      "cell_type": "code",
      "metadata": {
        "colab": {
          "base_uri": "https://localhost:8080/"
        },
        "id": "1yThCgMTkYOs",
        "outputId": "07726ff9-fe2f-4398-b8bd-299a9a09c6e2"
      },
      "source": [
        "y_train_pred = ada_clf.predict(X_train)\n",
        "y_test_pred = ada_clf.predict(X_test)\n",
        "\n",
        "print(f'Train score {accuracy_score(y_train_pred,y_train)}')\n",
        "print(f'Test score {accuracy_score(y_test_pred,y_test)}')"
      ],
      "execution_count": 25,
      "outputs": [
        {
          "output_type": "stream",
          "name": "stdout",
          "text": [
            "Train score 0.82684\n",
            "Test score 0.80648\n"
          ]
        }
      ]
    },
    {
      "cell_type": "markdown",
      "metadata": {
        "id": "sHD-SY6ia4M2"
      },
      "source": [
        "https://scikit-learn.org/stable/modules/generated/sklearn.ensemble.AdaBoostClassifier.html\n"
      ]
    },
    {
      "cell_type": "markdown",
      "metadata": {
        "id": "XddXvJiq74EF"
      },
      "source": [
        "### **SVM**"
      ]
    },
    {
      "cell_type": "code",
      "metadata": {
        "colab": {
          "base_uri": "https://localhost:8080/"
        },
        "id": "uOcA6Fb-9LV7",
        "outputId": "b0a3dafb-3fa4-444f-d54f-f0e7a27d9ac4"
      },
      "source": [
        "from sklearn.svm import SVC\n",
        "\n",
        "final = SVC()\n",
        "final.fit(X_train, y_train)\n",
        "y_train_pred= final.predict(X_train)\n",
        "y_test_pred = final.predict(X_test)\n",
        "from sklearn.metrics import confusion_matrix\n",
        "from sklearn.metrics import accuracy_score\n",
        "\n",
        "confusion_matrix_valid = confusion_matrix(y_test, y_test_pred)\n",
        "print(confusion_matrix_valid) \n",
        "print(f'Train score {accuracy_score(y_train_pred,y_train)}')\n",
        "print(f'Test score {accuracy_score(y_test_pred,y_test)}')"
      ],
      "execution_count": 27,
      "outputs": [
        {
          "output_type": "stream",
          "name": "stdout",
          "text": [
            "[[10728  1772]\n",
            " [ 1764 10736]]\n",
            "Train score 0.86852\n",
            "Test score 0.85856\n"
          ]
        }
      ]
    },
    {
      "cell_type": "code",
      "metadata": {
        "colab": {
          "base_uri": "https://localhost:8080/"
        },
        "id": "VGl95KTo24Mn",
        "outputId": "ef2501db-1b9c-4f60-a669-4fdda193a2fc"
      },
      "source": [
        "## Polynomial Kernel\n",
        "\n",
        "from sklearn.svm import SVC\n",
        "from sklearn.pipeline import Pipeline\n",
        "\n",
        "poly100_kernel_svm_clf = Pipeline([\n",
        "        (\"svm_clf\", SVC(kernel=\"poly\", degree=2, coef0=100, C=5,cache_size=200000))\n",
        "    ])\n",
        "poly100_kernel_svm_clf.fit(X_train, y_train)"
      ],
      "execution_count": 11,
      "outputs": [
        {
          "output_type": "execute_result",
          "data": {
            "text/plain": [
              "Pipeline(memory=None,\n",
              "         steps=[('svm_clf',\n",
              "                 SVC(C=5, break_ties=False, cache_size=200000,\n",
              "                     class_weight=None, coef0=100,\n",
              "                     decision_function_shape='ovr', degree=2, gamma='scale',\n",
              "                     kernel='poly', max_iter=-1, probability=False,\n",
              "                     random_state=None, shrinking=True, tol=0.001,\n",
              "                     verbose=False))],\n",
              "         verbose=False)"
            ]
          },
          "metadata": {},
          "execution_count": 11
        }
      ]
    },
    {
      "cell_type": "code",
      "metadata": {
        "id": "RXIZ0z5Z2510"
      },
      "source": [
        "from sklearn.metrics import accuracy_score\n",
        "from sklearn.metrics import confusion_matrix\n",
        "\n",
        "y_test_pred = poly100_kernel_svm_clf.predict(X_test)\n",
        "y_train_pred= poly100_kernel_svm_clf.predict(X_train)\n",
        "\n"
      ],
      "execution_count": 12,
      "outputs": []
    },
    {
      "cell_type": "code",
      "metadata": {
        "colab": {
          "base_uri": "https://localhost:8080/"
        },
        "id": "WaMqpESTDUOj",
        "outputId": "ee82c909-7c35-4619-d6d1-4f2e7b22e31b"
      },
      "source": [
        "from sklearn.metrics import confusion_matrix\n",
        "from sklearn.metrics import accuracy_score\n",
        "\n",
        "print(confusion_matrix_valid, accuracy_score) \n",
        "print(f'Train score {accuracy_score(y_train_pred,y_train)}')\n",
        "print(f'Test score {accuracy_score(y_test_pred,y_test)}')"
      ],
      "execution_count": 13,
      "outputs": [
        {
          "output_type": "stream",
          "name": "stdout",
          "text": [
            "[[8819 3681]\n",
            " [3714 8786]] <function accuracy_score at 0x7f328ec3c170>\n",
            "Train score 0.87744\n",
            "Test score 0.85836\n"
          ]
        }
      ]
    },
    {
      "cell_type": "markdown",
      "metadata": {
        "id": "QKQZ0IDf8AxM"
      },
      "source": [
        "### **kNN**"
      ]
    },
    {
      "cell_type": "code",
      "metadata": {
        "colab": {
          "base_uri": "https://localhost:8080/"
        },
        "id": "XYehhe5W6zS2",
        "outputId": "74f46040-b927-4987-d339-e0be97892a95"
      },
      "source": [
        "from sklearn.neighbors import KNeighborsClassifier\n",
        "\n",
        "\n",
        "\n",
        "knn = KNeighborsClassifier()\n",
        "knn.fit(X_train,y_train)"
      ],
      "execution_count": 14,
      "outputs": [
        {
          "output_type": "execute_result",
          "data": {
            "text/plain": [
              "KNeighborsClassifier(algorithm='auto', leaf_size=30, metric='minkowski',\n",
              "                     metric_params=None, n_jobs=None, n_neighbors=5, p=2,\n",
              "                     weights='uniform')"
            ]
          },
          "metadata": {},
          "execution_count": 14
        }
      ]
    },
    {
      "cell_type": "code",
      "metadata": {
        "colab": {
          "base_uri": "https://localhost:8080/"
        },
        "id": "L6yiTr-d678W",
        "outputId": "df29198b-32ec-4258-ce48-b98da5c8b81a"
      },
      "source": [
        "from sklearn.metrics import accuracy_score\n",
        "from sklearn.metrics import confusion_matrix\n",
        "\n",
        "y_test_pred = knn.predict(X_test)\n",
        "confusion_matrix_valid = confusion_matrix(y_test, y_test_pred)\n",
        "accuracy_score = accuracy_score(y_test, y_test_pred)\n",
        "print(confusion_matrix_valid, accuracy_score) "
      ],
      "execution_count": 15,
      "outputs": [
        {
          "output_type": "stream",
          "name": "stdout",
          "text": [
            "[[10058  2442]\n",
            " [ 3902  8598]] 0.74624\n"
          ]
        }
      ]
    },
    {
      "cell_type": "code",
      "metadata": {
        "colab": {
          "base_uri": "https://localhost:8080/"
        },
        "id": "vEjC2EVKGiPV",
        "outputId": "0fccd22c-93a8-4083-e637-80c2fda26f55"
      },
      "source": [
        "y_train_pred= knn.predict(X_train)\n",
        "\n",
        "from sklearn.metrics import confusion_matrix\n",
        "from sklearn.metrics import accuracy_score\n",
        "\n",
        "print(confusion_matrix_valid, accuracy_score) \n",
        "print(f'Train score {accuracy_score(y_train_pred,y_train)}')\n",
        "print(f'Test score {accuracy_score(y_test_pred,y_test)}')"
      ],
      "execution_count": 16,
      "outputs": [
        {
          "output_type": "stream",
          "name": "stdout",
          "text": [
            "[[10058  2442]\n",
            " [ 3902  8598]] <function accuracy_score at 0x7f328ec3c170>\n",
            "Train score 0.84412\n",
            "Test score 0.74624\n"
          ]
        }
      ]
    },
    {
      "cell_type": "code",
      "metadata": {
        "colab": {
          "base_uri": "https://localhost:8080/"
        },
        "id": "HdE3GHtFMse5",
        "outputId": "b9c6e9e0-fe45-41df-be82-df00c7215363"
      },
      "source": [
        "from sklearn.neighbors import KNeighborsClassifier\n",
        "\n",
        "\n",
        "param_knn = {}\n",
        "param_knn['n_neighbors'] = 5\n",
        "param_knn['leaf_size'] = 25\n",
        "\n",
        "knn = KNeighborsClassifier(**param_knn)\n",
        "knn.fit(X_train,y_train)\n",
        "\n",
        "y_test_pred = knn.predict(X_test)\n",
        "y_train_pred= knn.predict(X_train)\n",
        "\n",
        "from sklearn.metrics import confusion_matrix\n",
        "from sklearn.metrics import accuracy_score\n",
        "\n",
        "\n",
        "print(f'Train score {accuracy_score(y_train_pred,y_train)}')\n",
        "print(f'Test score {accuracy_score(y_test_pred,y_test)}')"
      ],
      "execution_count": 17,
      "outputs": [
        {
          "output_type": "stream",
          "name": "stdout",
          "text": [
            "Train score 0.84412\n",
            "Test score 0.74624\n"
          ]
        }
      ]
    }
  ]
}