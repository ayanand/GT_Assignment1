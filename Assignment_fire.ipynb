{
  "nbformat": 4,
  "nbformat_minor": 0,
  "metadata": {
    "colab": {
      "name": "Assignment_fire.ipynb",
      "provenance": [],
      "collapsed_sections": []
    },
    "kernelspec": {
      "name": "python3",
      "display_name": "Python 3"
    },
    "language_info": {
      "name": "python"
    }
  },
  "cells": [
    {
      "cell_type": "code",
      "metadata": {
        "id": "hzVNRDrCkmAR"
      },
      "source": [
        "import numpy as np\n",
        "import matplotlib.pyplot as plt\n",
        "import pandas as pd\n",
        "import os\n",
        "import random\n",
        "import scipy\n",
        "import seaborn as sns\n",
        "import math\n",
        "from scipy import stats\n",
        "import tensorflow as tf"
      ],
      "execution_count": 45,
      "outputs": []
    },
    {
      "cell_type": "code",
      "metadata": {
        "colab": {
          "base_uri": "https://localhost:8080/"
        },
        "id": "92U28ip2_NWN",
        "outputId": "7e2dd247-913f-4676-f33e-19778baec85c"
      },
      "source": [
        "import sys\n",
        "print(sys.version)\n",
        "print(tf.__version__)\n",
        "pd.show_versions()"
      ],
      "execution_count": 47,
      "outputs": [
        {
          "output_type": "stream",
          "name": "stdout",
          "text": [
            "3.7.12 (default, Sep 10 2021, 00:21:48) \n",
            "[GCC 7.5.0]\n",
            "2.6.0\n"
          ]
        },
        {
          "output_type": "stream",
          "name": "stderr",
          "text": [
            "/usr/local/lib/python3.7/dist-packages/psycopg2/__init__.py:144: UserWarning: The psycopg2 wheel package will be renamed from release 2.8; in order to keep installing from binary please use \"pip install psycopg2-binary\" instead. For details see: <http://initd.org/psycopg/docs/install.html#binary-install-from-pypi>.\n",
            "  \"\"\")\n"
          ]
        },
        {
          "output_type": "stream",
          "name": "stdout",
          "text": [
            "\n",
            "INSTALLED VERSIONS\n",
            "------------------\n",
            "commit           : b5958ee1999e9aead1938c0bba2b674378807b3d\n",
            "python           : 3.7.12.final.0\n",
            "python-bits      : 64\n",
            "OS               : Linux\n",
            "OS-release       : 5.4.104+\n",
            "Version          : #1 SMP Sat Jun 5 09:50:34 PDT 2021\n",
            "machine          : x86_64\n",
            "processor        : x86_64\n",
            "byteorder        : little\n",
            "LC_ALL           : None\n",
            "LANG             : en_US.UTF-8\n",
            "LOCALE           : en_US.UTF-8\n",
            "\n",
            "pandas           : 1.1.5\n",
            "numpy            : 1.19.5\n",
            "pytz             : 2018.9\n",
            "dateutil         : 2.8.2\n",
            "pip              : 21.1.3\n",
            "setuptools       : 57.4.0\n",
            "Cython           : 0.29.24\n",
            "pytest           : 3.6.4\n",
            "hypothesis       : None\n",
            "sphinx           : 1.8.5\n",
            "blosc            : None\n",
            "feather          : 0.4.1\n",
            "xlsxwriter       : None\n",
            "lxml.etree       : 4.2.6\n",
            "html5lib         : 1.0.1\n",
            "pymysql          : None\n",
            "psycopg2         : 2.7.6.1 (dt dec pq3 ext lo64)\n",
            "jinja2           : 2.11.3\n",
            "IPython          : 5.5.0\n",
            "pandas_datareader: 0.9.0\n",
            "bs4              : 4.6.3\n",
            "bottleneck       : 1.3.2\n",
            "fsspec           : None\n",
            "fastparquet      : None\n",
            "gcsfs            : None\n",
            "matplotlib       : 3.2.2\n",
            "numexpr          : 2.7.3\n",
            "odfpy            : None\n",
            "openpyxl         : 2.5.9\n",
            "pandas_gbq       : 0.13.3\n",
            "pyarrow          : 3.0.0\n",
            "pytables         : None\n",
            "pyxlsb           : None\n",
            "s3fs             : None\n",
            "scipy            : 1.4.1\n",
            "sqlalchemy       : 1.4.23\n",
            "tables           : 3.4.4\n",
            "tabulate         : 0.8.9\n",
            "xarray           : 0.18.2\n",
            "xlrd             : 1.1.0\n",
            "xlwt             : 1.3.0\n",
            "numba            : 0.51.2\n"
          ]
        }
      ]
    },
    {
      "cell_type": "markdown",
      "metadata": {
        "id": "DO7DJsnMD5oZ"
      },
      "source": [
        "### **Data Processing**"
      ]
    },
    {
      "cell_type": "code",
      "metadata": {
        "colab": {
          "resources": {
            "http://localhost:8080/nbextensions/google.colab/files.js": {
              "data": "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",
              "ok": true,
              "headers": [
                [
                  "content-type",
                  "application/javascript"
                ]
              ],
              "status": 200,
              "status_text": ""
            }
          },
          "base_uri": "https://localhost:8080/",
          "height": 73
        },
        "id": "wbmzAmNUk6Ca",
        "outputId": "ae1102a4-bd21-40cb-8248-97cf9e58438f"
      },
      "source": [
        "from google.colab import files\n",
        "uploaded = files.upload()"
      ],
      "execution_count": null,
      "outputs": [
        {
          "output_type": "display_data",
          "data": {
            "text/html": [
              "\n",
              "     <input type=\"file\" id=\"files-de9ecf0a-b640-49bd-9061-9330c5845444\" name=\"files[]\" multiple disabled\n",
              "        style=\"border:none\" />\n",
              "     <output id=\"result-de9ecf0a-b640-49bd-9061-9330c5845444\">\n",
              "      Upload widget is only available when the cell has been executed in the\n",
              "      current browser session. Please rerun this cell to enable.\n",
              "      </output>\n",
              "      <script src=\"/nbextensions/google.colab/files.js\"></script> "
            ],
            "text/plain": [
              "<IPython.core.display.HTML object>"
            ]
          },
          "metadata": {}
        },
        {
          "output_type": "stream",
          "name": "stdout",
          "text": [
            "Saving Fire_data.csv to Fire_data.csv\n"
          ]
        }
      ]
    },
    {
      "cell_type": "code",
      "metadata": {
        "colab": {
          "base_uri": "https://localhost:8080/",
          "height": 375
        },
        "id": "7cv7-4QGk3Pa",
        "outputId": "7b25909e-78e7-41bf-e70d-62e6b284b108"
      },
      "source": [
        "df = pd.read_csv('Fire_data.csv')\n",
        "df2=df.copy()\n",
        "df2.head(10)"
      ],
      "execution_count": null,
      "outputs": [
        {
          "output_type": "execute_result",
          "data": {
            "text/html": [
              "<div>\n",
              "<style scoped>\n",
              "    .dataframe tbody tr th:only-of-type {\n",
              "        vertical-align: middle;\n",
              "    }\n",
              "\n",
              "    .dataframe tbody tr th {\n",
              "        vertical-align: top;\n",
              "    }\n",
              "\n",
              "    .dataframe thead th {\n",
              "        text-align: right;\n",
              "    }\n",
              "</style>\n",
              "<table border=\"1\" class=\"dataframe\">\n",
              "  <thead>\n",
              "    <tr style=\"text-align: right;\">\n",
              "      <th></th>\n",
              "      <th>latitude</th>\n",
              "      <th>longitude</th>\n",
              "      <th>quarter</th>\n",
              "      <th>year</th>\n",
              "      <th>sum_etage_hors_sol</th>\n",
              "      <th>sum_nombre_logement</th>\n",
              "      <th>nombre_logement_per_population</th>\n",
              "      <th>avg_annee_construction</th>\n",
              "      <th>sum_superficie_terrain</th>\n",
              "      <th>area</th>\n",
              "      <th>area_per_population</th>\n",
              "      <th>population</th>\n",
              "      <th>dwellings</th>\n",
              "      <th>dwellings_per_population</th>\n",
              "      <th>households</th>\n",
              "      <th>households_per_population</th>\n",
              "      <th>averagehouseholdsize</th>\n",
              "      <th>averageage</th>\n",
              "      <th>averagesizeofcensusfamilies</th>\n",
              "      <th>workers</th>\n",
              "      <th>workers_per_population</th>\n",
              "      <th>caserne_count</th>\n",
              "      <th>incendie_count</th>\n",
              "      <th>sum_superficie_batiment</th>\n",
              "      <th>superficie_batiment_per_population</th>\n",
              "      <th>incendie_count_last_100</th>\n",
              "      <th>incendie_count_last_300</th>\n",
              "      <th>alarm_incendie_count_last_100</th>\n",
              "      <th>total_crimes_last_100</th>\n",
              "      <th>vols_count_last_100</th>\n",
              "      <th>mefait_count_last_100</th>\n",
              "      <th>vol_de_vehicule_count_last_100</th>\n",
              "      <th>introduction_count_last_100</th>\n",
              "      <th>infractions_entrainant_count_last_100</th>\n",
              "    </tr>\n",
              "  </thead>\n",
              "  <tbody>\n",
              "    <tr>\n",
              "      <th>0</th>\n",
              "      <td>45.40</td>\n",
              "      <td>-73.96</td>\n",
              "      <td>2</td>\n",
              "      <td>2017</td>\n",
              "      <td>0</td>\n",
              "      <td>0</td>\n",
              "      <td>0.000000</td>\n",
              "      <td>1900.00</td>\n",
              "      <td>2732</td>\n",
              "      <td>1.57174</td>\n",
              "      <td>0.004465</td>\n",
              "      <td>352</td>\n",
              "      <td>162</td>\n",
              "      <td>0.460227</td>\n",
              "      <td>149</td>\n",
              "      <td>0.423295</td>\n",
              "      <td>2.3</td>\n",
              "      <td>42.0</td>\n",
              "      <td>2.7</td>\n",
              "      <td>100</td>\n",
              "      <td>0.284091</td>\n",
              "      <td>0</td>\n",
              "      <td>0</td>\n",
              "      <td>831</td>\n",
              "      <td>2.360795</td>\n",
              "      <td>0</td>\n",
              "      <td>0</td>\n",
              "      <td>1</td>\n",
              "      <td>0</td>\n",
              "      <td>0</td>\n",
              "      <td>0</td>\n",
              "      <td>0</td>\n",
              "      <td>0</td>\n",
              "      <td>0</td>\n",
              "    </tr>\n",
              "    <tr>\n",
              "      <th>1</th>\n",
              "      <td>45.40</td>\n",
              "      <td>-73.96</td>\n",
              "      <td>3</td>\n",
              "      <td>2019</td>\n",
              "      <td>0</td>\n",
              "      <td>0</td>\n",
              "      <td>0.000000</td>\n",
              "      <td>1900.00</td>\n",
              "      <td>2732</td>\n",
              "      <td>1.57174</td>\n",
              "      <td>0.004465</td>\n",
              "      <td>352</td>\n",
              "      <td>162</td>\n",
              "      <td>0.460227</td>\n",
              "      <td>149</td>\n",
              "      <td>0.423295</td>\n",
              "      <td>2.3</td>\n",
              "      <td>42.0</td>\n",
              "      <td>2.7</td>\n",
              "      <td>100</td>\n",
              "      <td>0.284091</td>\n",
              "      <td>0</td>\n",
              "      <td>0</td>\n",
              "      <td>831</td>\n",
              "      <td>2.360795</td>\n",
              "      <td>0</td>\n",
              "      <td>0</td>\n",
              "      <td>0</td>\n",
              "      <td>0</td>\n",
              "      <td>0</td>\n",
              "      <td>0</td>\n",
              "      <td>0</td>\n",
              "      <td>0</td>\n",
              "      <td>0</td>\n",
              "    </tr>\n",
              "    <tr>\n",
              "      <th>2</th>\n",
              "      <td>45.41</td>\n",
              "      <td>-73.95</td>\n",
              "      <td>1</td>\n",
              "      <td>2015</td>\n",
              "      <td>728</td>\n",
              "      <td>730</td>\n",
              "      <td>2.324841</td>\n",
              "      <td>1949.98</td>\n",
              "      <td>253537</td>\n",
              "      <td>0.21093</td>\n",
              "      <td>0.000672</td>\n",
              "      <td>314</td>\n",
              "      <td>7</td>\n",
              "      <td>0.022293</td>\n",
              "      <td>0</td>\n",
              "      <td>0.000000</td>\n",
              "      <td>0.0</td>\n",
              "      <td>91.6</td>\n",
              "      <td>0.0</td>\n",
              "      <td>0</td>\n",
              "      <td>0.000000</td>\n",
              "      <td>0</td>\n",
              "      <td>0</td>\n",
              "      <td>80990</td>\n",
              "      <td>257.929936</td>\n",
              "      <td>0</td>\n",
              "      <td>0</td>\n",
              "      <td>0</td>\n",
              "      <td>0</td>\n",
              "      <td>0</td>\n",
              "      <td>0</td>\n",
              "      <td>0</td>\n",
              "      <td>0</td>\n",
              "      <td>0</td>\n",
              "    </tr>\n",
              "    <tr>\n",
              "      <th>3</th>\n",
              "      <td>45.41</td>\n",
              "      <td>-73.95</td>\n",
              "      <td>2</td>\n",
              "      <td>2015</td>\n",
              "      <td>728</td>\n",
              "      <td>730</td>\n",
              "      <td>2.324841</td>\n",
              "      <td>1949.98</td>\n",
              "      <td>253537</td>\n",
              "      <td>0.21093</td>\n",
              "      <td>0.000672</td>\n",
              "      <td>314</td>\n",
              "      <td>7</td>\n",
              "      <td>0.022293</td>\n",
              "      <td>0</td>\n",
              "      <td>0.000000</td>\n",
              "      <td>0.0</td>\n",
              "      <td>91.6</td>\n",
              "      <td>0.0</td>\n",
              "      <td>0</td>\n",
              "      <td>0.000000</td>\n",
              "      <td>0</td>\n",
              "      <td>0</td>\n",
              "      <td>80990</td>\n",
              "      <td>257.929936</td>\n",
              "      <td>0</td>\n",
              "      <td>0</td>\n",
              "      <td>2</td>\n",
              "      <td>5</td>\n",
              "      <td>1</td>\n",
              "      <td>1</td>\n",
              "      <td>1</td>\n",
              "      <td>1</td>\n",
              "      <td>0</td>\n",
              "    </tr>\n",
              "    <tr>\n",
              "      <th>4</th>\n",
              "      <td>45.41</td>\n",
              "      <td>-73.95</td>\n",
              "      <td>3</td>\n",
              "      <td>2015</td>\n",
              "      <td>728</td>\n",
              "      <td>730</td>\n",
              "      <td>2.324841</td>\n",
              "      <td>1949.98</td>\n",
              "      <td>253537</td>\n",
              "      <td>0.21093</td>\n",
              "      <td>0.000672</td>\n",
              "      <td>314</td>\n",
              "      <td>7</td>\n",
              "      <td>0.022293</td>\n",
              "      <td>0</td>\n",
              "      <td>0.000000</td>\n",
              "      <td>0.0</td>\n",
              "      <td>91.6</td>\n",
              "      <td>0.0</td>\n",
              "      <td>0</td>\n",
              "      <td>0.000000</td>\n",
              "      <td>0</td>\n",
              "      <td>0</td>\n",
              "      <td>80990</td>\n",
              "      <td>257.929936</td>\n",
              "      <td>0</td>\n",
              "      <td>0</td>\n",
              "      <td>3</td>\n",
              "      <td>7</td>\n",
              "      <td>1</td>\n",
              "      <td>2</td>\n",
              "      <td>1</td>\n",
              "      <td>1</td>\n",
              "      <td>0</td>\n",
              "    </tr>\n",
              "    <tr>\n",
              "      <th>5</th>\n",
              "      <td>45.41</td>\n",
              "      <td>-73.95</td>\n",
              "      <td>4</td>\n",
              "      <td>2015</td>\n",
              "      <td>728</td>\n",
              "      <td>730</td>\n",
              "      <td>2.324841</td>\n",
              "      <td>1949.98</td>\n",
              "      <td>253537</td>\n",
              "      <td>0.21093</td>\n",
              "      <td>0.000672</td>\n",
              "      <td>314</td>\n",
              "      <td>7</td>\n",
              "      <td>0.022293</td>\n",
              "      <td>0</td>\n",
              "      <td>0.000000</td>\n",
              "      <td>0.0</td>\n",
              "      <td>91.6</td>\n",
              "      <td>0.0</td>\n",
              "      <td>0</td>\n",
              "      <td>0.000000</td>\n",
              "      <td>0</td>\n",
              "      <td>0</td>\n",
              "      <td>80990</td>\n",
              "      <td>257.929936</td>\n",
              "      <td>0</td>\n",
              "      <td>0</td>\n",
              "      <td>1</td>\n",
              "      <td>7</td>\n",
              "      <td>0</td>\n",
              "      <td>1</td>\n",
              "      <td>2</td>\n",
              "      <td>2</td>\n",
              "      <td>0</td>\n",
              "    </tr>\n",
              "    <tr>\n",
              "      <th>6</th>\n",
              "      <td>45.41</td>\n",
              "      <td>-73.95</td>\n",
              "      <td>1</td>\n",
              "      <td>2016</td>\n",
              "      <td>728</td>\n",
              "      <td>730</td>\n",
              "      <td>2.324841</td>\n",
              "      <td>1949.98</td>\n",
              "      <td>253537</td>\n",
              "      <td>0.21093</td>\n",
              "      <td>0.000672</td>\n",
              "      <td>314</td>\n",
              "      <td>7</td>\n",
              "      <td>0.022293</td>\n",
              "      <td>0</td>\n",
              "      <td>0.000000</td>\n",
              "      <td>0.0</td>\n",
              "      <td>91.6</td>\n",
              "      <td>0.0</td>\n",
              "      <td>0</td>\n",
              "      <td>0.000000</td>\n",
              "      <td>0</td>\n",
              "      <td>1</td>\n",
              "      <td>80990</td>\n",
              "      <td>257.929936</td>\n",
              "      <td>1</td>\n",
              "      <td>1</td>\n",
              "      <td>0</td>\n",
              "      <td>3</td>\n",
              "      <td>0</td>\n",
              "      <td>2</td>\n",
              "      <td>0</td>\n",
              "      <td>1</td>\n",
              "      <td>0</td>\n",
              "    </tr>\n",
              "    <tr>\n",
              "      <th>7</th>\n",
              "      <td>45.41</td>\n",
              "      <td>-73.95</td>\n",
              "      <td>2</td>\n",
              "      <td>2016</td>\n",
              "      <td>728</td>\n",
              "      <td>730</td>\n",
              "      <td>2.324841</td>\n",
              "      <td>1949.98</td>\n",
              "      <td>253537</td>\n",
              "      <td>0.21093</td>\n",
              "      <td>0.000672</td>\n",
              "      <td>314</td>\n",
              "      <td>7</td>\n",
              "      <td>0.022293</td>\n",
              "      <td>0</td>\n",
              "      <td>0.000000</td>\n",
              "      <td>0.0</td>\n",
              "      <td>91.6</td>\n",
              "      <td>0.0</td>\n",
              "      <td>0</td>\n",
              "      <td>0.000000</td>\n",
              "      <td>0</td>\n",
              "      <td>0</td>\n",
              "      <td>80990</td>\n",
              "      <td>257.929936</td>\n",
              "      <td>1</td>\n",
              "      <td>1</td>\n",
              "      <td>4</td>\n",
              "      <td>2</td>\n",
              "      <td>0</td>\n",
              "      <td>2</td>\n",
              "      <td>0</td>\n",
              "      <td>0</td>\n",
              "      <td>0</td>\n",
              "    </tr>\n",
              "    <tr>\n",
              "      <th>8</th>\n",
              "      <td>45.41</td>\n",
              "      <td>-73.95</td>\n",
              "      <td>3</td>\n",
              "      <td>2016</td>\n",
              "      <td>728</td>\n",
              "      <td>730</td>\n",
              "      <td>2.324841</td>\n",
              "      <td>1949.98</td>\n",
              "      <td>253537</td>\n",
              "      <td>0.21093</td>\n",
              "      <td>0.000672</td>\n",
              "      <td>314</td>\n",
              "      <td>7</td>\n",
              "      <td>0.022293</td>\n",
              "      <td>0</td>\n",
              "      <td>0.000000</td>\n",
              "      <td>0.0</td>\n",
              "      <td>91.6</td>\n",
              "      <td>0.0</td>\n",
              "      <td>0</td>\n",
              "      <td>0.000000</td>\n",
              "      <td>0</td>\n",
              "      <td>0</td>\n",
              "      <td>80990</td>\n",
              "      <td>257.929936</td>\n",
              "      <td>0</td>\n",
              "      <td>1</td>\n",
              "      <td>2</td>\n",
              "      <td>4</td>\n",
              "      <td>0</td>\n",
              "      <td>1</td>\n",
              "      <td>0</td>\n",
              "      <td>2</td>\n",
              "      <td>0</td>\n",
              "    </tr>\n",
              "    <tr>\n",
              "      <th>9</th>\n",
              "      <td>45.41</td>\n",
              "      <td>-73.95</td>\n",
              "      <td>4</td>\n",
              "      <td>2016</td>\n",
              "      <td>728</td>\n",
              "      <td>730</td>\n",
              "      <td>2.324841</td>\n",
              "      <td>1949.98</td>\n",
              "      <td>253537</td>\n",
              "      <td>0.21093</td>\n",
              "      <td>0.000672</td>\n",
              "      <td>314</td>\n",
              "      <td>7</td>\n",
              "      <td>0.022293</td>\n",
              "      <td>0</td>\n",
              "      <td>0.000000</td>\n",
              "      <td>0.0</td>\n",
              "      <td>91.6</td>\n",
              "      <td>0.0</td>\n",
              "      <td>0</td>\n",
              "      <td>0.000000</td>\n",
              "      <td>0</td>\n",
              "      <td>0</td>\n",
              "      <td>80990</td>\n",
              "      <td>257.929936</td>\n",
              "      <td>0</td>\n",
              "      <td>1</td>\n",
              "      <td>0</td>\n",
              "      <td>3</td>\n",
              "      <td>1</td>\n",
              "      <td>0</td>\n",
              "      <td>0</td>\n",
              "      <td>2</td>\n",
              "      <td>0</td>\n",
              "    </tr>\n",
              "  </tbody>\n",
              "</table>\n",
              "</div>"
            ],
            "text/plain": [
              "   latitude  ...  infractions_entrainant_count_last_100\n",
              "0     45.40  ...                                      0\n",
              "1     45.40  ...                                      0\n",
              "2     45.41  ...                                      0\n",
              "3     45.41  ...                                      0\n",
              "4     45.41  ...                                      0\n",
              "5     45.41  ...                                      0\n",
              "6     45.41  ...                                      0\n",
              "7     45.41  ...                                      0\n",
              "8     45.41  ...                                      0\n",
              "9     45.41  ...                                      0\n",
              "\n",
              "[10 rows x 34 columns]"
            ]
          },
          "metadata": {},
          "execution_count": 31
        }
      ]
    },
    {
      "cell_type": "code",
      "metadata": {
        "colab": {
          "base_uri": "https://localhost:8080/"
        },
        "id": "mxHUGcavk-8v",
        "outputId": "dce8c27f-5674-4bcc-cdf0-2e0752f27bae"
      },
      "source": [
        "!pip install geopy \n",
        "import geopy.distance\n",
        "\n",
        "def dist(x,y):\n",
        "  coords_1 = (45.504654, -73.56546)\n",
        "  coords_2 = (x, y)\n",
        "  return geopy.distance.distance(coords_1, coords_2).km\n",
        "\n",
        "df2['distance']=0\n",
        "\n",
        "for i in range(0,len(df2)-1):\n",
        "  df2['distance'][i]=dist(df2['latitude'][i], df2['longitude'][i])"
      ],
      "execution_count": null,
      "outputs": [
        {
          "output_type": "stream",
          "name": "stdout",
          "text": [
            "Requirement already satisfied: geopy in /usr/local/lib/python3.7/dist-packages (1.17.0)\n",
            "Requirement already satisfied: geographiclib<2,>=1.49 in /usr/local/lib/python3.7/dist-packages (from geopy) (1.52)\n"
          ]
        },
        {
          "output_type": "stream",
          "name": "stderr",
          "text": [
            "/usr/local/lib/python3.7/dist-packages/ipykernel_launcher.py:12: SettingWithCopyWarning: \n",
            "A value is trying to be set on a copy of a slice from a DataFrame\n",
            "\n",
            "See the caveats in the documentation: https://pandas.pydata.org/pandas-docs/stable/user_guide/indexing.html#returning-a-view-versus-a-copy\n",
            "  if sys.path[0] == '':\n"
          ]
        }
      ]
    },
    {
      "cell_type": "code",
      "metadata": {
        "colab": {
          "base_uri": "https://localhost:8080/"
        },
        "id": "g-hODrw0lD4Z",
        "outputId": "1b3b2b04-59d2-47d2-842c-e08924199820"
      },
      "source": [
        "df2['fire'] = df2['incendie_count']\n",
        "df2['fire'][df2['incendie_count']==0] = 0\n",
        "df2['fire'][(df2['incendie_count']==1)] = 1\n",
        "df2['fire'][df2['incendie_count']>=2] = 2"
      ],
      "execution_count": null,
      "outputs": [
        {
          "output_type": "stream",
          "name": "stderr",
          "text": [
            "/usr/local/lib/python3.7/dist-packages/ipykernel_launcher.py:2: SettingWithCopyWarning: \n",
            "A value is trying to be set on a copy of a slice from a DataFrame\n",
            "\n",
            "See the caveats in the documentation: https://pandas.pydata.org/pandas-docs/stable/user_guide/indexing.html#returning-a-view-versus-a-copy\n",
            "  \n",
            "/usr/local/lib/python3.7/dist-packages/ipykernel_launcher.py:3: SettingWithCopyWarning: \n",
            "A value is trying to be set on a copy of a slice from a DataFrame\n",
            "\n",
            "See the caveats in the documentation: https://pandas.pydata.org/pandas-docs/stable/user_guide/indexing.html#returning-a-view-versus-a-copy\n",
            "  This is separate from the ipykernel package so we can avoid doing imports until\n",
            "/usr/local/lib/python3.7/dist-packages/ipykernel_launcher.py:4: SettingWithCopyWarning: \n",
            "A value is trying to be set on a copy of a slice from a DataFrame\n",
            "\n",
            "See the caveats in the documentation: https://pandas.pydata.org/pandas-docs/stable/user_guide/indexing.html#returning-a-view-versus-a-copy\n",
            "  after removing the cwd from sys.path.\n"
          ]
        }
      ]
    },
    {
      "cell_type": "code",
      "metadata": {
        "id": "p2K6eRLtlI7L",
        "colab": {
          "base_uri": "https://localhost:8080/"
        },
        "outputId": "8d5f6f29-0cbf-469b-922b-15a7445f45b6"
      },
      "source": [
        "df2 = df2.drop(\"latitude\", axis=1)\n",
        "df2 = df2.drop(\"longitude\", axis=1)      \n",
        "df2 = df2.drop(\"incendie_count\", axis=1)\n",
        "df3 = df2.drop(\"year\",axis=1)\n",
        "df3 = df3.drop(\"quarter\",axis=1)\n",
        "df2['fire'].value_counts()"
      ],
      "execution_count": null,
      "outputs": [
        {
          "output_type": "execute_result",
          "data": {
            "text/plain": [
              "0    7633\n",
              "1    2644\n",
              "2    1566\n",
              "Name: fire, dtype: int64"
            ]
          },
          "metadata": {},
          "execution_count": 34
        }
      ]
    },
    {
      "cell_type": "code",
      "metadata": {
        "colab": {
          "base_uri": "https://localhost:8080/"
        },
        "id": "O-F-4IKAlL9J",
        "outputId": "b59e2a97-e372-4dc7-9444-68c21f18825a"
      },
      "source": [
        "corr_matrix = df2.corr()\n",
        "X_raw=df3.drop(\"fire\", axis=1)\n",
        "corr_matrix[\"fire\"].sort_values(ascending=False)"
      ],
      "execution_count": null,
      "outputs": [
        {
          "output_type": "execute_result",
          "data": {
            "text/plain": [
              "fire                                     1.000000\n",
              "incendie_count_last_100                  0.505725\n",
              "sum_nombre_logement                      0.503540\n",
              "incendie_count_last_300                  0.489631\n",
              "sum_etage_hors_sol                       0.445073\n",
              "total_crimes_last_100                    0.432339\n",
              "introduction_count_last_100              0.404394\n",
              "mefait_count_last_100                    0.403223\n",
              "alarm_incendie_count_last_100            0.397760\n",
              "vols_count_last_100                      0.321872\n",
              "vol_de_vehicule_count_last_100           0.218539\n",
              "households_per_population                0.202810\n",
              "caserne_count                            0.163537\n",
              "dwellings_per_population                 0.153500\n",
              "sum_superficie_batiment                  0.133144\n",
              "sum_superficie_terrain                   0.085039\n",
              "dwellings                                0.067331\n",
              "infractions_entrainant_count_last_100    0.063383\n",
              "households                               0.040217\n",
              "nombre_logement_per_population           0.025062\n",
              "superficie_batiment_per_population       0.022907\n",
              "area_per_population                     -0.005304\n",
              "year                                    -0.010462\n",
              "quarter                                 -0.034149\n",
              "averageage                              -0.041041\n",
              "population                              -0.052815\n",
              "averagesizeofcensusfamilies             -0.070708\n",
              "workers                                 -0.084697\n",
              "workers_per_population                  -0.096410\n",
              "averagehouseholdsize                    -0.173379\n",
              "area                                    -0.207958\n",
              "avg_annee_construction                  -0.220145\n",
              "distance                                -0.353648\n",
              "Name: fire, dtype: float64"
            ]
          },
          "metadata": {},
          "execution_count": 35
        }
      ]
    },
    {
      "cell_type": "code",
      "metadata": {
        "id": "vC9eHnZHlRir"
      },
      "source": [
        "from sklearn import preprocessing\n",
        "\n",
        "# standardize X and y before fitting multiple linear model\n",
        "X = pd.DataFrame(preprocessing.scale(X_raw))\n",
        "y = df3['fire'].copy()"
      ],
      "execution_count": null,
      "outputs": []
    },
    {
      "cell_type": "code",
      "metadata": {
        "id": "L-tsN4ZSlUEt",
        "colab": {
          "base_uri": "https://localhost:8080/"
        },
        "outputId": "46df18f5-7e53-413f-a07c-4e45f885bddf"
      },
      "source": [
        "X_train = X[df2['year'] < 2019]\n",
        "y_train = y[df2['year'] < 2019]\n",
        "\n",
        "X_test = X[(df2['year']==2019) & (df2['quarter']==1)]\n",
        "y_test = y[(df2['year']==2019) & (df2['quarter']==1)]\n",
        "len(X_train),len(y_train),len(X_test),len(y_test)"
      ],
      "execution_count": null,
      "outputs": [
        {
          "output_type": "execute_result",
          "data": {
            "text/plain": [
              "(7999, 7999, 494, 494)"
            ]
          },
          "metadata": {},
          "execution_count": 37
        }
      ]
    },
    {
      "cell_type": "markdown",
      "metadata": {
        "id": "jjjecAru9CHF"
      },
      "source": [
        "### **Decision Tree**"
      ]
    },
    {
      "cell_type": "code",
      "metadata": {
        "colab": {
          "base_uri": "https://localhost:8080/"
        },
        "id": "cwsaQXhylcNJ",
        "outputId": "0ff3d84b-a6fb-4523-e28b-b514e22694b9"
      },
      "source": [
        "from sklearn.tree import DecisionTreeClassifier\n",
        "\n",
        "tree_clf = DecisionTreeClassifier()\n",
        "tree_clf.fit(X_train, y_train)"
      ],
      "execution_count": null,
      "outputs": [
        {
          "output_type": "execute_result",
          "data": {
            "text/plain": [
              "DecisionTreeClassifier(ccp_alpha=0.0, class_weight=None, criterion='gini',\n",
              "                       max_depth=None, max_features=None, max_leaf_nodes=None,\n",
              "                       min_impurity_decrease=0.0, min_impurity_split=None,\n",
              "                       min_samples_leaf=1, min_samples_split=2,\n",
              "                       min_weight_fraction_leaf=0.0, presort='deprecated',\n",
              "                       random_state=None, splitter='best')"
            ]
          },
          "metadata": {},
          "execution_count": 38
        }
      ]
    },
    {
      "cell_type": "code",
      "metadata": {
        "colab": {
          "base_uri": "https://localhost:8080/"
        },
        "id": "11pW3zW4ligF",
        "outputId": "163488f1-43ff-4620-d15f-3159e4345579"
      },
      "source": [
        "from sklearn.metrics import accuracy_score\n",
        "from sklearn.metrics import confusion_matrix\n",
        "\n",
        "y_test_pred = tree_clf.predict(X_test)\n",
        "confusion_matrix_valid = confusion_matrix(y_test, y_test_pred)\n",
        "print(confusion_matrix_valid) \n",
        "y_train_pred = tree_clf.predict(X_train)\n",
        "print(f'Train score {accuracy_score(y_train_pred,y_train)}')\n",
        "print(f'Test score {accuracy_score(y_test_pred,y_test)}')"
      ],
      "execution_count": null,
      "outputs": [
        {
          "output_type": "stream",
          "name": "stdout",
          "text": [
            "[[224  74  18]\n",
            " [ 66  30  13]\n",
            " [ 25  19  25]]\n",
            "Train score 0.9968746093261658\n",
            "Test score 0.5647773279352226\n"
          ]
        }
      ]
    },
    {
      "cell_type": "code",
      "metadata": {
        "colab": {
          "base_uri": "https://localhost:8080/"
        },
        "id": "ImCWzGhflljn",
        "outputId": "7fcb645e-eb7a-4f93-a821-2f2d4af259e5"
      },
      "source": [
        "from sklearn.model_selection import GridSearchCV \n",
        "\n",
        "\n",
        "\n",
        "param_test1 = {\n",
        "  'max_depth':(2,6,10,100,200,500,1000),\n",
        "  'max_features':(2,5,10,15,20,100),\n",
        "}\n",
        "gsearch1 = GridSearchCV(estimator = DecisionTreeClassifier(), param_grid = param_test1,scoring='accuracy', n_jobs=4, cv=5)\n",
        "gsearch1.fit(X_train, y_train)\n",
        "gsearch1.cv_results_"
      ],
      "execution_count": null,
      "outputs": [
        {
          "output_type": "execute_result",
          "data": {
            "text/plain": [
              "{'mean_fit_time': array([0.02005153, 0.02261953, 0.0266984 , 0.03015084, 0.0389617 ,\n",
              "        0.00695763, 0.01054406, 0.02493205, 0.05304813, 0.07794189,\n",
              "        0.10103106, 0.00743799, 0.0216496 , 0.04350371, 0.09359584,\n",
              "        0.11549888, 0.16834073, 0.0138701 , 0.03786073, 0.078582  ,\n",
              "        0.11098223, 0.18344779, 0.23863306, 0.01232605, 0.044523  ,\n",
              "        0.06674256, 0.12554255, 0.19963059, 0.25215621, 0.01337128,\n",
              "        0.0364994 , 0.06812739, 0.1332242 , 0.17190003, 0.23823829,\n",
              "        0.01026888, 0.04519072, 0.07181196, 0.12842603, 0.15732732,\n",
              "        0.18296142, 0.00963888]),\n",
              " 'mean_score_time': array([0.00449343, 0.00345874, 0.0086484 , 0.00210099, 0.00189576,\n",
              "        0.        , 0.00191846, 0.00486784, 0.00549226, 0.00196381,\n",
              "        0.0067122 , 0.        , 0.00676317, 0.00305653, 0.00912709,\n",
              "        0.00571589, 0.00673013, 0.        , 0.00508547, 0.00734391,\n",
              "        0.00779881, 0.00622191, 0.00605054, 0.        , 0.00682597,\n",
              "        0.00698676, 0.0068295 , 0.00407066, 0.00484028, 0.        ,\n",
              "        0.00651174, 0.00657325, 0.00632343, 0.00545125, 0.00322561,\n",
              "        0.        , 0.00461955, 0.00474072, 0.00408635, 0.00506291,\n",
              "        0.00378304, 0.        ]),\n",
              " 'mean_test_score': array([0.63958099, 0.65395544, 0.6578324 , 0.6644574 , 0.6569574 ,\n",
              "               nan, 0.60520325, 0.59807935, 0.59620521, 0.59757896,\n",
              "        0.59270536,        nan, 0.52857942, 0.50857559, 0.50845138,\n",
              "        0.5017031 , 0.49920153,        nan, 0.40306879, 0.39381653,\n",
              "        0.4229427 , 0.40494074, 0.39519121,        nan, 0.42656809,\n",
              "        0.40281817, 0.41407137, 0.40231762, 0.41919426,        nan,\n",
              "        0.39656801, 0.38381746, 0.37931144, 0.42569356, 0.39981684,\n",
              "               nan, 0.39844309, 0.38781535, 0.41919606, 0.40744254,\n",
              "        0.40731442,        nan]),\n",
              " 'param_max_depth': masked_array(data=[2, 2, 2, 2, 2, 2, 6, 6, 6, 6, 6, 6, 10, 10, 10, 10, 10,\n",
              "                    10, 100, 100, 100, 100, 100, 100, 200, 200, 200, 200,\n",
              "                    200, 200, 500, 500, 500, 500, 500, 500, 1000, 1000,\n",
              "                    1000, 1000, 1000, 1000],\n",
              "              mask=[False, False, False, False, False, False, False, False,\n",
              "                    False, False, False, False, False, False, False, False,\n",
              "                    False, False, False, False, False, False, False, False,\n",
              "                    False, False, False, False, False, False, False, False,\n",
              "                    False, False, False, False, False, False, False, False,\n",
              "                    False, False],\n",
              "        fill_value='?',\n",
              "             dtype=object),\n",
              " 'param_max_features': masked_array(data=[2, 5, 10, 15, 20, 100, 2, 5, 10, 15, 20, 100, 2, 5, 10,\n",
              "                    15, 20, 100, 2, 5, 10, 15, 20, 100, 2, 5, 10, 15, 20,\n",
              "                    100, 2, 5, 10, 15, 20, 100, 2, 5, 10, 15, 20, 100],\n",
              "              mask=[False, False, False, False, False, False, False, False,\n",
              "                    False, False, False, False, False, False, False, False,\n",
              "                    False, False, False, False, False, False, False, False,\n",
              "                    False, False, False, False, False, False, False, False,\n",
              "                    False, False, False, False, False, False, False, False,\n",
              "                    False, False],\n",
              "        fill_value='?',\n",
              "             dtype=object),\n",
              " 'params': [{'max_depth': 2, 'max_features': 2},\n",
              "  {'max_depth': 2, 'max_features': 5},\n",
              "  {'max_depth': 2, 'max_features': 10},\n",
              "  {'max_depth': 2, 'max_features': 15},\n",
              "  {'max_depth': 2, 'max_features': 20},\n",
              "  {'max_depth': 2, 'max_features': 100},\n",
              "  {'max_depth': 6, 'max_features': 2},\n",
              "  {'max_depth': 6, 'max_features': 5},\n",
              "  {'max_depth': 6, 'max_features': 10},\n",
              "  {'max_depth': 6, 'max_features': 15},\n",
              "  {'max_depth': 6, 'max_features': 20},\n",
              "  {'max_depth': 6, 'max_features': 100},\n",
              "  {'max_depth': 10, 'max_features': 2},\n",
              "  {'max_depth': 10, 'max_features': 5},\n",
              "  {'max_depth': 10, 'max_features': 10},\n",
              "  {'max_depth': 10, 'max_features': 15},\n",
              "  {'max_depth': 10, 'max_features': 20},\n",
              "  {'max_depth': 10, 'max_features': 100},\n",
              "  {'max_depth': 100, 'max_features': 2},\n",
              "  {'max_depth': 100, 'max_features': 5},\n",
              "  {'max_depth': 100, 'max_features': 10},\n",
              "  {'max_depth': 100, 'max_features': 15},\n",
              "  {'max_depth': 100, 'max_features': 20},\n",
              "  {'max_depth': 100, 'max_features': 100},\n",
              "  {'max_depth': 200, 'max_features': 2},\n",
              "  {'max_depth': 200, 'max_features': 5},\n",
              "  {'max_depth': 200, 'max_features': 10},\n",
              "  {'max_depth': 200, 'max_features': 15},\n",
              "  {'max_depth': 200, 'max_features': 20},\n",
              "  {'max_depth': 200, 'max_features': 100},\n",
              "  {'max_depth': 500, 'max_features': 2},\n",
              "  {'max_depth': 500, 'max_features': 5},\n",
              "  {'max_depth': 500, 'max_features': 10},\n",
              "  {'max_depth': 500, 'max_features': 15},\n",
              "  {'max_depth': 500, 'max_features': 20},\n",
              "  {'max_depth': 500, 'max_features': 100},\n",
              "  {'max_depth': 1000, 'max_features': 2},\n",
              "  {'max_depth': 1000, 'max_features': 5},\n",
              "  {'max_depth': 1000, 'max_features': 10},\n",
              "  {'max_depth': 1000, 'max_features': 15},\n",
              "  {'max_depth': 1000, 'max_features': 20},\n",
              "  {'max_depth': 1000, 'max_features': 100}],\n",
              " 'rank_test_score': array([ 5,  4,  2,  1,  3, 37,  6,  7,  9,  8, 10, 39, 11, 12, 13, 14, 15,\n",
              "        38, 25, 32, 18, 24, 31, 40, 16, 26, 21, 27, 20, 36, 30, 34, 35, 17,\n",
              "        28, 41, 29, 33, 19, 22, 23, 42], dtype=int32),\n",
              " 'split0_test_score': array([0.639375, 0.645625, 0.6525  , 0.651875, 0.6575  ,      nan,\n",
              "        0.68    , 0.655625, 0.65    , 0.674375, 0.658125,      nan,\n",
              "        0.63    , 0.63125 , 0.628125, 0.654375, 0.63625 ,      nan,\n",
              "        0.5625  , 0.568125, 0.546875, 0.575   , 0.56125 ,      nan,\n",
              "        0.578125, 0.558125, 0.57875 , 0.551875, 0.5875  ,      nan,\n",
              "        0.579375, 0.591875, 0.541875, 0.5875  , 0.570625,      nan,\n",
              "        0.5675  , 0.559375, 0.603125, 0.578125, 0.53875 ,      nan]),\n",
              " 'split1_test_score': array([0.65875 , 0.689375, 0.6725  , 0.696875, 0.696875,      nan,\n",
              "        0.6     , 0.608125, 0.61125 , 0.595625, 0.596875,      nan,\n",
              "        0.50875 , 0.5125  , 0.518125, 0.439375, 0.435625,      nan,\n",
              "        0.37625 , 0.3275  , 0.378125, 0.335625, 0.323125,      nan,\n",
              "        0.413125, 0.344375, 0.340625, 0.311875, 0.381875,      nan,\n",
              "        0.286875, 0.32    , 0.279375, 0.328125, 0.29625 ,      nan,\n",
              "        0.40125 , 0.3025  , 0.355625, 0.296875, 0.366875,      nan]),\n",
              " 'split2_test_score': array([0.69125 , 0.6975  , 0.68125 , 0.6975  , 0.700625,      nan,\n",
              "        0.630625, 0.58625 , 0.5775  , 0.559375, 0.565   ,      nan,\n",
              "        0.44875 , 0.43625 , 0.37125 , 0.416875, 0.404375,      nan,\n",
              "        0.2825  , 0.249375, 0.354375, 0.279375, 0.27    ,      nan,\n",
              "        0.30875 , 0.324375, 0.266875, 0.304375, 0.26875 ,      nan,\n",
              "        0.25875 , 0.161875, 0.303125, 0.336875, 0.28625 ,      nan,\n",
              "        0.24375 , 0.264375, 0.2725  , 0.330625, 0.32375 ,      nan]),\n",
              " 'split3_test_score': array([0.560625, 0.59375 , 0.62375 , 0.616875, 0.570625,      nan,\n",
              "        0.489375, 0.505625, 0.500625, 0.526875, 0.500625,      nan,\n",
              "        0.42    , 0.358125, 0.41375 , 0.373125, 0.4075  ,      nan,\n",
              "        0.24375 , 0.291875, 0.29375 , 0.30875 , 0.291875,      nan,\n",
              "        0.288125, 0.241875, 0.313125, 0.3025  , 0.30375 ,      nan,\n",
              "        0.31375 , 0.305625, 0.280625, 0.3275  , 0.31125 ,      nan,\n",
              "        0.235   , 0.29    , 0.29625 , 0.29125 , 0.291875,      nan]),\n",
              " 'split4_test_score': array([0.64790494, 0.6435272 , 0.65916198, 0.65916198, 0.65916198,\n",
              "               nan, 0.62601626, 0.63477173, 0.64165103, 0.63164478,\n",
              "        0.64290181,        nan, 0.63539712, 0.60475297, 0.61100688,\n",
              "        0.62476548, 0.61225766,        nan, 0.55034396, 0.53220763,\n",
              "        0.54158849, 0.52595372, 0.52970607,        nan, 0.54471545,\n",
              "        0.54534084, 0.57098186, 0.5409631 , 0.55409631,        nan,\n",
              "        0.54409006, 0.53971232, 0.49155722, 0.54846779, 0.53470919,\n",
              "               nan, 0.54471545, 0.52282677, 0.5684803 , 0.54033771,\n",
              "        0.51532208,        nan]),\n",
              " 'std_fit_time': array([0.00472771, 0.00569378, 0.00392208, 0.00937832, 0.00954469,\n",
              "        0.00321654, 0.00204931, 0.00801007, 0.00877752, 0.00909178,\n",
              "        0.00611422, 0.00326525, 0.00737963, 0.00356483, 0.00821101,\n",
              "        0.01659875, 0.02070087, 0.00223905, 0.01731656, 0.01493914,\n",
              "        0.0331672 , 0.05478956, 0.02184917, 0.00043449, 0.00706821,\n",
              "        0.00521196, 0.01294416, 0.01496886, 0.01569168, 0.0065068 ,\n",
              "        0.01608126, 0.0164407 , 0.01104336, 0.03047625, 0.01396532,\n",
              "        0.00443359, 0.00749762, 0.00608527, 0.03104928, 0.0472832 ,\n",
              "        0.05910823, 0.00371004]),\n",
              " 'std_score_time': array([2.63018376e-03, 1.40714074e-03, 3.61874323e-03, 1.99439124e-04,\n",
              "        4.78533113e-05, 0.00000000e+00, 3.05110954e-05, 5.15123775e-03,\n",
              "        3.23948005e-03, 1.05860899e-04, 2.57702401e-03, 0.00000000e+00,\n",
              "        3.92390369e-03, 1.91373225e-03, 3.64539767e-03, 4.12369087e-03,\n",
              "        5.43451689e-03, 0.00000000e+00, 4.71825679e-03, 4.07251478e-03,\n",
              "        4.16192635e-03, 4.32781684e-03, 4.11739475e-03, 0.00000000e+00,\n",
              "        2.75415177e-03, 3.65783403e-03, 5.42924831e-03, 2.94619111e-03,\n",
              "        3.15119430e-03, 0.00000000e+00, 3.86552888e-03, 3.29936976e-03,\n",
              "        3.12976502e-03, 2.71637244e-03, 1.24229387e-03, 0.00000000e+00,\n",
              "        2.81080133e-03, 4.06107952e-03, 2.89155956e-03, 3.01220467e-03,\n",
              "        3.10693679e-03, 0.00000000e+00]),\n",
              " 'std_test_score': array([0.04322156, 0.03729213, 0.01977541, 0.03030893, 0.04681605,\n",
              "               nan, 0.06343068, 0.05185844, 0.05416827, 0.052001  ,\n",
              "        0.05668012,        nan, 0.08972356, 0.1021576 , 0.10268939,\n",
              "        0.11494867, 0.10296328,        nan, 0.13247403, 0.13052881,\n",
              "        0.10279781, 0.12115146, 0.12426615,        nan, 0.11845388,\n",
              "        0.12641563, 0.13341009, 0.11775072, 0.1295214 ,        nan,\n",
              "        0.13643045, 0.15939657, 0.11362808, 0.11688043, 0.12556988,\n",
              "               nan, 0.14186424, 0.12628925, 0.13913475, 0.12523614,\n",
              "        0.1008817 ,        nan])}"
            ]
          },
          "metadata": {},
          "execution_count": 15
        }
      ]
    },
    {
      "cell_type": "code",
      "metadata": {
        "id": "ALk3S0PXlpWr"
      },
      "source": [
        "from sklearn.tree import DecisionTreeClassifier\n",
        "\n",
        "tree_clf = DecisionTreeClassifier(max_depth=6,max_features=10)\n",
        "tree_clf.fit(X_train, y_train)\n",
        "y_test_pred = tree_clf.predict(X_test)\n"
      ],
      "execution_count": null,
      "outputs": []
    },
    {
      "cell_type": "code",
      "metadata": {
        "colab": {
          "base_uri": "https://localhost:8080/"
        },
        "id": "F9C0DLqXlt-b",
        "outputId": "2f6495a5-80c2-4046-9654-ba1f12933cb7"
      },
      "source": [
        "from sklearn.metrics import accuracy_score\n",
        "from sklearn.metrics import confusion_matrix\n",
        "\n",
        "y_test_pred = tree_clf.predict(X_test)\n",
        "confusion_matrix_valid = confusion_matrix(y_test, y_test_pred)\n",
        "print(confusion_matrix_valid) \n",
        "y_train_pred = tree_clf.predict(X_train)\n",
        "print(f'Train score {accuracy_score(y_train_pred,y_train)}')\n",
        "print(f'Test score {accuracy_score(y_test_pred,y_test)}')"
      ],
      "execution_count": null,
      "outputs": [
        {
          "output_type": "stream",
          "name": "stdout",
          "text": [
            "[[283  21  12]\n",
            " [ 71  25  13]\n",
            " [ 26  13  30]]\n",
            "Train score 0.6977122140267533\n",
            "Test score 0.6842105263157895\n"
          ]
        }
      ]
    },
    {
      "cell_type": "code",
      "metadata": {
        "colab": {
          "base_uri": "https://localhost:8080/"
        },
        "id": "HX3HNpKklwnB",
        "outputId": "149aaf27-a932-4f68-afe9-21ea0c8f9819"
      },
      "source": [
        "path = tree_clf.cost_complexity_pruning_path(X_train, y_train)\n",
        "ccp_alphas, impurities = path.ccp_alphas, path.impurities\n",
        "print(ccp_alphas)"
      ],
      "execution_count": null,
      "outputs": [
        {
          "output_type": "stream",
          "name": "stdout",
          "text": [
            "[0.00000000e+00 4.24295461e-05 1.53954429e-04 1.68026956e-04\n",
            " 1.78452641e-04 1.81858402e-04 2.00574522e-04 2.07137961e-04\n",
            " 2.27686507e-04 2.30235256e-04 2.63921879e-04 2.65219556e-04\n",
            " 2.65971316e-04 2.82442713e-04 3.05395317e-04 3.34676073e-04\n",
            " 3.51752306e-04 3.52518446e-04 3.98008935e-04 3.98849018e-04\n",
            " 4.05106327e-04 4.13061281e-04 4.72712263e-04 4.73288824e-04\n",
            " 4.77191378e-04 4.91549217e-04 4.92101179e-04 5.30384356e-04\n",
            " 5.43141086e-04 5.81301242e-04 5.81592515e-04 5.88265107e-04\n",
            " 5.90199435e-04 6.00561315e-04 6.17975884e-04 6.70915300e-04\n",
            " 6.91284343e-04 7.27858098e-04 7.33158237e-04 8.21258663e-04\n",
            " 8.35678794e-04 8.92695214e-04 1.04459315e-03 1.14486331e-03\n",
            " 1.24799621e-03 1.28901719e-03 2.62326199e-03 4.48562361e-03\n",
            " 5.04427882e-03 7.75111158e-03 9.20796294e-03 1.37205391e-02\n",
            " 5.58333590e-02]\n"
          ]
        }
      ]
    },
    {
      "cell_type": "code",
      "metadata": {
        "id": "7S1yCUnelzBg"
      },
      "source": [
        "# For each alpha we will append our model to a list\n",
        "clfs = []\n",
        "for ccp_alpha in ccp_alphas:\n",
        "    clf = DecisionTreeClassifier(random_state=0, ccp_alpha=ccp_alpha)\n",
        "    clf.fit(X_train, y_train)\n",
        "    clfs.append(clf)"
      ],
      "execution_count": null,
      "outputs": []
    },
    {
      "cell_type": "code",
      "metadata": {
        "colab": {
          "base_uri": "https://localhost:8080/",
          "height": 264
        },
        "id": "KrZLiFuXl3WX",
        "outputId": "d6d26d1a-d86e-433c-d1ef-a76bd921bc4b"
      },
      "source": [
        "clfs = clfs[:-1]\n",
        "ccp_alphas = ccp_alphas[:-1]\n",
        "node_counts = [clf.tree_.node_count for clf in clfs]\n",
        "depth = [clf.tree_.max_depth for clf in clfs]\n",
        "plt.scatter(ccp_alphas,node_counts)\n",
        "plt.scatter(ccp_alphas,depth)\n",
        "plt.plot(ccp_alphas,node_counts,label='no of nodes',drawstyle=\"steps-post\")\n",
        "plt.plot(ccp_alphas,depth,label='depth',drawstyle=\"steps-post\")\n",
        "plt.legend()\n",
        "plt.show()"
      ],
      "execution_count": null,
      "outputs": [
        {
          "output_type": "display_data",
          "data": {
            "image/png": "[encoded data removed]",
            "text/plain": [
              "<Figure size 432x288 with 1 Axes>"
            ]
          },
          "metadata": {
            "needs_background": "light"
          }
        }
      ]
    },
    {
      "cell_type": "code",
      "metadata": {
        "colab": {
          "base_uri": "https://localhost:8080/",
          "height": 281
        },
        "id": "yKWakTLhl5xE",
        "outputId": "683ebbf3-58b1-4f6f-f66b-b1707526aa56"
      },
      "source": [
        "from sklearn.metrics import accuracy_score\n",
        "from sklearn.metrics import confusion_matrix\n",
        "\n",
        "\n",
        "train_acc = []\n",
        "test_acc = []\n",
        "for c in clfs:\n",
        "    y_train_pred = c.predict(X_train)\n",
        "    y_test_pred = c.predict(X_test)\n",
        "    train_acc.append(accuracy_score(y_train_pred,y_train))\n",
        "    test_acc.append(accuracy_score(y_test_pred,y_test))\n",
        "\n",
        "plt.scatter(ccp_alphas,train_acc)\n",
        "plt.scatter(ccp_alphas,test_acc)\n",
        "plt.plot(ccp_alphas,train_acc,label='train_accuracy',drawstyle=\"steps-post\")\n",
        "plt.plot(ccp_alphas,test_acc,label='test_accuracy',drawstyle=\"steps-post\")\n",
        "plt.legend()\n",
        "plt.title('Accuracy vs alpha')\n",
        "plt.show()"
      ],
      "execution_count": null,
      "outputs": [
        {
          "output_type": "display_data",
          "data": {
            "image/png": "[encoded data removed]",
            "text/plain": [
              "<Figure size 432x288 with 1 Axes>"
            ]
          },
          "metadata": {
            "needs_background": "light"
          }
        }
      ]
    },
    {
      "cell_type": "code",
      "metadata": {
        "colab": {
          "base_uri": "https://localhost:8080/"
        },
        "id": "SBeddZJJl8Hy",
        "outputId": "e9f8c7c2-0b5d-4ed5-f59a-44c026844185"
      },
      "source": [
        "from sklearn.metrics import accuracy_score\n",
        "from sklearn.metrics import confusion_matrix\n",
        "\n",
        "clf_ = DecisionTreeClassifier(random_state=0,ccp_alpha=0.0025)\n",
        "clf_.fit(X_train,y_train)\n",
        "y_train_pred = clf_.predict(X_train)\n",
        "y_test_pred = clf_.predict(X_test)\n",
        "\n",
        "print(f'Train score {accuracy_score(y_train_pred,y_train)}')\n",
        "print(f'Test score {accuracy_score(y_test_pred,y_test)}')\n"
      ],
      "execution_count": null,
      "outputs": [
        {
          "output_type": "stream",
          "name": "stdout",
          "text": [
            "Train score 0.6788348543567946\n",
            "Test score 0.6923076923076923\n"
          ]
        }
      ]
    },
    {
      "cell_type": "code",
      "metadata": {
        "colab": {
          "base_uri": "https://localhost:8080/"
        },
        "id": "FBhhOPVGQ41J",
        "outputId": "4954c465-bd25-4ffb-8674-f2cf1ebd7036"
      },
      "source": [
        "from sklearn.metrics import accuracy_score\n",
        "from sklearn.metrics import confusion_matrix\n",
        "\n",
        "y_test_pred = clf_.predict(X_test)\n",
        "confusion_matrix_valid = confusion_matrix(y_test, y_test_pred)\n",
        "accuracy_score = accuracy_score(y_test, y_test_pred)\n",
        "print(confusion_matrix_valid, accuracy_score) "
      ],
      "execution_count": null,
      "outputs": [
        {
          "output_type": "stream",
          "name": "stdout",
          "text": [
            "[[302   0  14]\n",
            " [ 91   0  18]\n",
            " [ 29   0  40]] 0.6923076923076923\n"
          ]
        }
      ]
    },
    {
      "cell_type": "markdown",
      "metadata": {
        "id": "D-2OEaKzmAO6"
      },
      "source": [
        "https://www.kaggle.com/arunmohan003/pruning-decision-trees-tutorial"
      ]
    },
    {
      "cell_type": "markdown",
      "metadata": {
        "id": "QdENjsqYUo-I"
      },
      "source": [
        "### **Neural Network**\n"
      ]
    },
    {
      "cell_type": "code",
      "metadata": {
        "id": "TBLZiE-EUnfO",
        "colab": {
          "base_uri": "https://localhost:8080/"
        },
        "outputId": "6db00b4c-1930-4e01-dccb-6aeeb97cee33"
      },
      "source": [
        "from tensorflow import keras\n",
        "from tensorflow.keras.layers import BatchNormalization\n",
        "model = keras.models.Sequential([   \n",
        "    keras.layers.Dense(300, activation=\"relu\"),\n",
        "    keras.layers.Dense(100, activation=\"relu\"),\n",
        "    keras.layers.Dense(3, activation=\"sigmoid\")\n",
        "])\n",
        "\n",
        "model.compile(loss=\"sparse_categorical_crossentropy\",\n",
        "              optimizer=\"sgd\",\n",
        "              metrics=[\"accuracy\"])\n",
        "history = model.fit(X_train, y_train, epochs=30)\n",
        "model.evaluate(X_test, y_test)"
      ],
      "execution_count": null,
      "outputs": [
        {
          "output_type": "stream",
          "name": "stdout",
          "text": [
            "Epoch 1/30\n",
            "250/250 [==============================] - 1s 2ms/step - loss: 0.7938 - accuracy: 0.6566\n",
            "Epoch 2/30\n",
            "250/250 [==============================] - 0s 2ms/step - loss: 0.7227 - accuracy: 0.6848\n",
            "Epoch 3/30\n",
            "250/250 [==============================] - 0s 2ms/step - loss: 0.7120 - accuracy: 0.6871\n",
            "Epoch 4/30\n",
            "250/250 [==============================] - 0s 2ms/step - loss: 0.7063 - accuracy: 0.6908\n",
            "Epoch 5/30\n",
            "250/250 [==============================] - 0s 2ms/step - loss: 0.7022 - accuracy: 0.6885\n",
            "Epoch 6/30\n",
            "250/250 [==============================] - 0s 2ms/step - loss: 0.7002 - accuracy: 0.6888\n",
            "Epoch 7/30\n",
            "250/250 [==============================] - 0s 2ms/step - loss: 0.6980 - accuracy: 0.6888\n",
            "Epoch 8/30\n",
            "250/250 [==============================] - 0s 2ms/step - loss: 0.6955 - accuracy: 0.6912\n",
            "Epoch 9/30\n",
            "250/250 [==============================] - 0s 2ms/step - loss: 0.6939 - accuracy: 0.6918\n",
            "Epoch 10/30\n",
            "250/250 [==============================] - 0s 2ms/step - loss: 0.6928 - accuracy: 0.6915\n",
            "Epoch 11/30\n",
            "250/250 [==============================] - 0s 2ms/step - loss: 0.6912 - accuracy: 0.6916\n",
            "Epoch 12/30\n",
            "250/250 [==============================] - 0s 2ms/step - loss: 0.6896 - accuracy: 0.6938\n",
            "Epoch 13/30\n",
            "250/250 [==============================] - 0s 2ms/step - loss: 0.6887 - accuracy: 0.6955\n",
            "Epoch 14/30\n",
            "250/250 [==============================] - 0s 2ms/step - loss: 0.6879 - accuracy: 0.6917\n",
            "Epoch 15/30\n",
            "250/250 [==============================] - 0s 2ms/step - loss: 0.6865 - accuracy: 0.6930\n",
            "Epoch 16/30\n",
            "250/250 [==============================] - 0s 2ms/step - loss: 0.6859 - accuracy: 0.6938\n",
            "Epoch 17/30\n",
            "250/250 [==============================] - 0s 2ms/step - loss: 0.6847 - accuracy: 0.6945\n",
            "Epoch 18/30\n",
            "250/250 [==============================] - 0s 2ms/step - loss: 0.6842 - accuracy: 0.6948\n",
            "Epoch 19/30\n",
            "250/250 [==============================] - 0s 2ms/step - loss: 0.6830 - accuracy: 0.6973\n",
            "Epoch 20/30\n",
            "250/250 [==============================] - 0s 2ms/step - loss: 0.6827 - accuracy: 0.6967\n",
            "Epoch 21/30\n",
            "250/250 [==============================] - 0s 2ms/step - loss: 0.6811 - accuracy: 0.6983\n",
            "Epoch 22/30\n",
            "250/250 [==============================] - 0s 2ms/step - loss: 0.6804 - accuracy: 0.6966\n",
            "Epoch 23/30\n",
            "250/250 [==============================] - 0s 2ms/step - loss: 0.6793 - accuracy: 0.6977\n",
            "Epoch 24/30\n",
            "250/250 [==============================] - 0s 2ms/step - loss: 0.6795 - accuracy: 0.6978\n",
            "Epoch 25/30\n",
            "250/250 [==============================] - 0s 2ms/step - loss: 0.6786 - accuracy: 0.6981\n",
            "Epoch 26/30\n",
            "250/250 [==============================] - 0s 2ms/step - loss: 0.6772 - accuracy: 0.7011\n",
            "Epoch 27/30\n",
            "250/250 [==============================] - 0s 2ms/step - loss: 0.6772 - accuracy: 0.6997\n",
            "Epoch 28/30\n",
            "250/250 [==============================] - 0s 2ms/step - loss: 0.6762 - accuracy: 0.6996\n",
            "Epoch 29/30\n",
            "250/250 [==============================] - 0s 2ms/step - loss: 0.6754 - accuracy: 0.7005\n",
            "Epoch 30/30\n",
            "250/250 [==============================] - 0s 2ms/step - loss: 0.6750 - accuracy: 0.7013\n",
            "16/16 [==============================] - 0s 1ms/step - loss: 0.7294 - accuracy: 0.6862\n"
          ]
        },
        {
          "output_type": "execute_result",
          "data": {
            "text/plain": [
              "[0.7294379472732544, 0.6862348318099976]"
            ]
          },
          "metadata": {},
          "execution_count": 30
        }
      ]
    },
    {
      "cell_type": "code",
      "metadata": {
        "colab": {
          "base_uri": "https://localhost:8080/"
        },
        "id": "iqltmcbN5l6G",
        "outputId": "911ab3c8-9698-43df-f846-27714d9b52d6"
      },
      "source": [
        "from tensorflow.keras.optimizers import SGD, Adam, Adagrad, RMSprop\n",
        "import tensorflow.keras.backend as K\n",
        "\n",
        "dflist = []\n",
        "\n",
        "optimizers = ['SGD(learning_rate=0.01)',\n",
        "              'SGD(learning_rate=0.01, momentum=0.3)',\n",
        "              'SGD(learning_rate=0.01, momentum=0.3, nesterov=True)',  \n",
        "              'Adam(learning_rate=0.01)',\n",
        "              'Adagrad(learning_rate=0.01)',\n",
        "              'RMSprop(learning_rate=0.01)']\n",
        "\n",
        "for opt_name in optimizers:\n",
        "\n",
        "    K.clear_session()    \n",
        "    model = keras.models.Sequential([   \n",
        "    keras.layers.Dense(300, activation=\"relu\"),\n",
        "    keras.layers.Dense(100, activation=\"relu\"),\n",
        "    keras.layers.Dense(3, activation=\"sigmoid\")])    \n",
        "    model.compile(loss='sparse_categorical_crossentropy',\n",
        "                  optimizer=eval(opt_name),\n",
        "                  metrics=['accuracy'])\n",
        "    h = model.fit(X_train, y_train, batch_size=16, epochs=5, verbose=0)    \n",
        "    print(opt_name)\n",
        "    print(model.evaluate(X_test, y_test))"
      ],
      "execution_count": null,
      "outputs": [
        {
          "output_type": "stream",
          "name": "stdout",
          "text": [
            "SGD(learning_rate=0.01)\n",
            "16/16 [==============================] - 0s 2ms/step - loss: 0.7278 - accuracy: 0.6883\n",
            "[0.7278109788894653, 0.6882591247558594]\n",
            "SGD(learning_rate=0.01, momentum=0.3)\n",
            "16/16 [==============================] - 0s 2ms/step - loss: 0.7238 - accuracy: 0.6943\n",
            "[0.7238156199455261, 0.6943320035934448]\n",
            "SGD(learning_rate=0.01, momentum=0.3, nesterov=True)\n",
            "16/16 [==============================] - 0s 2ms/step - loss: 0.7229 - accuracy: 0.6923\n",
            "[0.7229474782943726, 0.692307710647583]\n",
            "Adam(learning_rate=0.01)\n",
            "16/16 [==============================] - 0s 2ms/step - loss: 0.7414 - accuracy: 0.6862\n",
            "[0.7414220571517944, 0.6862348318099976]\n",
            "Adagrad(learning_rate=0.01)\n",
            "16/16 [==============================] - 0s 2ms/step - loss: 0.7251 - accuracy: 0.6862\n",
            "[0.7250977754592896, 0.6862348318099976]\n",
            "RMSprop(learning_rate=0.01)\n",
            "16/16 [==============================] - 0s 2ms/step - loss: 0.7563 - accuracy: 0.6964\n",
            "[0.7563157081604004, 0.6963562965393066]\n"
          ]
        }
      ]
    },
    {
      "cell_type": "code",
      "metadata": {
        "colab": {
          "base_uri": "https://localhost:8080/"
        },
        "id": "kasm8Fcb8k8O",
        "outputId": "4e61ce6c-843f-4336-bece-831501e962d4"
      },
      "source": [
        "from tensorflow.keras.optimizers import SGD, Adam, Adagrad, RMSprop\n",
        "import tensorflow.keras.backend as K\n",
        "\n",
        "dflist = []\n",
        "\n",
        "batch_sizes = [16, 32, 64, 128,1000]\n",
        "\n",
        "for batch_size in batch_sizes:\n",
        "    K.clear_session()    \n",
        "    model = keras.models.Sequential([   \n",
        "    keras.layers.Dense(300, activation=\"relu\"),\n",
        "    keras.layers.Dense(100, activation=\"relu\"),\n",
        "    keras.layers.Dense(3, activation=\"sigmoid\")])    \n",
        "\n",
        "    model.compile(loss='sparse_categorical_crossentropy',\n",
        "                  optimizer='sgd',\n",
        "                  metrics=['accuracy'])\n",
        "    h = model.fit(X_train, y_train, batch_size=batch_size, verbose=0, epochs=10)\n",
        "    print(batch_size)\n",
        "    print(model.evaluate(X_test, y_test))"
      ],
      "execution_count": null,
      "outputs": [
        {
          "output_type": "stream",
          "name": "stdout",
          "text": [
            "16\n",
            "16/16 [==============================] - 0s 2ms/step - loss: 0.7237 - accuracy: 0.6943\n",
            "[0.7236694693565369, 0.6943320035934448]\n",
            "32\n",
            "16/16 [==============================] - 0s 1ms/step - loss: 0.7226 - accuracy: 0.6923\n",
            "[0.7225515842437744, 0.692307710647583]\n",
            "64\n",
            "16/16 [==============================] - 0s 2ms/step - loss: 0.7227 - accuracy: 0.6862\n",
            "[0.7227292060852051, 0.6862348318099976]\n",
            "128\n",
            "16/16 [==============================] - 0s 2ms/step - loss: 0.7360 - accuracy: 0.6964\n",
            "[0.7359642386436462, 0.6963562965393066]\n",
            "1000\n",
            "16/16 [==============================] - 0s 2ms/step - loss: 0.7806 - accuracy: 0.6802\n",
            "[0.7806000113487244, 0.6801619529724121]\n"
          ]
        }
      ]
    },
    {
      "cell_type": "code",
      "metadata": {
        "colab": {
          "base_uri": "https://localhost:8080/"
        },
        "id": "GJmikKiv-N4P",
        "outputId": "4775e7b9-8260-4796-b332-93b4e9cf3c57"
      },
      "source": [
        "from tensorflow import keras\n",
        "from tensorflow.keras.layers import BatchNormalization\n",
        "model = keras.models.Sequential([   \n",
        "    keras.layers.Dense(300, activation=\"relu\"),\n",
        "    keras.layers.Dense(100, activation=\"relu\"),\n",
        "    keras.layers.Dense(3, activation=\"softmax\")\n",
        "])\n",
        "model.add(BatchNormalization())\n",
        "model.compile(loss=\"sparse_categorical_crossentropy\",\n",
        "              optimizer=\"sgd\",\n",
        "              metrics=[\"accuracy\"])\n",
        "history = model.fit(X_train, y_train, epochs=10)\n",
        "model.evaluate(X_test, y_test)\n",
        "\n"
      ],
      "execution_count": null,
      "outputs": [
        {
          "output_type": "stream",
          "name": "stdout",
          "text": [
            "Epoch 1/10\n",
            "250/250 [==============================] - 1s 2ms/step - loss: 4.7669 - accuracy: 0.5206\n",
            "Epoch 2/10\n",
            "250/250 [==============================] - 1s 2ms/step - loss: 2.6494 - accuracy: 0.6390\n",
            "Epoch 3/10\n",
            "250/250 [==============================] - 0s 2ms/step - loss: 2.6495 - accuracy: 0.6390\n",
            "Epoch 4/10\n",
            "250/250 [==============================] - 0s 2ms/step - loss: 2.6495 - accuracy: 0.6390\n",
            "Epoch 5/10\n",
            "250/250 [==============================] - 0s 2ms/step - loss: 2.6492 - accuracy: 0.6390\n",
            "Epoch 6/10\n",
            "250/250 [==============================] - 0s 2ms/step - loss: 2.6494 - accuracy: 0.6390\n",
            "Epoch 7/10\n",
            "250/250 [==============================] - 0s 2ms/step - loss: 2.6494 - accuracy: 0.6390\n",
            "Epoch 8/10\n",
            "250/250 [==============================] - 0s 2ms/step - loss: 2.6494 - accuracy: 0.6390\n",
            "Epoch 9/10\n",
            "250/250 [==============================] - 0s 2ms/step - loss: 2.6494 - accuracy: 0.6390\n",
            "Epoch 10/10\n",
            "250/250 [==============================] - 0s 2ms/step - loss: 2.6495 - accuracy: 0.6390\n",
            "16/16 [==============================] - 0s 1ms/step - loss: 2.7792 - accuracy: 0.6397\n"
          ]
        },
        {
          "output_type": "execute_result",
          "data": {
            "text/plain": [
              "[2.7791640758514404, 0.6396760940551758]"
            ]
          },
          "metadata": {},
          "execution_count": 34
        }
      ]
    },
    {
      "cell_type": "code",
      "metadata": {
        "colab": {
          "base_uri": "https://localhost:8080/"
        },
        "id": "yXyeOZuC_MY0",
        "outputId": "8fffc7a9-f9c6-48db-9758-d086e900f7a7"
      },
      "source": [
        "dflist = []\n",
        "\n",
        "learning_rates = [.001,0.01, 0.05, 0.1, 0.5,1]\n",
        "\n",
        "for learning_rate in learning_rates:\n",
        "    K.clear_session()    \n",
        "    model = keras.models.Sequential([   \n",
        "    keras.layers.Dense(300, activation=\"relu\"),\n",
        "    keras.layers.Dense(100, activation=\"relu\"),\n",
        "    keras.layers.Dense(3, activation=\"sigmoid\")])    \n",
        "\n",
        "    model.compile(loss='sparse_categorical_crossentropy',\n",
        "                  optimizer=SGD(learning_rate=learning_rate),\n",
        "                  metrics=['accuracy'])\n",
        "    h = model.fit(X_train, y_train, batch_size=128, verbose=0, epochs=10)\n",
        "    print(learning_rate)\n",
        "    print(model.evaluate(X_test, y_test))"
      ],
      "execution_count": null,
      "outputs": [
        {
          "output_type": "stream",
          "name": "stdout",
          "text": [
            "0.001\n",
            "16/16 [==============================] - 0s 2ms/step - loss: 0.7951 - accuracy: 0.6700\n",
            "[0.7950705289840698, 0.670040488243103]\n",
            "0.01\n",
            "16/16 [==============================] - 0s 2ms/step - loss: 0.7320 - accuracy: 0.6964\n",
            "[0.7319791913032532, 0.6963562965393066]\n",
            "0.05\n",
            "16/16 [==============================] - 0s 1ms/step - loss: 0.7244 - accuracy: 0.6862\n",
            "[0.7243712544441223, 0.6862348318099976]\n",
            "0.1\n",
            "16/16 [==============================] - 0s 2ms/step - loss: 0.7292 - accuracy: 0.6842\n",
            "[0.7292081713676453, 0.6842105388641357]\n",
            "0.5\n",
            "16/16 [==============================] - 0s 1ms/step - loss: 0.7382 - accuracy: 0.6903\n",
            "[0.7382389307022095, 0.6902834177017212]\n",
            "1\n",
            "16/16 [==============================] - 0s 1ms/step - loss: 0.7413 - accuracy: 0.6640\n",
            "[0.7413225173950195, 0.6639676094055176]\n"
          ]
        }
      ]
    },
    {
      "cell_type": "code",
      "metadata": {
        "colab": {
          "base_uri": "https://localhost:8080/"
        },
        "id": "odZtttwgAxXB",
        "outputId": "9c73e8f1-0cfd-4e56-c191-e864aa8d861b"
      },
      "source": [
        "dflist = []\n",
        "\n",
        "initializers = ['zeros', \n",
        "                'uniform', \n",
        "                'normal',\n",
        "                'he_normal', \n",
        "                'lecun_uniform']\n",
        "\n",
        "for initializers in initializers:\n",
        "    K.clear_session()    \n",
        "    model = keras.models.Sequential([   \n",
        "    keras.layers.Dense(300, activation=\"relu\",kernel_initializer=initializers),\n",
        "    keras.layers.Dense(100, activation=\"relu\"),\n",
        "    keras.layers.Dense(3, activation=\"sigmoid\")])    \n",
        "\n",
        "    model.compile(loss='sparse_categorical_crossentropy',\n",
        "                  optimizer=SGD(learning_rate=learning_rate),\n",
        "                  metrics=['accuracy'])\n",
        "    h = model.fit(X_train, y_train, batch_size=128, verbose=0, epochs=10)\n",
        "    print(initializers)\n",
        "    print(model.evaluate(X_test, y_test))\n"
      ],
      "execution_count": null,
      "outputs": [
        {
          "output_type": "stream",
          "name": "stdout",
          "text": [
            "zeros\n",
            "16/16 [==============================] - 0s 1ms/step - loss: 0.8944 - accuracy: 0.6397\n",
            "[0.8944491744041443, 0.6396760940551758]\n",
            "uniform\n",
            "16/16 [==============================] - 0s 1ms/step - loss: 0.7339 - accuracy: 0.6781\n",
            "[0.7339420914649963, 0.6781376600265503]\n",
            "normal\n",
            "16/16 [==============================] - 0s 2ms/step - loss: 0.7473 - accuracy: 0.6700\n",
            "[0.7473315596580505, 0.670040488243103]\n",
            "he_normal\n",
            "16/16 [==============================] - 0s 2ms/step - loss: 0.7908 - accuracy: 0.6700\n",
            "[0.7907854914665222, 0.670040488243103]\n",
            "lecun_uniform\n",
            "16/16 [==============================] - 0s 1ms/step - loss: 0.7495 - accuracy: 0.6761\n",
            "[0.7495310306549072, 0.6761133670806885]\n"
          ]
        }
      ]
    },
    {
      "cell_type": "code",
      "metadata": {
        "id": "AaGQoTpu64sL"
      },
      "source": [
        "from sklearn.metrics import accuracy_score\n",
        "from sklearn.metrics import confusion_matrix\n",
        "\n",
        "y_test_pred = model.predict(X_test)\n",
        "#confusion_matrix_valid = confusion_matrix(y_test, y_test_pred)\n",
        "#accuracy_score = accuracy_score(y_test, y_test_pred)\n",
        "#print(confusion_matrix_valid, accuracy_score) "
      ],
      "execution_count": null,
      "outputs": []
    },
    {
      "cell_type": "markdown",
      "metadata": {
        "id": "-2liQR819qY0"
      },
      "source": [
        "### **ADAboost**"
      ]
    },
    {
      "cell_type": "code",
      "metadata": {
        "colab": {
          "base_uri": "https://localhost:8080/"
        },
        "id": "PXHe9A_KmB0w",
        "outputId": "cdb2ca6b-0a42-47f0-9e6d-d57cdd569e17"
      },
      "source": [
        "from sklearn.tree import DecisionTreeClassifier\n",
        "from sklearn.ensemble import AdaBoostClassifier\n",
        "\n",
        "ada_clf = AdaBoostClassifier(\n",
        "    DecisionTreeClassifier(max_depth=1), n_estimators=200,\n",
        "    algorithm=\"SAMME.R\", learning_rate=0.5, random_state=42)\n",
        "ada_clf.fit(X_train, y_train)"
      ],
      "execution_count": null,
      "outputs": [
        {
          "output_type": "execute_result",
          "data": {
            "text/plain": [
              "AdaBoostClassifier(algorithm='SAMME.R',\n",
              "                   base_estimator=DecisionTreeClassifier(ccp_alpha=0.0,\n",
              "                                                         class_weight=None,\n",
              "                                                         criterion='gini',\n",
              "                                                         max_depth=1,\n",
              "                                                         max_features=None,\n",
              "                                                         max_leaf_nodes=None,\n",
              "                                                         min_impurity_decrease=0.0,\n",
              "                                                         min_impurity_split=None,\n",
              "                                                         min_samples_leaf=1,\n",
              "                                                         min_samples_split=2,\n",
              "                                                         min_weight_fraction_leaf=0.0,\n",
              "                                                         presort='deprecated',\n",
              "                                                         random_state=None,\n",
              "                                                         splitter='best'),\n",
              "                   learning_rate=0.5, n_estimators=200, random_state=42)"
            ]
          },
          "metadata": {},
          "execution_count": 11
        }
      ]
    },
    {
      "cell_type": "code",
      "metadata": {
        "colab": {
          "base_uri": "https://localhost:8080/"
        },
        "id": "MKdUVU47pwns",
        "outputId": "f6117f9f-6481-4bde-cc5d-435129fe5439"
      },
      "source": [
        "from sklearn.metrics import confusion_matrix\n",
        "from sklearn.metrics import accuracy_score\n",
        "\n",
        "y_train_pred = ada_clf.predict(X_train)\n",
        "y_test_pred = ada_clf.predict(X_test)\n",
        "\n",
        "print(f'Train score {accuracy_score(y_train_pred,y_train)}')\n",
        "print(f'Test score {accuracy_score(y_test_pred,y_test)}')"
      ],
      "execution_count": null,
      "outputs": [
        {
          "output_type": "stream",
          "name": "stdout",
          "text": [
            "Train score 0.6895861982747844\n",
            "Test score 0.6842105263157895\n"
          ]
        }
      ]
    },
    {
      "cell_type": "code",
      "metadata": {
        "colab": {
          "base_uri": "https://localhost:8080/"
        },
        "id": "tsdTE-utpb3D",
        "outputId": "416d9ab0-1085-429b-af6d-0a8662bbef79"
      },
      "source": [
        "from sklearn.tree import DecisionTreeClassifier\n",
        "from sklearn.ensemble import AdaBoostClassifier\n",
        "\n",
        "ada_clf = AdaBoostClassifier(\n",
        "    DecisionTreeClassifier(max_depth=1), n_estimators=50,\n",
        "    algorithm=\"SAMME.R\", learning_rate=1, random_state=42)\n",
        "ada_clf.fit(X_train, y_train)\n",
        "y_train_pred = ada_clf.predict(X_train)\n",
        "y_test_pred = ada_clf.predict(X_test)\n",
        "\n",
        "print(f'Train score {accuracy_score(y_train_pred,y_train)}')\n",
        "print(f'Test score {accuracy_score(y_test_pred,y_test)}')"
      ],
      "execution_count": null,
      "outputs": [
        {
          "output_type": "stream",
          "name": "stdout",
          "text": [
            "Train score 0.6848356044505564\n",
            "Test score 0.680161943319838\n"
          ]
        }
      ]
    },
    {
      "cell_type": "code",
      "metadata": {
        "colab": {
          "base_uri": "https://localhost:8080/"
        },
        "id": "-RVi9kMap0TE",
        "outputId": "1ba779d5-c44a-4a2a-9922-53619adf4405"
      },
      "source": [
        "from sklearn.tree import DecisionTreeClassifier\n",
        "from sklearn.ensemble import AdaBoostClassifier\n",
        "\n",
        "ada_clf = AdaBoostClassifier(\n",
        "    DecisionTreeClassifier(max_depth=1), n_estimators=100,\n",
        "    algorithm=\"SAMME.R\", learning_rate=5, random_state=42)\n",
        "ada_clf.fit(X_train, y_train)\n",
        "y_train_pred = ada_clf.predict(X_train)\n",
        "y_test_pred = ada_clf.predict(X_test)\n",
        "\n",
        "print(f'Train score {accuracy_score(y_train_pred,y_train)}')\n",
        "print(f'Test score {accuracy_score(y_test_pred,y_test)}')"
      ],
      "execution_count": null,
      "outputs": [
        {
          "output_type": "stream",
          "name": "stdout",
          "text": [
            "Train score 0.23015376922115263\n",
            "Test score 0.22064777327935223\n"
          ]
        }
      ]
    },
    {
      "cell_type": "code",
      "metadata": {
        "colab": {
          "base_uri": "https://localhost:8080/"
        },
        "id": "cs9sH_Hep3UG",
        "outputId": "3ad13d89-fe57-4176-8176-8bcaf72f6929"
      },
      "source": [
        "from sklearn.tree import DecisionTreeClassifier\n",
        "from sklearn.ensemble import AdaBoostClassifier\n",
        "\n",
        "ada_clf = AdaBoostClassifier(\n",
        "    DecisionTreeClassifier(max_depth=1), n_estimators=50,\n",
        "    algorithm=\"SAMME.R\", learning_rate=.01, random_state=42)\n",
        "ada_clf.fit(X_train, y_train)\n",
        "y_train_pred = ada_clf.predict(X_train)\n",
        "y_test_pred = ada_clf.predict(X_test)\n",
        "\n",
        "print(f'Train score {accuracy_score(y_train_pred,y_train)}')\n",
        "print(f'Test score {accuracy_score(y_test_pred,y_test)}')"
      ],
      "execution_count": null,
      "outputs": [
        {
          "output_type": "stream",
          "name": "stdout",
          "text": [
            "Train score 0.6389548693586699\n",
            "Test score 0.6396761133603239\n"
          ]
        }
      ]
    },
    {
      "cell_type": "code",
      "metadata": {
        "colab": {
          "base_uri": "https://localhost:8080/"
        },
        "id": "K7Cj_CHwp6M5",
        "outputId": "b73e7940-a518-4944-9144-27aeb89eefcc"
      },
      "source": [
        "from sklearn.tree import DecisionTreeClassifier\n",
        "from sklearn.ensemble import AdaBoostClassifier\n",
        "\n",
        "ada_clf = AdaBoostClassifier(\n",
        "    DecisionTreeClassifier(max_depth=1), n_estimators=100,\n",
        "    algorithm=\"SAMME.R\", learning_rate=1, random_state=42)\n",
        "ada_clf.fit(X_train, y_train)\n",
        "y_train_pred = ada_clf.predict(X_train)\n",
        "y_test_pred = ada_clf.predict(X_test)\n",
        "\n",
        "print(f'Train score {accuracy_score(y_train_pred,y_train)}')\n",
        "print(f'Test score {accuracy_score(y_test_pred,y_test)}')"
      ],
      "execution_count": null,
      "outputs": [
        {
          "output_type": "stream",
          "name": "stdout",
          "text": [
            "Train score 0.6863357919739967\n",
            "Test score 0.6902834008097166\n"
          ]
        }
      ]
    },
    {
      "cell_type": "markdown",
      "metadata": {
        "id": "XkbpbNMt9v95"
      },
      "source": [
        "### **SVM**"
      ]
    },
    {
      "cell_type": "code",
      "metadata": {
        "colab": {
          "base_uri": "https://localhost:8080/"
        },
        "id": "KfR9lGHSsm1t",
        "outputId": "1fe70949-d20f-47f4-db60-5c18bf8379ef"
      },
      "source": [
        "from sklearn.model_selection import GridSearchCV \n",
        "from sklearn.svm import SVC\n",
        "\n",
        "\n",
        "param_test1 = {\n",
        "  'gamma':(0.01,0.05,0.1),\n",
        "   'C':(.001,.01,.1,1,1000) \n",
        "}\n",
        "gsearch1 = GridSearchCV(estimator = SVC(class_weight='balanced'), \n",
        "param_grid = param_test1,scoring='accuracy', n_jobs=10,iid=False, cv=5)\n",
        "gsearch1.fit(X_train,y_train)\n",
        "gsearch1.cv_results_"
      ],
      "execution_count": null,
      "outputs": [
        {
          "output_type": "stream",
          "name": "stderr",
          "text": [
            "/usr/local/lib/python3.7/dist-packages/sklearn/model_selection/_search.py:823: FutureWarning: The parameter 'iid' is deprecated in 0.22 and will be removed in 0.24.\n",
            "  \"removed in 0.24.\", FutureWarning\n"
          ]
        },
        {
          "output_type": "execute_result",
          "data": {
            "text/plain": [
              "{'mean_fit_time': array([ 24.80978155,  38.50335512,  41.38976321,  34.0767252 ,\n",
              "         34.91131563,  38.54928074,  28.52338204,  29.18693199,\n",
              "         30.53013282,  26.03620787,  27.33471274,  27.20499449,\n",
              "        117.56066651, 127.19807487,  54.53532734]),\n",
              " 'mean_score_time': array([3.33666573, 4.7393827 , 4.77883787, 4.45925193, 4.41492352,\n",
              "        4.61119604, 3.8521596 , 3.90343318, 3.92521353, 3.62804551,\n",
              "        3.64599371, 3.71699567, 3.26683993, 2.52766156, 1.16684132]),\n",
              " 'mean_test_score': array([0.15140369, 0.13089134, 0.13089134, 0.62082989, 0.54982403,\n",
              "        0.49744176, 0.5974538 , 0.55095098, 0.50831864, 0.58320364,\n",
              "        0.49482411, 0.45944567, 0.42331997, 0.38256246, 0.38781066]),\n",
              " 'param_C': masked_array(data=[0.001, 0.001, 0.001, 0.01, 0.01, 0.01, 0.1, 0.1, 0.1,\n",
              "                    1, 1, 1, 1000, 1000, 1000],\n",
              "              mask=[False, False, False, False, False, False, False, False,\n",
              "                    False, False, False, False, False, False, False],\n",
              "        fill_value='?',\n",
              "             dtype=object),\n",
              " 'param_gamma': masked_array(data=[0.01, 0.05, 0.1, 0.01, 0.05, 0.1, 0.01, 0.05, 0.1,\n",
              "                    0.01, 0.05, 0.1, 0.01, 0.05, 0.1],\n",
              "              mask=[False, False, False, False, False, False, False, False,\n",
              "                    False, False, False, False, False, False, False],\n",
              "        fill_value='?',\n",
              "             dtype=object),\n",
              " 'params': [{'C': 0.001, 'gamma': 0.01},\n",
              "  {'C': 0.001, 'gamma': 0.05},\n",
              "  {'C': 0.001, 'gamma': 0.1},\n",
              "  {'C': 0.01, 'gamma': 0.01},\n",
              "  {'C': 0.01, 'gamma': 0.05},\n",
              "  {'C': 0.01, 'gamma': 0.1},\n",
              "  {'C': 0.1, 'gamma': 0.01},\n",
              "  {'C': 0.1, 'gamma': 0.05},\n",
              "  {'C': 0.1, 'gamma': 0.1},\n",
              "  {'C': 1, 'gamma': 0.01},\n",
              "  {'C': 1, 'gamma': 0.05},\n",
              "  {'C': 1, 'gamma': 0.1},\n",
              "  {'C': 1000, 'gamma': 0.01},\n",
              "  {'C': 1000, 'gamma': 0.05},\n",
              "  {'C': 1000, 'gamma': 0.1}],\n",
              " 'rank_test_score': array([13, 14, 14,  1,  5,  7,  2,  4,  6,  3,  8,  9, 10, 12, 11],\n",
              "       dtype=int32),\n",
              " 'split0_test_score': array([0.134375, 0.130625, 0.130625, 0.708125, 0.66625 , 0.614375,\n",
              "        0.68625 , 0.651875, 0.638125, 0.686875, 0.638125, 0.619375,\n",
              "        0.588125, 0.57    , 0.55875 ]),\n",
              " 'split1_test_score': array([0.130625, 0.130625, 0.130625, 0.651875, 0.5825  , 0.555   ,\n",
              "        0.6275  , 0.585   , 0.550625, 0.605625, 0.495625, 0.439375,\n",
              "        0.3725  , 0.29625 , 0.306875]),\n",
              " 'split2_test_score': array([0.13125 , 0.13125 , 0.13125 , 0.6775  , 0.61    , 0.520625,\n",
              "        0.68125 , 0.61375 , 0.53375 , 0.633125, 0.46625 , 0.41125 ,\n",
              "        0.3175  , 0.26875 , 0.275   ]),\n",
              " 'split3_test_score': array([0.13125 , 0.13125 , 0.13125 , 0.4275  , 0.298125, 0.263125,\n",
              "        0.361875, 0.29625 , 0.27    , 0.36125 , 0.28125 , 0.261875,\n",
              "        0.27875 , 0.278125, 0.313125]),\n",
              " 'split4_test_score': array([0.22951845, 0.13070669, 0.13070669, 0.63914947, 0.59224515,\n",
              "        0.5340838 , 0.630394  , 0.60787992, 0.54909318, 0.62914321,\n",
              "        0.59287054, 0.56535335, 0.55972483, 0.4996873 , 0.48530331]),\n",
              " 'std_fit_time': array([0.50939496, 6.93260139, 0.27153551, 0.65560387, 0.65876903,\n",
              "        0.72575435, 0.78778008, 0.98713044, 0.71429117, 1.35792357,\n",
              "        0.81083165, 0.53600428, 5.88633644, 4.39204828, 4.89245173]),\n",
              " 'std_score_time': array([0.78514559, 0.10008056, 0.01040318, 0.036032  , 0.10491129,\n",
              "        0.07064608, 0.062885  , 0.07898423, 0.10100516, 0.07069221,\n",
              "        0.06630833, 0.04983167, 0.0820618 , 0.40974998, 0.36580357]),\n",
              " 'std_test_score': array([0.03907938, 0.00029436, 0.00029436, 0.09950657, 0.12914784,\n",
              "        0.12146669, 0.12032603, 0.12915278, 0.12469532, 0.11411965,\n",
              "        0.12375724, 0.12534245, 0.12684478, 0.12661861, 0.11276511])}"
            ]
          },
          "metadata": {},
          "execution_count": 30
        }
      ]
    },
    {
      "cell_type": "code",
      "metadata": {
        "colab": {
          "base_uri": "https://localhost:8080/"
        },
        "id": "nHFOD4_1ugB2",
        "outputId": "439717c4-8313-41b3-e0fa-51391f87ae75"
      },
      "source": [
        "from sklearn.svm import SVC\n",
        "\n",
        "final = SVC(C=0.01, break_ties=False, cache_size=200, class_weight='balanced',\n",
        "    coef0=0.0, decision_function_shape='ovr', degree=3, gamma=0.01,\n",
        "    kernel='rbf', max_iter=-1, probability=True, random_state=None,\n",
        "    shrinking=True, tol=0.001, verbose=False)\n",
        "final.fit(X_train, y_train)\n",
        "y_train_pred= final.predict(X_train)\n",
        "y_test_pred = final.predict(X_test)\n",
        "from sklearn.metrics import confusion_matrix\n",
        "from sklearn.metrics import accuracy_score\n",
        "\n",
        "confusion_matrix_valid = confusion_matrix(y_test, y_test_pred)\n",
        "print(confusion_matrix_valid) \n",
        "print(f'Train score {accuracy_score(y_train_pred,y_train)}')\n",
        "print(f'Test score {accuracy_score(y_test_pred,y_test)}')"
      ],
      "execution_count": null,
      "outputs": [
        {
          "output_type": "stream",
          "name": "stdout",
          "text": [
            "[[241  50  25]\n",
            " [ 54  30  25]\n",
            " [  7  18  44]]\n",
            "Train score 0.6314539317414677\n",
            "Test score 0.6376518218623481\n"
          ]
        }
      ]
    },
    {
      "cell_type": "code",
      "metadata": {
        "colab": {
          "base_uri": "https://localhost:8080/"
        },
        "id": "vOHJsk9Qq9a_",
        "outputId": "8ef708f2-f6fb-423c-f7e1-c38b697eb3a8"
      },
      "source": [
        "from sklearn.svm import SVC\n",
        "\n",
        "final = SVC(C=0.001, break_ties=False, cache_size=200, class_weight='balanced',\n",
        "    coef0=0.0, decision_function_shape='ovr', degree=3, gamma=0.01,\n",
        "    kernel='rbf', max_iter=-1, probability=True, random_state=None,\n",
        "    shrinking=True, tol=0.001, verbose=False)\n",
        "final.fit(X_train, y_train)\n",
        "y_train_pred= final.predict(X_train)\n",
        "y_test_pred = final.predict(X_test)\n",
        "from sklearn.metrics import confusion_matrix\n",
        "from sklearn.metrics import accuracy_score\n",
        "\n",
        "confusion_matrix_valid = confusion_matrix(y_test, y_test_pred)\n",
        "print(confusion_matrix_valid) \n",
        "print(f'Train score {accuracy_score(y_train_pred,y_train)}')\n",
        "print(f'Test score {accuracy_score(y_test_pred,y_test)}')"
      ],
      "execution_count": null,
      "outputs": [
        {
          "output_type": "stream",
          "name": "stdout",
          "text": [
            "[[157   0 159]\n",
            " [ 22   0  87]\n",
            " [  3   0  66]]\n",
            "Train score 0.45405675709463683\n",
            "Test score 0.451417004048583\n"
          ]
        }
      ]
    },
    {
      "cell_type": "code",
      "metadata": {
        "colab": {
          "base_uri": "https://localhost:8080/"
        },
        "id": "Q336nxAcskat",
        "outputId": "408c95ad-d554-4ce9-9883-c1fb54951760"
      },
      "source": [
        "from sklearn.svm import SVC\n",
        "\n",
        "final = SVC(C=0.001, break_ties=False, cache_size=200, class_weight='balanced',\n",
        "    coef0=0.0, decision_function_shape='ovr', degree=3, gamma=0.1,\n",
        "    kernel='rbf', max_iter=-1, probability=True, random_state=None,\n",
        "    shrinking=True, tol=0.001, verbose=False)\n",
        "final.fit(X_train, y_train)\n",
        "y_train_pred= final.predict(X_train)\n",
        "y_test_pred = final.predict(X_test)\n",
        "from sklearn.metrics import confusion_matrix\n",
        "from sklearn.metrics import accuracy_score\n",
        "\n",
        "confusion_matrix_valid = confusion_matrix(y_test, y_test_pred)\n",
        "print(confusion_matrix_valid) \n",
        "print(f'Train score {accuracy_score(y_train_pred,y_train)}')\n",
        "print(f'Test score {accuracy_score(y_test_pred,y_test)}')"
      ],
      "execution_count": null,
      "outputs": [
        {
          "output_type": "stream",
          "name": "stdout",
          "text": [
            "[[  0   0 316]\n",
            " [  0   0 109]\n",
            " [  0   0  69]]\n",
            "Train score 0.13089136142017752\n",
            "Test score 0.1396761133603239\n"
          ]
        }
      ]
    },
    {
      "cell_type": "code",
      "metadata": {
        "colab": {
          "base_uri": "https://localhost:8080/"
        },
        "id": "D4BOtb9Csefw",
        "outputId": "a6177eb1-08de-4d78-d453-c42c2675f8fb"
      },
      "source": [
        "from sklearn.svm import SVC\n",
        "\n",
        "final = SVC(C=0.1, break_ties=False, cache_size=200, class_weight='balanced',\n",
        "    coef0=0.0, decision_function_shape='ovr', degree=3, gamma=0.01,\n",
        "    kernel='rbf', max_iter=-1, probability=True, random_state=None,\n",
        "    shrinking=True, tol=0.001, verbose=False)\n",
        "final.fit(X_train, y_train)\n",
        "y_train_pred= final.predict(X_train)\n",
        "y_test_pred = final.predict(X_test)\n",
        "from sklearn.metrics import confusion_matrix\n",
        "from sklearn.metrics import accuracy_score\n",
        "\n",
        "confusion_matrix_valid = confusion_matrix(y_test, y_test_pred)\n",
        "print(confusion_matrix_valid) \n",
        "print(f'Train score {accuracy_score(y_train_pred,y_train)}')\n",
        "print(f'Test score {accuracy_score(y_test_pred,y_test)}')"
      ],
      "execution_count": null,
      "outputs": [
        {
          "output_type": "stream",
          "name": "stdout",
          "text": [
            "[[222  70  24]\n",
            " [ 41  41  27]\n",
            " [  5  19  45]]\n",
            "Train score 0.6300787598449806\n",
            "Test score 0.6234817813765182\n"
          ]
        }
      ]
    },
    {
      "cell_type": "code",
      "metadata": {
        "colab": {
          "base_uri": "https://localhost:8080/"
        },
        "id": "ThOjguCesosY",
        "outputId": "1d0e0405-0927-447c-e750-27be69d7f8a8"
      },
      "source": [
        "from sklearn.svm import SVC\n",
        "\n",
        "final = SVC(C=0.1, break_ties=False, cache_size=200, class_weight='balanced',\n",
        "    coef0=0.0, decision_function_shape='ovr', degree=3, gamma=0.1,\n",
        "    kernel='rbf', max_iter=-1, probability=True, random_state=None,\n",
        "    shrinking=True, tol=0.001, verbose=False)\n",
        "final.fit(X_train, y_train)\n",
        "y_train_pred= final.predict(X_train)\n",
        "y_test_pred = final.predict(X_test)\n",
        "from sklearn.metrics import confusion_matrix\n",
        "from sklearn.metrics import accuracy_score\n",
        "\n",
        "confusion_matrix_valid = confusion_matrix(y_test, y_test_pred)\n",
        "print(confusion_matrix_valid) \n",
        "print(f'Train score {accuracy_score(y_train_pred,y_train)}')\n",
        "print(f'Test score {accuracy_score(y_test_pred,y_test)}')"
      ],
      "execution_count": null,
      "outputs": [
        {
          "output_type": "stream",
          "name": "stdout",
          "text": [
            "[[192  79  45]\n",
            " [ 32  37  40]\n",
            " [  3  18  48]]\n",
            "Train score 0.5913239154894362\n",
            "Test score 0.5607287449392713\n"
          ]
        }
      ]
    },
    {
      "cell_type": "code",
      "metadata": {
        "colab": {
          "base_uri": "https://localhost:8080/"
        },
        "id": "SsuXDxBIsvpv",
        "outputId": "e0df187b-418d-4700-9b02-37f78ba6e48f"
      },
      "source": [
        "from sklearn.svm import SVC\n",
        "\n",
        "final = SVC(C=10, break_ties=False, cache_size=200, class_weight='balanced',\n",
        "    coef0=0.0, decision_function_shape='ovr', degree=3, gamma=0.1,\n",
        "    kernel='rbf', max_iter=-1, probability=True, random_state=None,\n",
        "    shrinking=True, tol=0.001, verbose=False)\n",
        "final.fit(X_train, y_train)\n",
        "y_train_pred= final.predict(X_train)\n",
        "y_test_pred = final.predict(X_test)\n",
        "from sklearn.metrics import confusion_matrix\n",
        "from sklearn.metrics import accuracy_score\n",
        "\n",
        "confusion_matrix_valid = confusion_matrix(y_test, y_test_pred)\n",
        "print(confusion_matrix_valid) \n",
        "print(f'Train score {accuracy_score(y_train_pred,y_train)}')\n",
        "print(f'Test score {accuracy_score(y_test_pred,y_test)}')"
      ],
      "execution_count": null,
      "outputs": [
        {
          "output_type": "stream",
          "name": "stdout",
          "text": [
            "[[199  93  24]\n",
            " [ 44  43  22]\n",
            " [ 14  23  32]]\n",
            "Train score 0.7985998249781223\n",
            "Test score 0.5546558704453441\n"
          ]
        }
      ]
    },
    {
      "cell_type": "markdown",
      "metadata": {
        "id": "6oakV_clu4WP"
      },
      "source": [
        "https://github.com/ageron/handson-ml2"
      ]
    },
    {
      "cell_type": "code",
      "metadata": {
        "colab": {
          "base_uri": "https://localhost:8080/"
        },
        "id": "PGZ3BpIovVKe",
        "outputId": "4511e337-a483-4afa-d4d4-807357a5722c"
      },
      "source": [
        "## Polynomial Kernel\n",
        "\n",
        "from sklearn.svm import SVC\n",
        "from sklearn.pipeline import Pipeline\n",
        "\n",
        "poly100_kernel_svm_clf = Pipeline([\n",
        "        (\"svm_clf\", SVC(kernel=\"poly\", degree=2, coef0=100, C=5,cache_size=200000))\n",
        "    ])\n",
        "poly100_kernel_svm_clf.fit(X_train, y_train)"
      ],
      "execution_count": null,
      "outputs": [
        {
          "output_type": "execute_result",
          "data": {
            "text/plain": [
              "Pipeline(memory=None,\n",
              "         steps=[('svm_clf',\n",
              "                 SVC(C=5, break_ties=False, cache_size=200000,\n",
              "                     class_weight=None, coef0=100,\n",
              "                     decision_function_shape='ovr', degree=2, gamma='scale',\n",
              "                     kernel='poly', max_iter=-1, probability=False,\n",
              "                     random_state=None, shrinking=True, tol=0.001,\n",
              "                     verbose=False))],\n",
              "         verbose=False)"
            ]
          },
          "metadata": {},
          "execution_count": 16
        }
      ]
    },
    {
      "cell_type": "code",
      "metadata": {
        "colab": {
          "base_uri": "https://localhost:8080/"
        },
        "id": "wawftky7wdkI",
        "outputId": "acb0311c-b280-4956-b757-c40543114eae"
      },
      "source": [
        "\n",
        "y_train_pred= poly100_kernel_svm_clf.predict(X_train)\n",
        "y_test_pred = poly100_kernel_svm_clf.predict(X_test)\n",
        "confusion_matrix_valid = confusion_matrix(y_test, y_test_pred)\n",
        "\n",
        "accuracy_score = accuracy_score(y_test, y_test_pred)\n",
        "print(confusion_matrix_valid, accuracy_score) \n",
        "from sklearn.metrics import accuracy_score\n",
        "from sklearn.metrics import confusion_matrix\n",
        "print(f'Train score {accuracy_score(y_train_pred,y_train)}')\n",
        "print(f'Test score {accuracy_score(y_test_pred,y_test)}')"
      ],
      "execution_count": null,
      "outputs": [
        {
          "output_type": "stream",
          "name": "stdout",
          "text": [
            "[[303   4   9]\n",
            " [ 93   6  10]\n",
            " [ 31   7  31]] 0.6882591093117408\n",
            "Train score 0.7022127765970746\n",
            "Test score 0.6882591093117408\n"
          ]
        }
      ]
    },
    {
      "cell_type": "markdown",
      "metadata": {
        "id": "JOBI-ViN96HV"
      },
      "source": [
        "### **kNN**"
      ]
    },
    {
      "cell_type": "code",
      "metadata": {
        "id": "SWKWaejCIuaL",
        "colab": {
          "base_uri": "https://localhost:8080/"
        },
        "outputId": "4c06a365-81c2-4be7-85f2-188f59a3038b"
      },
      "source": [
        "from sklearn.neighbors import KNeighborsClassifier\n",
        "from sklearn.model_selection import GridSearchCV \n",
        "\n",
        "leaf_size = list(range(1,50,2))\n",
        "n_neighbors = list(range(180,300,20))\n",
        "\n",
        "param_test1 = {\n",
        "  'leaf_size':(1,5,101,5,20,25,30,35,40,45,50,100),\n",
        "   'n_neighbors':(180,200,230,250,300,400,500) \n",
        "}\n",
        "\n",
        "\n",
        "gsearch1 = GridSearchCV(estimator = KNeighborsClassifier(),param_grid = param_test1,scoring='accuracy', n_jobs=10,iid=False, cv=5)\n",
        "gsearch1.fit(X_train,y_train)\n",
        "gsearch1.cv_results_"
      ],
      "execution_count": null,
      "outputs": [
        {
          "output_type": "stream",
          "name": "stderr",
          "text": [
            "/usr/local/lib/python3.7/dist-packages/sklearn/model_selection/_search.py:823: FutureWarning: The parameter 'iid' is deprecated in 0.22 and will be removed in 0.24.\n",
            "  \"removed in 0.24.\", FutureWarning\n"
          ]
        },
        {
          "output_type": "execute_result",
          "data": {
            "text/plain": [
              "{'mean_fit_time': array([0.17990704, 0.38943577, 0.33240843, 0.33824224, 0.34046884,\n",
              "        0.33506761, 0.33721657, 0.26007996, 0.27559934, 0.24712958,\n",
              "        0.27554007, 0.27173429, 0.2638351 , 0.26179109, 0.16667676,\n",
              "        0.17440505, 0.18087502, 0.17912402, 0.17319751, 0.18051724,\n",
              "        0.17921357, 0.29420514, 0.26921439, 0.27709026, 0.27196169,\n",
              "        0.26145372, 0.27209759, 0.26643815, 0.22121429, 0.23018327,\n",
              "        0.22743711, 0.22676864, 0.23355651, 0.23948712, 0.22753596,\n",
              "        0.20973258, 0.21833892, 0.22008967, 0.21023178, 0.21381407,\n",
              "        0.21481028, 0.21239653, 0.2035965 , 0.21727347, 0.21146536,\n",
              "        0.2103816 , 0.21983576, 0.21390524, 0.21387224, 0.21978769,\n",
              "        0.21436672, 0.21405454, 0.21367245, 0.2126287 , 0.21528368,\n",
              "        0.21903071, 0.21374454, 0.22065568, 0.21173887, 0.21493626,\n",
              "        0.21034555, 0.21692624, 0.20491471, 0.2010344 , 0.21110926,\n",
              "        0.21156693, 0.21076884, 0.21526623, 0.20695424, 0.225734  ,\n",
              "        0.19657764, 0.19598441, 0.20094504, 0.20233531, 0.19263878,\n",
              "        0.19106832, 0.19132786, 0.16961093, 0.18405828, 0.17276468,\n",
              "        0.17768002, 0.17927585, 0.17070394, 0.1850934 ]),\n",
              " 'mean_score_time': array([15.16038647, 29.79558315, 31.16779428, 32.27447805, 34.1786027 ,\n",
              "        37.70891361, 40.71099253, 14.67845235, 15.18324137, 15.93211284,\n",
              "        16.36396217, 16.87088118, 18.32046771, 19.5925611 ,  5.39475431,\n",
              "         5.68494754,  5.75122452,  6.03272624,  6.3045176 ,  6.71770301,\n",
              "         6.99176774, 15.04576349, 15.28789859, 15.89634352, 16.17246709,\n",
              "        16.98805208, 18.34605517, 19.77839422,  7.66379142,  8.03881488,\n",
              "         8.43002014,  8.66305552,  9.02257214,  9.92247496, 10.5960104 ,\n",
              "         6.6429862 ,  6.82595701,  7.00846663,  7.05440598,  7.5213222 ,\n",
              "         8.1112371 ,  8.63545895,  6.65371923,  6.83223071,  7.04829078,\n",
              "         7.17814779,  7.48713603,  8.10724587,  8.68990936,  6.70404186,\n",
              "         6.87899098,  7.09094992,  7.19695883,  7.59789267,  8.20126109,\n",
              "         8.68435764,  6.71262007,  6.8131784 ,  7.04633727,  7.15686393,\n",
              "         7.5348258 ,  8.01910124,  8.74230013,  6.66452246,  6.80733151,\n",
              "         7.02410517,  7.17083592,  7.43526192,  8.03360162,  8.70734587,\n",
              "         6.0218277 ,  6.14623251,  6.30866094,  6.46281729,  6.69799266,\n",
              "         7.21656833,  7.73873372,  5.64486718,  5.73518262,  5.90588412,\n",
              "         5.96987491,  6.22390585,  6.32083874,  4.66196799]),\n",
              " 'mean_test_score': array([0.6630806 , 0.66495552, 0.66520552, 0.66408044, 0.66545552,\n",
              "        0.66983052, 0.66770536, 0.6630806 , 0.66495552, 0.66520552,\n",
              "        0.66408044, 0.66545552, 0.66983052, 0.66770536, 0.6630806 ,\n",
              "        0.66495552, 0.66520552, 0.66408044, 0.66545552, 0.66983052,\n",
              "        0.66770536, 0.6630806 , 0.66495552, 0.66520552, 0.66408044,\n",
              "        0.66545552, 0.66983052, 0.66770536, 0.6630806 , 0.66495552,\n",
              "        0.66520552, 0.66408044, 0.66545552, 0.66983052, 0.66770536,\n",
              "        0.6630806 , 0.66495552, 0.66520552, 0.66408044, 0.66545552,\n",
              "        0.66983052, 0.66770536, 0.6630806 , 0.66495552, 0.66520552,\n",
              "        0.66408044, 0.66545552, 0.66983052, 0.66770536, 0.6630806 ,\n",
              "        0.66495552, 0.66520552, 0.66408044, 0.66545552, 0.66983052,\n",
              "        0.66770536, 0.6630806 , 0.66495552, 0.66520552, 0.66408044,\n",
              "        0.66545552, 0.66983052, 0.66770536, 0.6630806 , 0.66495552,\n",
              "        0.66520552, 0.66408044, 0.66545552, 0.66983052, 0.66770536,\n",
              "        0.6630806 , 0.66495552, 0.66520552, 0.66408044, 0.66545552,\n",
              "        0.66983052, 0.66770536, 0.6630806 , 0.66495552, 0.66520552,\n",
              "        0.66408044, 0.66545552, 0.66983052, 0.66770536]),\n",
              " 'param_leaf_size': masked_array(data=[1, 1, 1, 1, 1, 1, 1, 5, 5, 5, 5, 5, 5, 5, 101, 101,\n",
              "                    101, 101, 101, 101, 101, 5, 5, 5, 5, 5, 5, 5, 20, 20,\n",
              "                    20, 20, 20, 20, 20, 25, 25, 25, 25, 25, 25, 25, 30, 30,\n",
              "                    30, 30, 30, 30, 30, 35, 35, 35, 35, 35, 35, 35, 40, 40,\n",
              "                    40, 40, 40, 40, 40, 45, 45, 45, 45, 45, 45, 45, 50, 50,\n",
              "                    50, 50, 50, 50, 50, 100, 100, 100, 100, 100, 100, 100],\n",
              "              mask=[False, False, False, False, False, False, False, False,\n",
              "                    False, False, False, False, False, False, False, False,\n",
              "                    False, False, False, False, False, False, False, False,\n",
              "                    False, False, False, False, False, False, False, False,\n",
              "                    False, False, False, False, False, False, False, False,\n",
              "                    False, False, False, False, False, False, False, False,\n",
              "                    False, False, False, False, False, False, False, False,\n",
              "                    False, False, False, False, False, False, False, False,\n",
              "                    False, False, False, False, False, False, False, False,\n",
              "                    False, False, False, False, False, False, False, False,\n",
              "                    False, False, False, False],\n",
              "        fill_value='?',\n",
              "             dtype=object),\n",
              " 'param_n_neighbors': masked_array(data=[180, 200, 230, 250, 300, 400, 500, 180, 200, 230, 250,\n",
              "                    300, 400, 500, 180, 200, 230, 250, 300, 400, 500, 180,\n",
              "                    200, 230, 250, 300, 400, 500, 180, 200, 230, 250, 300,\n",
              "                    400, 500, 180, 200, 230, 250, 300, 400, 500, 180, 200,\n",
              "                    230, 250, 300, 400, 500, 180, 200, 230, 250, 300, 400,\n",
              "                    500, 180, 200, 230, 250, 300, 400, 500, 180, 200, 230,\n",
              "                    250, 300, 400, 500, 180, 200, 230, 250, 300, 400, 500,\n",
              "                    180, 200, 230, 250, 300, 400, 500],\n",
              "              mask=[False, False, False, False, False, False, False, False,\n",
              "                    False, False, False, False, False, False, False, False,\n",
              "                    False, False, False, False, False, False, False, False,\n",
              "                    False, False, False, False, False, False, False, False,\n",
              "                    False, False, False, False, False, False, False, False,\n",
              "                    False, False, False, False, False, False, False, False,\n",
              "                    False, False, False, False, False, False, False, False,\n",
              "                    False, False, False, False, False, False, False, False,\n",
              "                    False, False, False, False, False, False, False, False,\n",
              "                    False, False, False, False, False, False, False, False,\n",
              "                    False, False, False, False],\n",
              "        fill_value='?',\n",
              "             dtype=object),\n",
              " 'params': [{'leaf_size': 1, 'n_neighbors': 180},\n",
              "  {'leaf_size': 1, 'n_neighbors': 200},\n",
              "  {'leaf_size': 1, 'n_neighbors': 230},\n",
              "  {'leaf_size': 1, 'n_neighbors': 250},\n",
              "  {'leaf_size': 1, 'n_neighbors': 300},\n",
              "  {'leaf_size': 1, 'n_neighbors': 400},\n",
              "  {'leaf_size': 1, 'n_neighbors': 500},\n",
              "  {'leaf_size': 5, 'n_neighbors': 180},\n",
              "  {'leaf_size': 5, 'n_neighbors': 200},\n",
              "  {'leaf_size': 5, 'n_neighbors': 230},\n",
              "  {'leaf_size': 5, 'n_neighbors': 250},\n",
              "  {'leaf_size': 5, 'n_neighbors': 300},\n",
              "  {'leaf_size': 5, 'n_neighbors': 400},\n",
              "  {'leaf_size': 5, 'n_neighbors': 500},\n",
              "  {'leaf_size': 101, 'n_neighbors': 180},\n",
              "  {'leaf_size': 101, 'n_neighbors': 200},\n",
              "  {'leaf_size': 101, 'n_neighbors': 230},\n",
              "  {'leaf_size': 101, 'n_neighbors': 250},\n",
              "  {'leaf_size': 101, 'n_neighbors': 300},\n",
              "  {'leaf_size': 101, 'n_neighbors': 400},\n",
              "  {'leaf_size': 101, 'n_neighbors': 500},\n",
              "  {'leaf_size': 5, 'n_neighbors': 180},\n",
              "  {'leaf_size': 5, 'n_neighbors': 200},\n",
              "  {'leaf_size': 5, 'n_neighbors': 230},\n",
              "  {'leaf_size': 5, 'n_neighbors': 250},\n",
              "  {'leaf_size': 5, 'n_neighbors': 300},\n",
              "  {'leaf_size': 5, 'n_neighbors': 400},\n",
              "  {'leaf_size': 5, 'n_neighbors': 500},\n",
              "  {'leaf_size': 20, 'n_neighbors': 180},\n",
              "  {'leaf_size': 20, 'n_neighbors': 200},\n",
              "  {'leaf_size': 20, 'n_neighbors': 230},\n",
              "  {'leaf_size': 20, 'n_neighbors': 250},\n",
              "  {'leaf_size': 20, 'n_neighbors': 300},\n",
              "  {'leaf_size': 20, 'n_neighbors': 400},\n",
              "  {'leaf_size': 20, 'n_neighbors': 500},\n",
              "  {'leaf_size': 25, 'n_neighbors': 180},\n",
              "  {'leaf_size': 25, 'n_neighbors': 200},\n",
              "  {'leaf_size': 25, 'n_neighbors': 230},\n",
              "  {'leaf_size': 25, 'n_neighbors': 250},\n",
              "  {'leaf_size': 25, 'n_neighbors': 300},\n",
              "  {'leaf_size': 25, 'n_neighbors': 400},\n",
              "  {'leaf_size': 25, 'n_neighbors': 500},\n",
              "  {'leaf_size': 30, 'n_neighbors': 180},\n",
              "  {'leaf_size': 30, 'n_neighbors': 200},\n",
              "  {'leaf_size': 30, 'n_neighbors': 230},\n",
              "  {'leaf_size': 30, 'n_neighbors': 250},\n",
              "  {'leaf_size': 30, 'n_neighbors': 300},\n",
              "  {'leaf_size': 30, 'n_neighbors': 400},\n",
              "  {'leaf_size': 30, 'n_neighbors': 500},\n",
              "  {'leaf_size': 35, 'n_neighbors': 180},\n",
              "  {'leaf_size': 35, 'n_neighbors': 200},\n",
              "  {'leaf_size': 35, 'n_neighbors': 230},\n",
              "  {'leaf_size': 35, 'n_neighbors': 250},\n",
              "  {'leaf_size': 35, 'n_neighbors': 300},\n",
              "  {'leaf_size': 35, 'n_neighbors': 400},\n",
              "  {'leaf_size': 35, 'n_neighbors': 500},\n",
              "  {'leaf_size': 40, 'n_neighbors': 180},\n",
              "  {'leaf_size': 40, 'n_neighbors': 200},\n",
              "  {'leaf_size': 40, 'n_neighbors': 230},\n",
              "  {'leaf_size': 40, 'n_neighbors': 250},\n",
              "  {'leaf_size': 40, 'n_neighbors': 300},\n",
              "  {'leaf_size': 40, 'n_neighbors': 400},\n",
              "  {'leaf_size': 40, 'n_neighbors': 500},\n",
              "  {'leaf_size': 45, 'n_neighbors': 180},\n",
              "  {'leaf_size': 45, 'n_neighbors': 200},\n",
              "  {'leaf_size': 45, 'n_neighbors': 230},\n",
              "  {'leaf_size': 45, 'n_neighbors': 250},\n",
              "  {'leaf_size': 45, 'n_neighbors': 300},\n",
              "  {'leaf_size': 45, 'n_neighbors': 400},\n",
              "  {'leaf_size': 45, 'n_neighbors': 500},\n",
              "  {'leaf_size': 50, 'n_neighbors': 180},\n",
              "  {'leaf_size': 50, 'n_neighbors': 200},\n",
              "  {'leaf_size': 50, 'n_neighbors': 230},\n",
              "  {'leaf_size': 50, 'n_neighbors': 250},\n",
              "  {'leaf_size': 50, 'n_neighbors': 300},\n",
              "  {'leaf_size': 50, 'n_neighbors': 400},\n",
              "  {'leaf_size': 50, 'n_neighbors': 500},\n",
              "  {'leaf_size': 100, 'n_neighbors': 180},\n",
              "  {'leaf_size': 100, 'n_neighbors': 200},\n",
              "  {'leaf_size': 100, 'n_neighbors': 230},\n",
              "  {'leaf_size': 100, 'n_neighbors': 250},\n",
              "  {'leaf_size': 100, 'n_neighbors': 300},\n",
              "  {'leaf_size': 100, 'n_neighbors': 400},\n",
              "  {'leaf_size': 100, 'n_neighbors': 500}],\n",
              " 'rank_test_score': array([73, 49, 37, 61, 25,  1, 13, 73, 49, 37, 61, 25,  1, 13, 73, 49, 37,\n",
              "        61, 25,  1, 13, 73, 49, 37, 61, 25,  1, 13, 73, 49, 37, 61, 25,  1,\n",
              "        13, 73, 49, 37, 61, 25,  1, 13, 73, 49, 37, 61, 25,  1, 13, 73, 49,\n",
              "        37, 61, 25,  1, 13, 73, 49, 37, 61, 25,  1, 13, 73, 49, 37, 61, 25,\n",
              "         1, 13, 73, 49, 37, 61, 25,  1, 13, 73, 49, 37, 61, 25,  1, 13],\n",
              "       dtype=int32),\n",
              " 'split0_test_score': array([0.653125, 0.655   , 0.651875, 0.65125 , 0.651875, 0.651875,\n",
              "        0.65    , 0.653125, 0.655   , 0.651875, 0.65125 , 0.651875,\n",
              "        0.651875, 0.65    , 0.653125, 0.655   , 0.651875, 0.65125 ,\n",
              "        0.651875, 0.651875, 0.65    , 0.653125, 0.655   , 0.651875,\n",
              "        0.65125 , 0.651875, 0.651875, 0.65    , 0.653125, 0.655   ,\n",
              "        0.651875, 0.65125 , 0.651875, 0.651875, 0.65    , 0.653125,\n",
              "        0.655   , 0.651875, 0.65125 , 0.651875, 0.651875, 0.65    ,\n",
              "        0.653125, 0.655   , 0.651875, 0.65125 , 0.651875, 0.651875,\n",
              "        0.65    , 0.653125, 0.655   , 0.651875, 0.65125 , 0.651875,\n",
              "        0.651875, 0.65    , 0.653125, 0.655   , 0.651875, 0.65125 ,\n",
              "        0.651875, 0.651875, 0.65    , 0.653125, 0.655   , 0.651875,\n",
              "        0.65125 , 0.651875, 0.651875, 0.65    , 0.653125, 0.655   ,\n",
              "        0.651875, 0.65125 , 0.651875, 0.651875, 0.65    , 0.653125,\n",
              "        0.655   , 0.651875, 0.65125 , 0.651875, 0.651875, 0.65    ]),\n",
              " 'split1_test_score': array([0.696875, 0.6975  , 0.700625, 0.69875 , 0.69375 , 0.700625,\n",
              "        0.695625, 0.696875, 0.6975  , 0.700625, 0.69875 , 0.69375 ,\n",
              "        0.700625, 0.695625, 0.696875, 0.6975  , 0.700625, 0.69875 ,\n",
              "        0.69375 , 0.700625, 0.695625, 0.696875, 0.6975  , 0.700625,\n",
              "        0.69875 , 0.69375 , 0.700625, 0.695625, 0.696875, 0.6975  ,\n",
              "        0.700625, 0.69875 , 0.69375 , 0.700625, 0.695625, 0.696875,\n",
              "        0.6975  , 0.700625, 0.69875 , 0.69375 , 0.700625, 0.695625,\n",
              "        0.696875, 0.6975  , 0.700625, 0.69875 , 0.69375 , 0.700625,\n",
              "        0.695625, 0.696875, 0.6975  , 0.700625, 0.69875 , 0.69375 ,\n",
              "        0.700625, 0.695625, 0.696875, 0.6975  , 0.700625, 0.69875 ,\n",
              "        0.69375 , 0.700625, 0.695625, 0.696875, 0.6975  , 0.700625,\n",
              "        0.69875 , 0.69375 , 0.700625, 0.695625, 0.696875, 0.6975  ,\n",
              "        0.700625, 0.69875 , 0.69375 , 0.700625, 0.695625, 0.696875,\n",
              "        0.6975  , 0.700625, 0.69875 , 0.69375 , 0.700625, 0.695625]),\n",
              " 'split2_test_score': array([0.698125, 0.7025  , 0.700625, 0.7     , 0.704375, 0.708125,\n",
              "        0.704375, 0.698125, 0.7025  , 0.700625, 0.7     , 0.704375,\n",
              "        0.708125, 0.704375, 0.698125, 0.7025  , 0.700625, 0.7     ,\n",
              "        0.704375, 0.708125, 0.704375, 0.698125, 0.7025  , 0.700625,\n",
              "        0.7     , 0.704375, 0.708125, 0.704375, 0.698125, 0.7025  ,\n",
              "        0.700625, 0.7     , 0.704375, 0.708125, 0.704375, 0.698125,\n",
              "        0.7025  , 0.700625, 0.7     , 0.704375, 0.708125, 0.704375,\n",
              "        0.698125, 0.7025  , 0.700625, 0.7     , 0.704375, 0.708125,\n",
              "        0.704375, 0.698125, 0.7025  , 0.700625, 0.7     , 0.704375,\n",
              "        0.708125, 0.704375, 0.698125, 0.7025  , 0.700625, 0.7     ,\n",
              "        0.704375, 0.708125, 0.704375, 0.698125, 0.7025  , 0.700625,\n",
              "        0.7     , 0.704375, 0.708125, 0.704375, 0.698125, 0.7025  ,\n",
              "        0.700625, 0.7     , 0.704375, 0.708125, 0.704375, 0.698125,\n",
              "        0.7025  , 0.700625, 0.7     , 0.704375, 0.708125, 0.704375]),\n",
              " 'split3_test_score': array([0.6225  , 0.625625, 0.62875 , 0.626875, 0.633125, 0.644375,\n",
              "        0.645625, 0.6225  , 0.625625, 0.62875 , 0.626875, 0.633125,\n",
              "        0.644375, 0.645625, 0.6225  , 0.625625, 0.62875 , 0.626875,\n",
              "        0.633125, 0.644375, 0.645625, 0.6225  , 0.625625, 0.62875 ,\n",
              "        0.626875, 0.633125, 0.644375, 0.645625, 0.6225  , 0.625625,\n",
              "        0.62875 , 0.626875, 0.633125, 0.644375, 0.645625, 0.6225  ,\n",
              "        0.625625, 0.62875 , 0.626875, 0.633125, 0.644375, 0.645625,\n",
              "        0.6225  , 0.625625, 0.62875 , 0.626875, 0.633125, 0.644375,\n",
              "        0.645625, 0.6225  , 0.625625, 0.62875 , 0.626875, 0.633125,\n",
              "        0.644375, 0.645625, 0.6225  , 0.625625, 0.62875 , 0.626875,\n",
              "        0.633125, 0.644375, 0.645625, 0.6225  , 0.625625, 0.62875 ,\n",
              "        0.626875, 0.633125, 0.644375, 0.645625, 0.6225  , 0.625625,\n",
              "        0.62875 , 0.626875, 0.633125, 0.644375, 0.645625, 0.6225  ,\n",
              "        0.625625, 0.62875 , 0.626875, 0.633125, 0.644375, 0.645625]),\n",
              " 'split4_test_score': array([0.64477799, 0.6441526 , 0.6441526 , 0.6435272 , 0.6441526 ,\n",
              "        0.6441526 , 0.64290181, 0.64477799, 0.6441526 , 0.6441526 ,\n",
              "        0.6435272 , 0.6441526 , 0.6441526 , 0.64290181, 0.64477799,\n",
              "        0.6441526 , 0.6441526 , 0.6435272 , 0.6441526 , 0.6441526 ,\n",
              "        0.64290181, 0.64477799, 0.6441526 , 0.6441526 , 0.6435272 ,\n",
              "        0.6441526 , 0.6441526 , 0.64290181, 0.64477799, 0.6441526 ,\n",
              "        0.6441526 , 0.6435272 , 0.6441526 , 0.6441526 , 0.64290181,\n",
              "        0.64477799, 0.6441526 , 0.6441526 , 0.6435272 , 0.6441526 ,\n",
              "        0.6441526 , 0.64290181, 0.64477799, 0.6441526 , 0.6441526 ,\n",
              "        0.6435272 , 0.6441526 , 0.6441526 , 0.64290181, 0.64477799,\n",
              "        0.6441526 , 0.6441526 , 0.6435272 , 0.6441526 , 0.6441526 ,\n",
              "        0.64290181, 0.64477799, 0.6441526 , 0.6441526 , 0.6435272 ,\n",
              "        0.6441526 , 0.6441526 , 0.64290181, 0.64477799, 0.6441526 ,\n",
              "        0.6441526 , 0.6435272 , 0.6441526 , 0.6441526 , 0.64290181,\n",
              "        0.64477799, 0.6441526 , 0.6441526 , 0.6435272 , 0.6441526 ,\n",
              "        0.6441526 , 0.64290181, 0.64477799, 0.6441526 , 0.6441526 ,\n",
              "        0.6435272 , 0.6441526 , 0.6441526 , 0.64290181]),\n",
              " 'std_fit_time': array([0.00193768, 0.02211716, 0.01938245, 0.01445755, 0.01668148,\n",
              "        0.01598991, 0.01159234, 0.0114619 , 0.01275894, 0.0320179 ,\n",
              "        0.01658563, 0.00867161, 0.01046405, 0.01893287, 0.00444998,\n",
              "        0.01775408, 0.00805968, 0.02093077, 0.01533059, 0.02111391,\n",
              "        0.01815989, 0.01066221, 0.03179644, 0.01148697, 0.0130967 ,\n",
              "        0.00873719, 0.01755452, 0.0178107 , 0.0142398 , 0.01488299,\n",
              "        0.01682185, 0.01572428, 0.02676905, 0.01548176, 0.01868763,\n",
              "        0.01863317, 0.02002916, 0.02264309, 0.01585094, 0.01794872,\n",
              "        0.01169517, 0.02138046, 0.01314104, 0.01802443, 0.01438929,\n",
              "        0.01292156, 0.02944628, 0.01435013, 0.01238062, 0.01713163,\n",
              "        0.01215485, 0.01652489, 0.02533945, 0.01388721, 0.01839513,\n",
              "        0.0170912 , 0.0072475 , 0.012605  , 0.01325636, 0.01482121,\n",
              "        0.01270018, 0.01748523, 0.01799218, 0.01600267, 0.01912387,\n",
              "        0.01159474, 0.01013917, 0.01586411, 0.01473743, 0.02400636,\n",
              "        0.01785575, 0.01163227, 0.01196677, 0.01720439, 0.01902285,\n",
              "        0.01546202, 0.01441274, 0.01677146, 0.01746163, 0.01683629,\n",
              "        0.02548617, 0.016725  , 0.00953586, 0.01839167]),\n",
              " 'std_score_time': array([1.61469372, 1.45293169, 1.38957138, 1.34872448, 1.2916434 ,\n",
              "        0.95805917, 1.04588087, 0.7548108 , 0.70756822, 0.75187569,\n",
              "        0.71840885, 0.51296239, 0.62525308, 0.59927834, 0.28088518,\n",
              "        0.11736845, 0.24973054, 0.2216823 , 0.10820828, 0.17593261,\n",
              "        0.12163664, 0.72788723, 0.70932206, 0.70663965, 0.73794195,\n",
              "        0.65476579, 0.67387957, 0.51513344, 0.31507142, 0.3750017 ,\n",
              "        0.24785898, 0.2573883 , 0.27108615, 0.3140743 , 0.24753448,\n",
              "        0.2178456 , 0.26372249, 0.26303473, 0.24371125, 0.19944041,\n",
              "        0.21654275, 0.23888937, 0.30220938, 0.25383482, 0.26437823,\n",
              "        0.20769333, 0.23589264, 0.23689399, 0.22596747, 0.2440565 ,\n",
              "        0.19496601, 0.24621463, 0.29331072, 0.2888798 , 0.25681877,\n",
              "        0.20499892, 0.252854  , 0.24714895, 0.22012838, 0.23781574,\n",
              "        0.22389936, 0.20111033, 0.17168207, 0.17823557, 0.24995136,\n",
              "        0.25939892, 0.30003559, 0.16668824, 0.32519459, 0.20474238,\n",
              "        0.23873696, 0.20233241, 0.19771954, 0.15395524, 0.14702348,\n",
              "        0.1834865 , 0.23891804, 0.21811792, 0.14476826, 0.16825975,\n",
              "        0.13842891, 0.16755777, 0.2272695 , 0.83583765]),\n",
              " 'std_test_score': array([0.02983641, 0.0301579 , 0.02986306, 0.02987806, 0.02828007,\n",
              "        0.02844119, 0.0266098 , 0.02983641, 0.0301579 , 0.02986306,\n",
              "        0.02987806, 0.02828007, 0.02844119, 0.0266098 , 0.02983641,\n",
              "        0.0301579 , 0.02986306, 0.02987806, 0.02828007, 0.02844119,\n",
              "        0.0266098 , 0.02983641, 0.0301579 , 0.02986306, 0.02987806,\n",
              "        0.02828007, 0.02844119, 0.0266098 , 0.02983641, 0.0301579 ,\n",
              "        0.02986306, 0.02987806, 0.02828007, 0.02844119, 0.0266098 ,\n",
              "        0.02983641, 0.0301579 , 0.02986306, 0.02987806, 0.02828007,\n",
              "        0.02844119, 0.0266098 , 0.02983641, 0.0301579 , 0.02986306,\n",
              "        0.02987806, 0.02828007, 0.02844119, 0.0266098 , 0.02983641,\n",
              "        0.0301579 , 0.02986306, 0.02987806, 0.02828007, 0.02844119,\n",
              "        0.0266098 , 0.02983641, 0.0301579 , 0.02986306, 0.02987806,\n",
              "        0.02828007, 0.02844119, 0.0266098 , 0.02983641, 0.0301579 ,\n",
              "        0.02986306, 0.02987806, 0.02828007, 0.02844119, 0.0266098 ,\n",
              "        0.02983641, 0.0301579 , 0.02986306, 0.02987806, 0.02828007,\n",
              "        0.02844119, 0.0266098 , 0.02983641, 0.0301579 , 0.02986306,\n",
              "        0.02987806, 0.02828007, 0.02844119, 0.0266098 ])}"
            ]
          },
          "metadata": {},
          "execution_count": 56
        }
      ]
    },
    {
      "cell_type": "code",
      "metadata": {
        "colab": {
          "base_uri": "https://localhost:8080/",
          "height": 282
        },
        "id": "olGWTdasg-5I",
        "outputId": "66b7924d-fd4b-462c-b5a8-aac6a89213c4"
      },
      "source": [
        "\n",
        "\n",
        "\n",
        "plt.scatter(gsearch1.cv_results_['mean_test_score'],gsearch1.cv_results_['param_n_neighbors'])\n",
        "#gsearch1.cv_results_['param_leaf_size'], gsearch1.cv_results_['mean_test_score']"
      ],
      "execution_count": null,
      "outputs": [
        {
          "output_type": "execute_result",
          "data": {
            "text/plain": [
              "<matplotlib.collections.PathCollection at 0x7f71dd1d9e50>"
            ]
          },
          "metadata": {},
          "execution_count": 89
        },
        {
          "output_type": "display_data",
          "data": {
            "image/png": "[encoded data removed]",
            "text/plain": [
              "<Figure size 432x288 with 1 Axes>"
            ]
          },
          "metadata": {
            "needs_background": "light"
          }
        }
      ]
    },
    {
      "cell_type": "code",
      "metadata": {
        "colab": {
          "base_uri": "https://localhost:8080/"
        },
        "id": "-EAsVMtrNB7L",
        "outputId": "33bd7ba6-0c3f-4fda-87b0-1c1014b95c30"
      },
      "source": [
        "from sklearn.neighbors import KNeighborsClassifier\n",
        "\n",
        "\n",
        "param_knn = {}\n",
        "param_knn['n_neighbors'] = 400\n",
        "param_knn['leaf_size'] = 50\n",
        "\n",
        "knn = KNeighborsClassifier(**param_knn)\n",
        "knn.fit(X_train,y_train)\n",
        "\n",
        "y_test_pred = knn.predict(X_test)\n",
        "y_train_pred= knn.predict(X_train)\n",
        "\n",
        "from sklearn.metrics import confusion_matrix\n",
        "from sklearn.metrics import accuracy_score\n",
        "\n",
        "\n",
        "print(f'Train score {accuracy_score(y_train_pred,y_train)}')\n",
        "print(f'Test score {accuracy_score(y_test_pred,y_test)}')"
      ],
      "execution_count": null,
      "outputs": [
        {
          "output_type": "stream",
          "name": "stdout",
          "text": [
            "Train score 0.677584698087261\n",
            "Test score 0.6821862348178138\n"
          ]
        }
      ]
    },
    {
      "cell_type": "code",
      "metadata": {
        "colab": {
          "base_uri": "https://localhost:8080/"
        },
        "id": "zReW72Himxs7",
        "outputId": "2df365b6-f158-4ffa-c6e9-dc8bccfbc187"
      },
      "source": [
        "from sklearn.neighbors import KNeighborsClassifier\n",
        "\n",
        "\n",
        "param_knn = {}\n",
        "param_knn['n_neighbors'] = 400\n",
        "param_knn['leaf_size'] = 25\n",
        "\n",
        "knn = KNeighborsClassifier(**param_knn)\n",
        "knn.fit(X_train,y_train)\n",
        "\n",
        "y_test_pred = knn.predict(X_test)\n",
        "y_train_pred= knn.predict(X_train)\n",
        "\n",
        "from sklearn.metrics import confusion_matrix\n",
        "from sklearn.metrics import accuracy_score\n",
        "\n",
        "\n",
        "print(f'Train score {accuracy_score(y_train_pred,y_train)}')\n",
        "print(f'Test score {accuracy_score(y_test_pred,y_test)}')"
      ],
      "execution_count": null,
      "outputs": [
        {
          "output_type": "stream",
          "name": "stdout",
          "text": [
            "Train score 0.677584698087261\n",
            "Test score 0.6821862348178138\n"
          ]
        }
      ]
    },
    {
      "cell_type": "code",
      "metadata": {
        "colab": {
          "base_uri": "https://localhost:8080/"
        },
        "id": "Jg8XD0pOnEiw",
        "outputId": "2e0c4d04-71d5-49c3-99ef-34b30b261046"
      },
      "source": [
        "from sklearn.neighbors import KNeighborsClassifier\n",
        "\n",
        "\n",
        "param_knn = {}\n",
        "param_knn['n_neighbors'] = 400\n",
        "param_knn['leaf_size'] = 100\n",
        "\n",
        "knn = KNeighborsClassifier(**param_knn)\n",
        "knn.fit(X_train,y_train)\n",
        "\n",
        "y_test_pred = knn.predict(X_test)\n",
        "y_train_pred= knn.predict(X_train)\n",
        "\n",
        "from sklearn.metrics import confusion_matrix\n",
        "from sklearn.metrics import accuracy_score\n",
        "\n",
        "\n",
        "print(f'Train score {accuracy_score(y_train_pred,y_train)}')\n",
        "print(f'Test score {accuracy_score(y_test_pred,y_test)}')"
      ],
      "execution_count": null,
      "outputs": [
        {
          "output_type": "stream",
          "name": "stdout",
          "text": [
            "Train score 0.677584698087261\n",
            "Test score 0.6821862348178138\n"
          ]
        }
      ]
    },
    {
      "cell_type": "code",
      "metadata": {
        "colab": {
          "base_uri": "https://localhost:8080/"
        },
        "id": "c8mk29RHnLXj",
        "outputId": "0c341877-6640-470d-b004-1f855e98f46c"
      },
      "source": [
        "from sklearn.neighbors import KNeighborsClassifier\n",
        "\n",
        "\n",
        "param_knn = {}\n",
        "param_knn['n_neighbors'] = 200\n",
        "param_knn['leaf_size'] = 100\n",
        "\n",
        "knn = KNeighborsClassifier(**param_knn)\n",
        "knn.fit(X_train,y_train)\n",
        "\n",
        "y_test_pred = knn.predict(X_test)\n",
        "y_train_pred= knn.predict(X_train)\n",
        "\n",
        "from sklearn.metrics import confusion_matrix\n",
        "from sklearn.metrics import accuracy_score\n",
        "\n",
        "\n",
        "print(f'Train score {accuracy_score(y_train_pred,y_train)}')\n",
        "print(f'Test score {accuracy_score(y_test_pred,y_test)}')"
      ],
      "execution_count": null,
      "outputs": [
        {
          "output_type": "stream",
          "name": "stdout",
          "text": [
            "Train score 0.6810851356419553\n",
            "Test score 0.6821862348178138\n"
          ]
        }
      ]
    },
    {
      "cell_type": "code",
      "metadata": {
        "colab": {
          "base_uri": "https://localhost:8080/"
        },
        "id": "C3lQeM53nPkK",
        "outputId": "796c8fa1-f5ea-42ff-e073-44241d7a6008"
      },
      "source": [
        "from sklearn.neighbors import KNeighborsClassifier\n",
        "\n",
        "\n",
        "param_knn = {}\n",
        "param_knn['n_neighbors'] = 800\n",
        "param_knn['leaf_size'] = 100\n",
        "\n",
        "knn = KNeighborsClassifier(**param_knn)\n",
        "knn.fit(X_train,y_train)\n",
        "\n",
        "y_test_pred = knn.predict(X_test)\n",
        "y_train_pred= knn.predict(X_train)\n",
        "\n",
        "from sklearn.metrics import confusion_matrix\n",
        "from sklearn.metrics import accuracy_score\n",
        "\n",
        "\n",
        "print(f'Train score {accuracy_score(y_train_pred,y_train)}')\n",
        "print(f'Test score {accuracy_score(y_test_pred,y_test)}')"
      ],
      "execution_count": null,
      "outputs": [
        {
          "output_type": "stream",
          "name": "stdout",
          "text": [
            "Train score 0.6740842605325665\n",
            "Test score 0.6761133603238867\n"
          ]
        }
      ]
    }
  ]
}